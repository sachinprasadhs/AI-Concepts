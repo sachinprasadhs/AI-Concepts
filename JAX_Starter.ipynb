{
  "nbformat": 4,
  "nbformat_minor": 0,
  "metadata": {
    "colab": {
      "provenance": [],
      "gpuType": "T4"
    },
    "kernelspec": {
      "name": "python3",
      "display_name": "Python 3"
    },
    "language_info": {
      "name": "python"
    },
    "accelerator": "GPU"
  },
  "cells": [
    {
      "cell_type": "markdown",
      "source": [
        "## Summary\n",
        "\n",
        "1. JAX Arrays are immutable.\n",
        "2. JAX relies on functional programming.\n",
        "3. JAX generates random numbers in a different way.\n",
        "4. JAX is not stateful, we have to pass the state explicitly.\n",
        "5. JAX is accelerator agnositic."
      ],
      "metadata": {
        "id": "Fh-KOm_HABrO"
      }
    },
    {
      "cell_type": "code",
      "source": [
        "from jax import random, device_put, jit, grad, vmap, lax, make_jaxpr\n",
        "import jax.numpy as jnp\n",
        "import numpy as np\n",
        "\n",
        "import matplotlib.pyplot as plt\n",
        "\n",
        "%matplotlib inline"
      ],
      "metadata": {
        "id": "2rbpU60c__86"
      },
      "execution_count": null,
      "outputs": []
    },
    {
      "cell_type": "markdown",
      "source": [
        "## Dot Product Impact"
      ],
      "metadata": {
        "id": "yTesLb0AAG9s"
      }
    },
    {
      "cell_type": "code",
      "source": [
        "size = 3000\n",
        "seed = 1432\n",
        "key = random.PRNGKey(seed)\n",
        "\n",
        "\n",
        "x_jnp = random.normal(key, (size, size), dtype=jnp.float32) # JAX Array\n",
        "x_np = np.random.normal(size=(size, size)).astype(np.float32) # Numpy Array\n",
        "\n",
        "\n",
        "\n",
        "%timeit jnp.dot(x_jnp, x_jnp.T).block_until_ready() # 1 - on GPU -> Fast\n",
        "%timeit np.dot(x_np, x_np.T) # 2 - on CPU -> Slow (numpy array only works on CPU's)\n",
        "%timeit jnp.dot(x_np, x_np.T).block_until_ready() # 3 - on GPU with transfer overhead from numpy array to jax array\n",
        "\n",
        "\n",
        "x_np_device = device_put(x_np) # push numpy array explicitly to GPU\n",
        "%timeit jnp.dot(x_np_device, x_np_device.T).block_until_ready() # same as 1"
      ],
      "metadata": {
        "colab": {
          "base_uri": "https://localhost:8080/"
        },
        "id": "11Ij0yAuAGw9",
        "outputId": "2bcc5cfd-02c4-4a68-d7a0-28ec255277e9"
      },
      "execution_count": null,
      "outputs": [
        {
          "output_type": "stream",
          "name": "stdout",
          "text": [
            "12.6 ms ± 1.12 ms per loop (mean ± std. dev. of 7 runs, 1 loop each)\n",
            "435 ms ± 118 ms per loop (mean ± std. dev. of 7 runs, 1 loop each)\n",
            "37.8 ms ± 4.3 ms per loop (mean ± std. dev. of 7 runs, 10 loops each)\n",
            "13.5 ms ± 51.5 µs per loop (mean ± std. dev. of 7 runs, 100 loops each)\n"
          ]
        }
      ]
    },
    {
      "cell_type": "markdown",
      "source": [
        "## JIT (`jit`)"
      ],
      "metadata": {
        "id": "1-Ekjw9vCyhw"
      }
    },
    {
      "cell_type": "code",
      "source": [
        "def visualize_fn(fn, l=-10, r=10, n=1000):\n",
        "  x = np.linspace(l, r, num=n)\n",
        "  y = fn(x)\n",
        "  plt.plot(x, y)\n",
        "  plt.show()"
      ],
      "metadata": {
        "id": "vq_tOvnPANRv"
      },
      "execution_count": null,
      "outputs": []
    },
    {
      "cell_type": "code",
      "source": [
        "def selu(x, alpha=1.67, lmbda=1.05): # selu an activation function\n",
        "  return lmbda * jnp.where(x > 0, x, alpha * jnp.exp(x) - alpha)\n",
        "\n",
        "\n",
        "selu_jit = jit(selu) # let make compile it using jit\n",
        "\n",
        "visualize_fn(selu)\n",
        "\n",
        "# Benchmark non-jit vs jit version\n",
        "data = random.normal(key, (10000000, ))\n",
        "\n",
        "print('non-jit version:')\n",
        "%timeit selu(data).block_until_ready()\n",
        "\n",
        "print('jit version:')\n",
        "%timeit selu_jit(data).block_until_ready()"
      ],
      "metadata": {
        "colab": {
          "base_uri": "https://localhost:8080/",
          "height": 499
        },
        "id": "poqo_-InDSzV",
        "outputId": "18211063-1e63-4eca-f637-9a229633e4b7"
      },
      "execution_count": null,
      "outputs": [
        {
          "output_type": "display_data",
          "data": {
            "text/plain": [
              "<Figure size 640x480 with 1 Axes>"
            ],
            "image/png": "[encoded data removed]"
          },
          "metadata": {}
        },
        {
          "output_type": "stream",
          "name": "stdout",
          "text": [
            "non-jit version:\n",
            "3.17 ms ± 543 µs per loop (mean ± std. dev. of 7 runs, 100 loops each)\n",
            "jit version:\n",
            "519 µs ± 6.79 µs per loop (mean ± std. dev. of 7 runs, 1000 loops each)\n"
          ]
        }
      ]
    },
    {
      "cell_type": "code",
      "source": [
        "# Example of failure: array shapes must be static\n",
        "\n",
        "def get_negatives(x):\n",
        "  return x[x < 0]\n",
        "\n",
        "x = random.normal(key, (10,), dtype=jnp.float32)\n",
        "print(get_negatives(x))\n",
        "\n",
        "print(jit(get_negatives)(x))"
      ],
      "metadata": {
        "colab": {
          "base_uri": "https://localhost:8080/",
          "height": 408
        },
        "id": "tPM_R9_5UER-",
        "outputId": "732b388e-8b63-44d3-a0c3-4704cc035ba4"
      },
      "execution_count": null,
      "outputs": [
        {
          "output_type": "stream",
          "name": "stdout",
          "text": [
            "[-0.24197772 -1.2128664  -1.6509197  -0.47618896 -0.0655551  -0.9115017 ]\n"
          ]
        },
        {
          "output_type": "error",
          "ename": "NonConcreteBooleanIndexError",
          "evalue": "Array boolean indices must be concrete; got ShapedArray(bool[10])\n\nSee https://jax.readthedocs.io/en/latest/errors.html#jax.errors.NonConcreteBooleanIndexError",
          "traceback": [
            "\u001b[0;31m---------------------------------------------------------------------------\u001b[0m",
            "\u001b[0;31mNonConcreteBooleanIndexError\u001b[0m              Traceback (most recent call last)",
            "\u001b[0;32m<ipython-input-49-8f451e4eb78a>\u001b[0m in \u001b[0;36m<cell line: 9>\u001b[0;34m()\u001b[0m\n\u001b[1;32m      7\u001b[0m \u001b[0mprint\u001b[0m\u001b[0;34m(\u001b[0m\u001b[0mget_negatives\u001b[0m\u001b[0;34m(\u001b[0m\u001b[0mx\u001b[0m\u001b[0;34m)\u001b[0m\u001b[0;34m)\u001b[0m\u001b[0;34m\u001b[0m\u001b[0;34m\u001b[0m\u001b[0m\n\u001b[1;32m      8\u001b[0m \u001b[0;34m\u001b[0m\u001b[0m\n\u001b[0;32m----> 9\u001b[0;31m \u001b[0mprint\u001b[0m\u001b[0;34m(\u001b[0m\u001b[0mjit\u001b[0m\u001b[0;34m(\u001b[0m\u001b[0mget_negatives\u001b[0m\u001b[0;34m)\u001b[0m\u001b[0;34m(\u001b[0m\u001b[0mx\u001b[0m\u001b[0;34m)\u001b[0m\u001b[0;34m)\u001b[0m\u001b[0;34m\u001b[0m\u001b[0;34m\u001b[0m\u001b[0m\n\u001b[0m",
            "    \u001b[0;31m[... skipping hidden 12 frame]\u001b[0m\n",
            "\u001b[0;32m<ipython-input-49-8f451e4eb78a>\u001b[0m in \u001b[0;36mget_negatives\u001b[0;34m(x)\u001b[0m\n\u001b[1;32m      2\u001b[0m \u001b[0;34m\u001b[0m\u001b[0m\n\u001b[1;32m      3\u001b[0m \u001b[0;32mdef\u001b[0m \u001b[0mget_negatives\u001b[0m\u001b[0;34m(\u001b[0m\u001b[0mx\u001b[0m\u001b[0;34m)\u001b[0m\u001b[0;34m:\u001b[0m\u001b[0;34m\u001b[0m\u001b[0;34m\u001b[0m\u001b[0m\n\u001b[0;32m----> 4\u001b[0;31m   \u001b[0;32mreturn\u001b[0m \u001b[0mx\u001b[0m\u001b[0;34m[\u001b[0m\u001b[0mx\u001b[0m \u001b[0;34m<\u001b[0m \u001b[0;36m0\u001b[0m\u001b[0;34m]\u001b[0m\u001b[0;34m\u001b[0m\u001b[0;34m\u001b[0m\u001b[0m\n\u001b[0m\u001b[1;32m      5\u001b[0m \u001b[0;34m\u001b[0m\u001b[0m\n\u001b[1;32m      6\u001b[0m \u001b[0mx\u001b[0m \u001b[0;34m=\u001b[0m \u001b[0mrandom\u001b[0m\u001b[0;34m.\u001b[0m\u001b[0mnormal\u001b[0m\u001b[0;34m(\u001b[0m\u001b[0mkey\u001b[0m\u001b[0;34m,\u001b[0m \u001b[0;34m(\u001b[0m\u001b[0;36m10\u001b[0m\u001b[0;34m,\u001b[0m\u001b[0;34m)\u001b[0m\u001b[0;34m,\u001b[0m \u001b[0mdtype\u001b[0m\u001b[0;34m=\u001b[0m\u001b[0mjnp\u001b[0m\u001b[0;34m.\u001b[0m\u001b[0mfloat32\u001b[0m\u001b[0;34m)\u001b[0m\u001b[0;34m\u001b[0m\u001b[0;34m\u001b[0m\u001b[0m\n",
            "\u001b[0;32m/usr/local/lib/python3.10/dist-packages/jax/_src/numpy/array_methods.py\u001b[0m in \u001b[0;36mop\u001b[0;34m(self, *args)\u001b[0m\n\u001b[1;32m    741\u001b[0m \u001b[0;32mdef\u001b[0m \u001b[0m_forward_operator_to_aval\u001b[0m\u001b[0;34m(\u001b[0m\u001b[0mname\u001b[0m\u001b[0;34m)\u001b[0m\u001b[0;34m:\u001b[0m\u001b[0;34m\u001b[0m\u001b[0;34m\u001b[0m\u001b[0m\n\u001b[1;32m    742\u001b[0m   \u001b[0;32mdef\u001b[0m \u001b[0mop\u001b[0m\u001b[0;34m(\u001b[0m\u001b[0mself\u001b[0m\u001b[0;34m,\u001b[0m \u001b[0;34m*\u001b[0m\u001b[0margs\u001b[0m\u001b[0;34m)\u001b[0m\u001b[0;34m:\u001b[0m\u001b[0;34m\u001b[0m\u001b[0;34m\u001b[0m\u001b[0m\n\u001b[0;32m--> 743\u001b[0;31m     \u001b[0;32mreturn\u001b[0m \u001b[0mgetattr\u001b[0m\u001b[0;34m(\u001b[0m\u001b[0mself\u001b[0m\u001b[0;34m.\u001b[0m\u001b[0maval\u001b[0m\u001b[0;34m,\u001b[0m \u001b[0;34mf\"_{name}\"\u001b[0m\u001b[0;34m)\u001b[0m\u001b[0;34m(\u001b[0m\u001b[0mself\u001b[0m\u001b[0;34m,\u001b[0m \u001b[0;34m*\u001b[0m\u001b[0margs\u001b[0m\u001b[0;34m)\u001b[0m\u001b[0;34m\u001b[0m\u001b[0;34m\u001b[0m\u001b[0m\n\u001b[0m\u001b[1;32m    744\u001b[0m   \u001b[0;32mreturn\u001b[0m \u001b[0mop\u001b[0m\u001b[0;34m\u001b[0m\u001b[0;34m\u001b[0m\u001b[0m\n\u001b[1;32m    745\u001b[0m \u001b[0;34m\u001b[0m\u001b[0m\n",
            "\u001b[0;32m/usr/local/lib/python3.10/dist-packages/jax/_src/numpy/array_methods.py\u001b[0m in \u001b[0;36m_getitem\u001b[0;34m(self, item)\u001b[0m\n\u001b[1;32m    354\u001b[0m \u001b[0;34m\u001b[0m\u001b[0m\n\u001b[1;32m    355\u001b[0m \u001b[0;32mdef\u001b[0m \u001b[0m_getitem\u001b[0m\u001b[0;34m(\u001b[0m\u001b[0mself\u001b[0m\u001b[0;34m,\u001b[0m \u001b[0mitem\u001b[0m\u001b[0;34m)\u001b[0m\u001b[0;34m:\u001b[0m\u001b[0;34m\u001b[0m\u001b[0;34m\u001b[0m\u001b[0m\n\u001b[0;32m--> 356\u001b[0;31m   \u001b[0;32mreturn\u001b[0m \u001b[0mlax_numpy\u001b[0m\u001b[0;34m.\u001b[0m\u001b[0m_rewriting_take\u001b[0m\u001b[0;34m(\u001b[0m\u001b[0mself\u001b[0m\u001b[0;34m,\u001b[0m \u001b[0mitem\u001b[0m\u001b[0;34m)\u001b[0m\u001b[0;34m\u001b[0m\u001b[0;34m\u001b[0m\u001b[0m\n\u001b[0m\u001b[1;32m    357\u001b[0m \u001b[0;34m\u001b[0m\u001b[0m\n\u001b[1;32m    358\u001b[0m \u001b[0;31m# Syntactic sugar for scatter operations.\u001b[0m\u001b[0;34m\u001b[0m\u001b[0;34m\u001b[0m\u001b[0m\n",
            "\u001b[0;32m/usr/local/lib/python3.10/dist-packages/jax/_src/numpy/lax_numpy.py\u001b[0m in \u001b[0;36m_rewriting_take\u001b[0;34m(arr, idx, indices_are_sorted, unique_indices, mode, fill_value)\u001b[0m\n\u001b[1;32m   4491\u001b[0m         \u001b[0;32mreturn\u001b[0m \u001b[0mlax\u001b[0m\u001b[0;34m.\u001b[0m\u001b[0mdynamic_index_in_dim\u001b[0m\u001b[0;34m(\u001b[0m\u001b[0marr\u001b[0m\u001b[0;34m,\u001b[0m \u001b[0midx\u001b[0m\u001b[0;34m,\u001b[0m \u001b[0mkeepdims\u001b[0m\u001b[0;34m=\u001b[0m\u001b[0;32mFalse\u001b[0m\u001b[0;34m)\u001b[0m\u001b[0;34m\u001b[0m\u001b[0;34m\u001b[0m\u001b[0m\n\u001b[1;32m   4492\u001b[0m \u001b[0;34m\u001b[0m\u001b[0m\n\u001b[0;32m-> 4493\u001b[0;31m   \u001b[0mtreedef\u001b[0m\u001b[0;34m,\u001b[0m \u001b[0mstatic_idx\u001b[0m\u001b[0;34m,\u001b[0m \u001b[0mdynamic_idx\u001b[0m \u001b[0;34m=\u001b[0m \u001b[0m_split_index_for_jit\u001b[0m\u001b[0;34m(\u001b[0m\u001b[0midx\u001b[0m\u001b[0;34m,\u001b[0m \u001b[0marr\u001b[0m\u001b[0;34m.\u001b[0m\u001b[0mshape\u001b[0m\u001b[0;34m)\u001b[0m\u001b[0;34m\u001b[0m\u001b[0;34m\u001b[0m\u001b[0m\n\u001b[0m\u001b[1;32m   4494\u001b[0m   return _gather(arr, treedef, static_idx, dynamic_idx, indices_are_sorted,\n\u001b[1;32m   4495\u001b[0m                  unique_indices, mode, fill_value)\n",
            "\u001b[0;32m/usr/local/lib/python3.10/dist-packages/jax/_src/numpy/lax_numpy.py\u001b[0m in \u001b[0;36m_split_index_for_jit\u001b[0;34m(idx, shape)\u001b[0m\n\u001b[1;32m   4569\u001b[0m   \u001b[0;31m# Expand any (concrete) boolean indices. We can then use advanced integer\u001b[0m\u001b[0;34m\u001b[0m\u001b[0;34m\u001b[0m\u001b[0m\n\u001b[1;32m   4570\u001b[0m   \u001b[0;31m# indexing logic to handle them.\u001b[0m\u001b[0;34m\u001b[0m\u001b[0;34m\u001b[0m\u001b[0m\n\u001b[0;32m-> 4571\u001b[0;31m   \u001b[0midx\u001b[0m \u001b[0;34m=\u001b[0m \u001b[0m_expand_bool_indices\u001b[0m\u001b[0;34m(\u001b[0m\u001b[0midx\u001b[0m\u001b[0;34m,\u001b[0m \u001b[0mshape\u001b[0m\u001b[0;34m)\u001b[0m\u001b[0;34m\u001b[0m\u001b[0;34m\u001b[0m\u001b[0m\n\u001b[0m\u001b[1;32m   4572\u001b[0m \u001b[0;34m\u001b[0m\u001b[0m\n\u001b[1;32m   4573\u001b[0m   \u001b[0mleaves\u001b[0m\u001b[0;34m,\u001b[0m \u001b[0mtreedef\u001b[0m \u001b[0;34m=\u001b[0m \u001b[0mtree_flatten\u001b[0m\u001b[0;34m(\u001b[0m\u001b[0midx\u001b[0m\u001b[0;34m)\u001b[0m\u001b[0;34m\u001b[0m\u001b[0;34m\u001b[0m\u001b[0m\n",
            "\u001b[0;32m/usr/local/lib/python3.10/dist-packages/jax/_src/numpy/lax_numpy.py\u001b[0m in \u001b[0;36m_expand_bool_indices\u001b[0;34m(idx, shape)\u001b[0m\n\u001b[1;32m   4856\u001b[0m       \u001b[0;32mif\u001b[0m \u001b[0;32mnot\u001b[0m \u001b[0mtype\u001b[0m\u001b[0;34m(\u001b[0m\u001b[0mabstract_i\u001b[0m\u001b[0;34m)\u001b[0m \u001b[0;32mis\u001b[0m \u001b[0mConcreteArray\u001b[0m\u001b[0;34m:\u001b[0m\u001b[0;34m\u001b[0m\u001b[0;34m\u001b[0m\u001b[0m\n\u001b[1;32m   4857\u001b[0m         \u001b[0;31m# TODO(mattjj): improve this error by tracking _why_ the indices are not concrete\u001b[0m\u001b[0;34m\u001b[0m\u001b[0;34m\u001b[0m\u001b[0m\n\u001b[0;32m-> 4858\u001b[0;31m         \u001b[0;32mraise\u001b[0m \u001b[0merrors\u001b[0m\u001b[0;34m.\u001b[0m\u001b[0mNonConcreteBooleanIndexError\u001b[0m\u001b[0;34m(\u001b[0m\u001b[0mabstract_i\u001b[0m\u001b[0;34m)\u001b[0m\u001b[0;34m\u001b[0m\u001b[0;34m\u001b[0m\u001b[0m\n\u001b[0m\u001b[1;32m   4859\u001b[0m       \u001b[0;32melif\u001b[0m \u001b[0m_ndim\u001b[0m\u001b[0;34m(\u001b[0m\u001b[0mi\u001b[0m\u001b[0;34m)\u001b[0m \u001b[0;34m==\u001b[0m \u001b[0;36m0\u001b[0m\u001b[0;34m:\u001b[0m\u001b[0;34m\u001b[0m\u001b[0;34m\u001b[0m\u001b[0m\n\u001b[1;32m   4860\u001b[0m         \u001b[0;32mraise\u001b[0m \u001b[0mTypeError\u001b[0m\u001b[0;34m(\u001b[0m\u001b[0;34m\"JAX arrays do not support boolean scalar indices\"\u001b[0m\u001b[0;34m)\u001b[0m\u001b[0;34m\u001b[0m\u001b[0;34m\u001b[0m\u001b[0m\n",
            "\u001b[0;31mNonConcreteBooleanIndexError\u001b[0m: Array boolean indices must be concrete; got ShapedArray(bool[10])\n\nSee https://jax.readthedocs.io/en/latest/errors.html#jax.errors.NonConcreteBooleanIndexError"
          ]
        }
      ]
    },
    {
      "cell_type": "code",
      "source": [
        "# So how does it work in the background ? -> tracing on different levels of abstraction\n",
        "\n",
        "@jit\n",
        "def f(x,y):\n",
        "  print(\"Running f():\")\n",
        "  print(f\" x = {x}\")\n",
        "  print(f\" y = {y}\")\n",
        "  result = jnp.dot(x + 1, y + 1)\n",
        "  print(f\" resut = {result}\")\n",
        "  return result\n",
        "\n",
        "\n",
        "x = np.random.randn(3, 4)\n",
        "y = np.random.randn(4)\n",
        "\n",
        "\n",
        "print(f(x, y))\n",
        "\n",
        "\n",
        "\n",
        "x2 = np.random.randn(3, 4)\n",
        "y2 = np.random.randn(4)\n",
        "\n",
        "\n",
        "print(\"Second Call:\")\n",
        "print(f(x2, y2))\n",
        "\n",
        "\n",
        "\n",
        "# Note: any time we get the same shape and types we just call the compiled fn!"
      ],
      "metadata": {
        "colab": {
          "base_uri": "https://localhost:8080/"
        },
        "id": "pY5iDGOUUfYZ",
        "outputId": "5f60f45d-36f8-4658-f327-06f4b9b2b6e3"
      },
      "execution_count": null,
      "outputs": [
        {
          "output_type": "stream",
          "name": "stdout",
          "text": [
            "Running f():\n",
            " x = Traced<ShapedArray(float32[3,4])>with<DynamicJaxprTrace(level=1/0)>\n",
            " y = Traced<ShapedArray(float32[4])>with<DynamicJaxprTrace(level=1/0)>\n",
            " resut = Traced<ShapedArray(float32[3])>with<DynamicJaxprTrace(level=1/0)>\n",
            "[5.0836024  0.82231104 4.2362638 ]\n",
            "Second Call:\n",
            "[ 4.64573    5.0731072 -0.2917766]\n"
          ]
        }
      ]
    },
    {
      "cell_type": "code",
      "source": [
        "def f(x, y):\n",
        "  return jnp.dot(x+1, y+1)\n",
        "\n",
        "print(make_jaxpr(f)(x, y))"
      ],
      "metadata": {
        "colab": {
          "base_uri": "https://localhost:8080/"
        },
        "id": "UkfAetxGVdbl",
        "outputId": "2196e4a5-7a17-4943-8d54-83e8ee4d884d"
      },
      "execution_count": null,
      "outputs": [
        {
          "output_type": "stream",
          "name": "stdout",
          "text": [
            "{ lambda ; a:f32[3,4] b:f32[4]. let\n",
            "    c:f32[3,4] = add a 1.0\n",
            "    d:f32[4] = add b 1.0\n",
            "    e:f32[3] = dot_general[\n",
            "      dimension_numbers=(([1], [0]), ([], []))\n",
            "      preferred_element_type=float32\n",
            "    ] c d\n",
            "  in (e,) }\n"
          ]
        }
      ]
    },
    {
      "cell_type": "code",
      "source": [
        "# 2nd example of a failure\n",
        "@jit\n",
        "def f(x, neg): # depends on the value - remember tracer cares about shapes and types!\n",
        "  return -x if neg else x\n",
        "\n",
        "f(1, True)"
      ],
      "metadata": {
        "colab": {
          "base_uri": "https://localhost:8080/",
          "height": 426
        },
        "id": "vaHrYVnGVpUB",
        "outputId": "d4bcd672-a41b-4d12-b19d-af6f081a7939"
      },
      "execution_count": null,
      "outputs": [
        {
          "output_type": "error",
          "ename": "TracerBoolConversionError",
          "evalue": "Attempted boolean conversion of traced array with shape bool[]..\nThe error occurred while tracing the function f at <ipython-input-56-a566844e1580>:2 for jit. This concrete value was not available in Python because it depends on the value of the argument neg.\nSee https://jax.readthedocs.io/en/latest/errors.html#jax.errors.TracerBoolConversionError",
          "traceback": [
            "\u001b[0;31m---------------------------------------------------------------------------\u001b[0m",
            "\u001b[0;31mTracerBoolConversionError\u001b[0m                 Traceback (most recent call last)",
            "\u001b[0;32m<ipython-input-56-a566844e1580>\u001b[0m in \u001b[0;36m<cell line: 6>\u001b[0;34m()\u001b[0m\n\u001b[1;32m      4\u001b[0m   \u001b[0;32mreturn\u001b[0m \u001b[0;34m-\u001b[0m\u001b[0mx\u001b[0m \u001b[0;32mif\u001b[0m \u001b[0mneg\u001b[0m \u001b[0;32melse\u001b[0m \u001b[0mx\u001b[0m\u001b[0;34m\u001b[0m\u001b[0;34m\u001b[0m\u001b[0m\n\u001b[1;32m      5\u001b[0m \u001b[0;34m\u001b[0m\u001b[0m\n\u001b[0;32m----> 6\u001b[0;31m \u001b[0mf\u001b[0m\u001b[0;34m(\u001b[0m\u001b[0;36m1\u001b[0m\u001b[0;34m,\u001b[0m \u001b[0;32mTrue\u001b[0m\u001b[0;34m)\u001b[0m\u001b[0;34m\u001b[0m\u001b[0;34m\u001b[0m\u001b[0m\n\u001b[0m",
            "    \u001b[0;31m[... skipping hidden 12 frame]\u001b[0m\n",
            "\u001b[0;32m<ipython-input-56-a566844e1580>\u001b[0m in \u001b[0;36mf\u001b[0;34m(x, neg)\u001b[0m\n\u001b[1;32m      2\u001b[0m \u001b[0;34m@\u001b[0m\u001b[0mjit\u001b[0m\u001b[0;34m\u001b[0m\u001b[0;34m\u001b[0m\u001b[0m\n\u001b[1;32m      3\u001b[0m \u001b[0;32mdef\u001b[0m \u001b[0mf\u001b[0m\u001b[0;34m(\u001b[0m\u001b[0mx\u001b[0m\u001b[0;34m,\u001b[0m \u001b[0mneg\u001b[0m\u001b[0;34m)\u001b[0m\u001b[0;34m:\u001b[0m \u001b[0;31m# depends on the value - remember tracer cares about shapes and types!\u001b[0m\u001b[0;34m\u001b[0m\u001b[0;34m\u001b[0m\u001b[0m\n\u001b[0;32m----> 4\u001b[0;31m   \u001b[0;32mreturn\u001b[0m \u001b[0;34m-\u001b[0m\u001b[0mx\u001b[0m \u001b[0;32mif\u001b[0m \u001b[0mneg\u001b[0m \u001b[0;32melse\u001b[0m \u001b[0mx\u001b[0m\u001b[0;34m\u001b[0m\u001b[0;34m\u001b[0m\u001b[0m\n\u001b[0m\u001b[1;32m      5\u001b[0m \u001b[0;34m\u001b[0m\u001b[0m\n\u001b[1;32m      6\u001b[0m \u001b[0mf\u001b[0m\u001b[0;34m(\u001b[0m\u001b[0;36m1\u001b[0m\u001b[0;34m,\u001b[0m \u001b[0;32mTrue\u001b[0m\u001b[0;34m)\u001b[0m\u001b[0;34m\u001b[0m\u001b[0;34m\u001b[0m\u001b[0m\n",
            "    \u001b[0;31m[... skipping hidden 1 frame]\u001b[0m\n",
            "\u001b[0;32m/usr/local/lib/python3.10/dist-packages/jax/_src/core.py\u001b[0m in \u001b[0;36merror\u001b[0;34m(self, arg)\u001b[0m\n\u001b[1;32m   1508\u001b[0m   \u001b[0;32mif\u001b[0m \u001b[0mfun\u001b[0m \u001b[0;32mis\u001b[0m \u001b[0mbool\u001b[0m\u001b[0;34m:\u001b[0m\u001b[0;34m\u001b[0m\u001b[0;34m\u001b[0m\u001b[0m\n\u001b[1;32m   1509\u001b[0m     \u001b[0;32mdef\u001b[0m \u001b[0merror\u001b[0m\u001b[0;34m(\u001b[0m\u001b[0mself\u001b[0m\u001b[0;34m,\u001b[0m \u001b[0marg\u001b[0m\u001b[0;34m)\u001b[0m\u001b[0;34m:\u001b[0m\u001b[0;34m\u001b[0m\u001b[0;34m\u001b[0m\u001b[0m\n\u001b[0;32m-> 1510\u001b[0;31m       \u001b[0;32mraise\u001b[0m \u001b[0mTracerBoolConversionError\u001b[0m\u001b[0;34m(\u001b[0m\u001b[0marg\u001b[0m\u001b[0;34m)\u001b[0m\u001b[0;34m\u001b[0m\u001b[0;34m\u001b[0m\u001b[0m\n\u001b[0m\u001b[1;32m   1511\u001b[0m   \u001b[0;32melif\u001b[0m \u001b[0mfun\u001b[0m \u001b[0;32min\u001b[0m \u001b[0;34m(\u001b[0m\u001b[0mhex\u001b[0m\u001b[0;34m,\u001b[0m \u001b[0moct\u001b[0m\u001b[0;34m,\u001b[0m \u001b[0moperator\u001b[0m\u001b[0;34m.\u001b[0m\u001b[0mindex\u001b[0m\u001b[0;34m)\u001b[0m\u001b[0;34m:\u001b[0m\u001b[0;34m\u001b[0m\u001b[0;34m\u001b[0m\u001b[0m\n\u001b[1;32m   1512\u001b[0m     \u001b[0;32mdef\u001b[0m \u001b[0merror\u001b[0m\u001b[0;34m(\u001b[0m\u001b[0mself\u001b[0m\u001b[0;34m,\u001b[0m \u001b[0marg\u001b[0m\u001b[0;34m)\u001b[0m\u001b[0;34m:\u001b[0m\u001b[0;34m\u001b[0m\u001b[0;34m\u001b[0m\u001b[0m\n",
            "\u001b[0;31mTracerBoolConversionError\u001b[0m: Attempted boolean conversion of traced array with shape bool[]..\nThe error occurred while tracing the function f at <ipython-input-56-a566844e1580>:2 for jit. This concrete value was not available in Python because it depends on the value of the argument neg.\nSee https://jax.readthedocs.io/en/latest/errors.html#jax.errors.TracerBoolConversionError"
          ]
        }
      ]
    },
    {
      "cell_type": "code",
      "source": [
        "from functools import partial\n",
        "\n",
        "@partial(jit, static_argnums=(1,))\n",
        "def f(x, neg):\n",
        "  print(x)\n",
        "  return -x if neg else x\n",
        "\n",
        "print(f(1, False))\n",
        "print(f(2, True))\n",
        "print(f(2, False))\n",
        "print(f(23, False))"
      ],
      "metadata": {
        "colab": {
          "base_uri": "https://localhost:8080/"
        },
        "id": "njA3EDt_WFHz",
        "outputId": "96ce9513-b0bc-40fd-f937-2f34daa00a6f"
      },
      "execution_count": null,
      "outputs": [
        {
          "output_type": "stream",
          "name": "stdout",
          "text": [
            "Traced<ShapedArray(int32[], weak_type=True)>with<DynamicJaxprTrace(level=1/0)>\n",
            "1\n",
            "Traced<ShapedArray(int32[], weak_type=True)>with<DynamicJaxprTrace(level=1/0)>\n",
            "-2\n",
            "2\n",
            "23\n"
          ]
        }
      ]
    },
    {
      "cell_type": "code",
      "source": [
        "# 3rd example of failure:\n",
        "\n",
        "@jit\n",
        "def f(x):\n",
        "  print(x)\n",
        "  print(x.shape)\n",
        "  print(jnp.array(x.shape).prod())\n",
        "  return x.reshape(jnp.array(x.shape).prod())\n",
        "\n",
        "\n",
        "x = jnp.ones((2, 3))\n",
        "f(x)"
      ],
      "metadata": {
        "colab": {
          "base_uri": "https://localhost:8080/",
          "height": 530
        },
        "id": "XlYhz763b2l-",
        "outputId": "90f8aa86-3ff8-464d-d630-fb39c5ca4ad7"
      },
      "execution_count": null,
      "outputs": [
        {
          "output_type": "stream",
          "name": "stdout",
          "text": [
            "Traced<ShapedArray(float32[2,3])>with<DynamicJaxprTrace(level=1/0)>\n",
            "(2, 3)\n",
            "Traced<ShapedArray(int32[])>with<DynamicJaxprTrace(level=1/0)>\n"
          ]
        },
        {
          "output_type": "error",
          "ename": "TypeError",
          "evalue": "Shapes must be 1D sequences of concrete values of integer type, got [Traced<ShapedArray(int32[])>with<DynamicJaxprTrace(level=1/0)>].\nIf using `jit`, try using `static_argnums` or applying `jit` to smaller subfunctions.\nThe error occurred while tracing the function f at <ipython-input-63-cdb929e8d983>:3 for jit. This value became a tracer due to JAX operations on these lines:\n\n  operation a:i32[2] = convert_element_type[new_dtype=int32 weak_type=False] b\n    from line <ipython-input-63-cdb929e8d983>:8 (f)",
          "traceback": [
            "\u001b[0;31m---------------------------------------------------------------------------\u001b[0m",
            "\u001b[0;31mTypeError\u001b[0m                                 Traceback (most recent call last)",
            "\u001b[0;32m<ipython-input-63-cdb929e8d983>\u001b[0m in \u001b[0;36m<cell line: 12>\u001b[0;34m()\u001b[0m\n\u001b[1;32m     10\u001b[0m \u001b[0;34m\u001b[0m\u001b[0m\n\u001b[1;32m     11\u001b[0m \u001b[0mx\u001b[0m \u001b[0;34m=\u001b[0m \u001b[0mjnp\u001b[0m\u001b[0;34m.\u001b[0m\u001b[0mones\u001b[0m\u001b[0;34m(\u001b[0m\u001b[0;34m(\u001b[0m\u001b[0;36m2\u001b[0m\u001b[0;34m,\u001b[0m \u001b[0;36m3\u001b[0m\u001b[0;34m)\u001b[0m\u001b[0;34m)\u001b[0m\u001b[0;34m\u001b[0m\u001b[0;34m\u001b[0m\u001b[0m\n\u001b[0;32m---> 12\u001b[0;31m \u001b[0mf\u001b[0m\u001b[0;34m(\u001b[0m\u001b[0mx\u001b[0m\u001b[0;34m)\u001b[0m\u001b[0;34m\u001b[0m\u001b[0;34m\u001b[0m\u001b[0m\n\u001b[0m",
            "    \u001b[0;31m[... skipping hidden 12 frame]\u001b[0m\n",
            "\u001b[0;32m<ipython-input-63-cdb929e8d983>\u001b[0m in \u001b[0;36mf\u001b[0;34m(x)\u001b[0m\n\u001b[1;32m      6\u001b[0m   \u001b[0mprint\u001b[0m\u001b[0;34m(\u001b[0m\u001b[0mx\u001b[0m\u001b[0;34m.\u001b[0m\u001b[0mshape\u001b[0m\u001b[0;34m)\u001b[0m\u001b[0;34m\u001b[0m\u001b[0;34m\u001b[0m\u001b[0m\n\u001b[1;32m      7\u001b[0m   \u001b[0mprint\u001b[0m\u001b[0;34m(\u001b[0m\u001b[0mjnp\u001b[0m\u001b[0;34m.\u001b[0m\u001b[0marray\u001b[0m\u001b[0;34m(\u001b[0m\u001b[0mx\u001b[0m\u001b[0;34m.\u001b[0m\u001b[0mshape\u001b[0m\u001b[0;34m)\u001b[0m\u001b[0;34m.\u001b[0m\u001b[0mprod\u001b[0m\u001b[0;34m(\u001b[0m\u001b[0;34m)\u001b[0m\u001b[0;34m)\u001b[0m\u001b[0;34m\u001b[0m\u001b[0;34m\u001b[0m\u001b[0m\n\u001b[0;32m----> 8\u001b[0;31m   \u001b[0;32mreturn\u001b[0m \u001b[0mx\u001b[0m\u001b[0;34m.\u001b[0m\u001b[0mreshape\u001b[0m\u001b[0;34m(\u001b[0m\u001b[0mjnp\u001b[0m\u001b[0;34m.\u001b[0m\u001b[0marray\u001b[0m\u001b[0;34m(\u001b[0m\u001b[0mx\u001b[0m\u001b[0;34m.\u001b[0m\u001b[0mshape\u001b[0m\u001b[0;34m)\u001b[0m\u001b[0;34m.\u001b[0m\u001b[0mprod\u001b[0m\u001b[0;34m(\u001b[0m\u001b[0;34m)\u001b[0m\u001b[0;34m)\u001b[0m\u001b[0;34m\u001b[0m\u001b[0;34m\u001b[0m\u001b[0m\n\u001b[0m\u001b[1;32m      9\u001b[0m \u001b[0;34m\u001b[0m\u001b[0m\n\u001b[1;32m     10\u001b[0m \u001b[0;34m\u001b[0m\u001b[0m\n",
            "    \u001b[0;31m[... skipping hidden 2 frame]\u001b[0m\n",
            "\u001b[0;32m/usr/local/lib/python3.10/dist-packages/jax/_src/numpy/array_methods.py\u001b[0m in \u001b[0;36m_compute_newshape\u001b[0;34m(a, newshape)\u001b[0m\n\u001b[1;32m    121\u001b[0m   \u001b[0;32mexcept\u001b[0m\u001b[0;34m:\u001b[0m\u001b[0;34m\u001b[0m\u001b[0;34m\u001b[0m\u001b[0m\n\u001b[1;32m    122\u001b[0m     \u001b[0mnewshape\u001b[0m \u001b[0;34m=\u001b[0m \u001b[0;34m[\u001b[0m\u001b[0mnewshape\u001b[0m\u001b[0;34m]\u001b[0m\u001b[0;34m\u001b[0m\u001b[0;34m\u001b[0m\u001b[0m\n\u001b[0;32m--> 123\u001b[0;31m   \u001b[0mnewshape\u001b[0m \u001b[0;34m=\u001b[0m \u001b[0mcore\u001b[0m\u001b[0;34m.\u001b[0m\u001b[0mcanonicalize_shape\u001b[0m\u001b[0;34m(\u001b[0m\u001b[0mnewshape\u001b[0m\u001b[0;34m)\u001b[0m  \u001b[0;31m# type: ignore[arg-type]\u001b[0m\u001b[0;34m\u001b[0m\u001b[0;34m\u001b[0m\u001b[0m\n\u001b[0m\u001b[1;32m    124\u001b[0m   \u001b[0mneg1s\u001b[0m \u001b[0;34m=\u001b[0m \u001b[0;34m[\u001b[0m\u001b[0mi\u001b[0m \u001b[0;32mfor\u001b[0m \u001b[0mi\u001b[0m\u001b[0;34m,\u001b[0m \u001b[0md\u001b[0m \u001b[0;32min\u001b[0m \u001b[0menumerate\u001b[0m\u001b[0;34m(\u001b[0m\u001b[0mnewshape\u001b[0m\u001b[0;34m)\u001b[0m \u001b[0;32mif\u001b[0m \u001b[0mtype\u001b[0m\u001b[0;34m(\u001b[0m\u001b[0md\u001b[0m\u001b[0;34m)\u001b[0m \u001b[0;32mis\u001b[0m \u001b[0mint\u001b[0m \u001b[0;32mand\u001b[0m \u001b[0md\u001b[0m \u001b[0;34m==\u001b[0m \u001b[0;34m-\u001b[0m\u001b[0;36m1\u001b[0m\u001b[0;34m]\u001b[0m\u001b[0;34m\u001b[0m\u001b[0;34m\u001b[0m\u001b[0m\n\u001b[1;32m    125\u001b[0m   \u001b[0;32mif\u001b[0m \u001b[0mlen\u001b[0m\u001b[0;34m(\u001b[0m\u001b[0mneg1s\u001b[0m\u001b[0;34m)\u001b[0m \u001b[0;34m>\u001b[0m \u001b[0;36m1\u001b[0m\u001b[0;34m:\u001b[0m\u001b[0;34m\u001b[0m\u001b[0;34m\u001b[0m\u001b[0m\n",
            "\u001b[0;32m/usr/local/lib/python3.10/dist-packages/jax/_src/core.py\u001b[0m in \u001b[0;36mcanonicalize_shape\u001b[0;34m(shape, context)\u001b[0m\n\u001b[1;32m   2128\u001b[0m   \u001b[0;32mexcept\u001b[0m \u001b[0mTypeError\u001b[0m\u001b[0;34m:\u001b[0m\u001b[0;34m\u001b[0m\u001b[0;34m\u001b[0m\u001b[0m\n\u001b[1;32m   2129\u001b[0m     \u001b[0;32mpass\u001b[0m\u001b[0;34m\u001b[0m\u001b[0;34m\u001b[0m\u001b[0m\n\u001b[0;32m-> 2130\u001b[0;31m   \u001b[0;32mraise\u001b[0m \u001b[0m_invalid_shape_error\u001b[0m\u001b[0;34m(\u001b[0m\u001b[0mshape\u001b[0m\u001b[0;34m,\u001b[0m \u001b[0mcontext\u001b[0m\u001b[0;34m)\u001b[0m\u001b[0;34m\u001b[0m\u001b[0;34m\u001b[0m\u001b[0m\n\u001b[0m\u001b[1;32m   2131\u001b[0m \u001b[0;34m\u001b[0m\u001b[0m\n\u001b[1;32m   2132\u001b[0m \u001b[0;32mdef\u001b[0m \u001b[0mcanonicalize_dim\u001b[0m\u001b[0;34m(\u001b[0m\u001b[0md\u001b[0m\u001b[0;34m:\u001b[0m \u001b[0mDimSize\u001b[0m\u001b[0;34m,\u001b[0m \u001b[0mcontext\u001b[0m\u001b[0;34m:\u001b[0m \u001b[0mstr\u001b[0m\u001b[0;34m=\u001b[0m\u001b[0;34m\"\"\u001b[0m\u001b[0;34m)\u001b[0m \u001b[0;34m->\u001b[0m \u001b[0mDimSize\u001b[0m\u001b[0;34m:\u001b[0m\u001b[0;34m\u001b[0m\u001b[0;34m\u001b[0m\u001b[0m\n",
            "\u001b[0;31mTypeError\u001b[0m: Shapes must be 1D sequences of concrete values of integer type, got [Traced<ShapedArray(int32[])>with<DynamicJaxprTrace(level=1/0)>].\nIf using `jit`, try using `static_argnums` or applying `jit` to smaller subfunctions.\nThe error occurred while tracing the function f at <ipython-input-63-cdb929e8d983>:3 for jit. This value became a tracer due to JAX operations on these lines:\n\n  operation a:i32[2] = convert_element_type[new_dtype=int32 weak_type=False] b\n    from line <ipython-input-63-cdb929e8d983>:8 (f)"
          ]
        }
      ]
    },
    {
      "cell_type": "code",
      "source": [
        "@jit\n",
        "def f(x):\n",
        "  return x.reshape((np.prod(x.shape),))\n",
        "\n",
        "f(x)"
      ],
      "metadata": {
        "colab": {
          "base_uri": "https://localhost:8080/"
        },
        "id": "8NNhbXyWc31m",
        "outputId": "783bb46b-9689-4ec4-d060-72fc56a7356f"
      },
      "execution_count": null,
      "outputs": [
        {
          "output_type": "execute_result",
          "data": {
            "text/plain": [
              "Array([1., 1., 1., 1., 1., 1.], dtype=float32)"
            ]
          },
          "metadata": {},
          "execution_count": 65
        }
      ]
    },
    {
      "cell_type": "markdown",
      "source": [
        "## GRAD (`grad`)\n",
        "\n",
        "Differentation can be:\n",
        "  * manual\n",
        "  * symbolic\n",
        "  * numeric\n",
        "  * autmatic! (all deep learning frameworks use this)\n",
        "\n",
        "\n",
        "  **BY default grad calculates the derivate of fn w.r.t 1st paramter!**"
      ],
      "metadata": {
        "id": "recRFm8KEcBo"
      }
    },
    {
      "cell_type": "code",
      "source": [
        "def sum_logistic(x): # any other simple differentable function\n",
        "  return jnp.sum(1.0 / 1.0 + jnp.exp(-x))\n",
        "\n",
        "def sum_of_squares(x):\n",
        "  return jnp.sum(x**2)\n",
        "\n",
        "x = jnp.arange(3.)\n",
        "print(x)\n",
        "loss = sum_logistic\n",
        "\n",
        "# BY default grad calculates the deriate of fn w.r.t 1st paramter!\n",
        "# Here we bundled inputs into a 1st param so it doesn't matter\n",
        "grad_loss = grad(loss)\n",
        "\n",
        "print(\"Sum of Logistic Derivative Loss:\", grad_loss(x))\n",
        "print(\"Summ of Squares Derivative Loss:\", grad(sum_of_squares)(x))"
      ],
      "metadata": {
        "colab": {
          "base_uri": "https://localhost:8080/"
        },
        "id": "dZTwVLDTEH0T",
        "outputId": "4b3f2f73-c9b7-4620-e083-1d1c2921d9fb"
      },
      "execution_count": null,
      "outputs": [
        {
          "output_type": "stream",
          "name": "stdout",
          "text": [
            "[0. 1. 2.]\n",
            "Sum of Logistic Derivative Loss: [-1.         -0.36787948 -0.13533528]\n",
            "Summ of Squares Derivative Loss: [0. 2. 4.]\n"
          ]
        }
      ]
    },
    {
      "cell_type": "code",
      "source": [
        "x = 1.\n",
        "y = 1.\n",
        "f = lambda x, y: x**2 + x + 4 + y**2\n",
        "\n",
        "# visualize_fn(f, l=-1, r=2, n=100)\n",
        "\n",
        "dfdx = grad(f, argnums=(1)) # 2*x + 1 # f will be derivated using first argument which is x\n",
        "d2fdx = grad(dfdx) # 2\n",
        "d3fdx = grad(d2fdx) # 0\n",
        "\n",
        "print(f(x, y), dfdx(x, y), d2fdx(x, y), d3fdx(x, y))\n",
        "\n",
        "\n",
        "# What if we have two inputs\n",
        "\n",
        "# Note1: Closer to math!\n",
        "# Note2: More powerful compared to backward() (Pytorch syntax)"
      ],
      "metadata": {
        "colab": {
          "base_uri": "https://localhost:8080/"
        },
        "id": "P_-fji6SHqeT",
        "outputId": "a0769ca9-21d3-4a8b-9b2c-097ac277cd90"
      },
      "execution_count": null,
      "outputs": [
        {
          "output_type": "stream",
          "name": "stdout",
          "text": [
            "7.0 2.0 0.0 0.0\n"
          ]
        }
      ]
    },
    {
      "cell_type": "markdown",
      "source": [
        "## Jacobian\n",
        "\n",
        "* Can evaluate derivatives for vector valued functions"
      ],
      "metadata": {
        "id": "gicgjWJwKlyb"
      }
    },
    {
      "cell_type": "code",
      "source": [
        "from jax import jacfwd, jacrev\n",
        "\n",
        "\n",
        "f = lambda x,y: x**2 + y**2\n",
        "\n",
        "# df/dx = 2x\n",
        "# df/dy = 2y\n",
        "# J = [df/dx, df/dy]\n",
        "\n",
        "# d2f/dx = 2\n",
        "# d2f/dy 2\n",
        "# d2f/dxdy = 0\n",
        "# d2f/dydx = 0\n",
        "# H = [[d2f/dx, d2f/dxdy], [d2f/dydx, d2f/dy]]\n",
        "\n",
        "\n",
        "def hessian(f):\n",
        "  return jit(jacfwd(jacrev(f, argnums=(0, 1)), argnums=(0, 1)))\n",
        "\n",
        "\n",
        "print(f\"Jacobian = {jacrev(f, argnums=(0, 1))(1., 1.)}\")\n",
        "print(f\"Full Hessian = {hessian(f)(1., 1.)}\")"
      ],
      "metadata": {
        "colab": {
          "base_uri": "https://localhost:8080/"
        },
        "id": "IEKCDtscJFJM",
        "outputId": "4072e52c-5907-4b94-cac9-495cb7ba87f5"
      },
      "execution_count": null,
      "outputs": [
        {
          "output_type": "stream",
          "name": "stdout",
          "text": [
            "Jacobian = (Array(2., dtype=float32, weak_type=True), Array(2., dtype=float32, weak_type=True))\n",
            "Full Hessian = ((Array(2., dtype=float32, weak_type=True), Array(0., dtype=float32, weak_type=True)), (Array(0., dtype=float32, weak_type=True), Array(2., dtype=float32, weak_type=True)))\n"
          ]
        }
      ]
    },
    {
      "cell_type": "code",
      "source": [
        "# Edge case |x|, how does JAX handle it\n",
        "\n",
        "f = lambda x: abs(x)\n",
        "\n",
        "print(f(-1), f(1))\n",
        "\n",
        "dfdx = grad(f)\n",
        "\n",
        "print(dfdx(-0.8)) # zero to positive return positive, even zero returns 1 for all other negative values negative"
      ],
      "metadata": {
        "colab": {
          "base_uri": "https://localhost:8080/"
        },
        "id": "tlrQf0jaMWSv",
        "outputId": "4c8401df-c774-40bf-d7a7-34c575ee4f03"
      },
      "execution_count": null,
      "outputs": [
        {
          "output_type": "stream",
          "name": "stdout",
          "text": [
            "1 1\n",
            "-1.0\n"
          ]
        }
      ]
    },
    {
      "cell_type": "markdown",
      "source": [
        "## VMAP (`vmap`)\n",
        "\n",
        "**Write your functions as if you were dealing with a single datapoint**\n",
        "\n",
        "* It batches a function for you"
      ],
      "metadata": {
        "id": "wnafT1AhM--Y"
      }
    },
    {
      "cell_type": "code",
      "source": [
        "W = random.normal(key, (150, 100))\n",
        "\n",
        "batched_x = random.normal(key, (10, 100)) # a batch of 10 flattened images\n",
        "\n",
        "def apply_matrix(W, x):\n",
        "  return jnp.dot(W, x) # (150, 100) * (10, 100) -> fail as we are only doing dot for one image"
      ],
      "metadata": {
        "id": "lUrWkt4JNCA0"
      },
      "execution_count": null,
      "outputs": []
    },
    {
      "cell_type": "code",
      "source": [
        "def naively_batched_apply_matrix(W, batched_x):\n",
        "  return jnp.stack([apply_matrix(W, x) for x in batched_x])\n",
        "\n",
        "print(\"Naively batched\")\n",
        "%timeit naively_batched_apply_matrix(W, batched_x).block_until_ready()"
      ],
      "metadata": {
        "colab": {
          "base_uri": "https://localhost:8080/"
        },
        "id": "zg9dHENgOPXQ",
        "outputId": "02d11208-2b8a-4fd6-d22a-e995a40ae9ba"
      },
      "execution_count": null,
      "outputs": [
        {
          "output_type": "stream",
          "name": "stdout",
          "text": [
            "Naively batched\n",
            "2.97 ms ± 82.7 µs per loop (mean ± std. dev. of 7 runs, 100 loops each)\n"
          ]
        }
      ]
    },
    {
      "cell_type": "code",
      "source": [
        "@jit\n",
        "def batched_apply_matrix(W, batched_x):\n",
        "  return jnp.dot(batched_x, W.T) #(10, 100) * (100, 150) -> (10, 150)\n",
        "\n",
        "\n",
        "print(\"Manually batched\")\n",
        "%timeit batched_apply_matrix(W, batched_x).block_until_ready()"
      ],
      "metadata": {
        "colab": {
          "base_uri": "https://localhost:8080/"
        },
        "id": "5i9NuCOvOgD8",
        "outputId": "07c91a0c-63bb-4163-b7b9-a7ab30523cf0"
      },
      "execution_count": null,
      "outputs": [
        {
          "output_type": "stream",
          "name": "stdout",
          "text": [
            "Manually batched\n",
            "108 µs ± 2.45 µs per loop (mean ± std. dev. of 7 runs, 10000 loops each)\n"
          ]
        }
      ]
    },
    {
      "cell_type": "code",
      "source": [
        "@jit\n",
        "def vmap_batched_apply_matrix(W, batched_x):\n",
        "  return vmap(apply_matrix, in_axes=(None, 0))(W, batched_x)\n",
        "\n",
        "\n",
        "print('Auto-vectorized with vmap')\n",
        "%timeit vmap_batched_apply_matrix(W, batched_x)"
      ],
      "metadata": {
        "colab": {
          "base_uri": "https://localhost:8080/"
        },
        "id": "wVa-FYEpOvEY",
        "outputId": "2042838f-2f1c-422c-a0cf-327368af347e"
      },
      "execution_count": null,
      "outputs": [
        {
          "output_type": "stream",
          "name": "stdout",
          "text": [
            "Auto-vectorized with vmap\n",
            "58.2 µs ± 2.13 µs per loop (mean ± std. dev. of 7 runs, 10000 loops each)\n"
          ]
        }
      ]
    },
    {
      "cell_type": "markdown",
      "source": [
        "## JAX Onion Structured apis\n",
        "\n",
        "* Numpy <-> lax <-> XLA\n",
        "* lax API is stricter and more powerful\n",
        "* It's python wrapper around XLA"
      ],
      "metadata": {
        "id": "kJ5hEA77RQHk"
      }
    },
    {
      "cell_type": "code",
      "source": [
        "# Example 1: lax is stricter\n",
        "\n",
        "print(jnp.add(1, 1.0)) # jax.numpy API implicityly promotes mixed types\n",
        "print(lax.add(1, 1.0)) # lax API has strict datatypes"
      ],
      "metadata": {
        "colab": {
          "base_uri": "https://localhost:8080/",
          "height": 807
        },
        "id": "n7V0E9x9Pao8",
        "outputId": "4711c0b3-24a3-49e4-b13d-36b2eb2159d6"
      },
      "execution_count": null,
      "outputs": [
        {
          "output_type": "stream",
          "name": "stdout",
          "text": [
            "2.0\n"
          ]
        },
        {
          "output_type": "error",
          "ename": "ValueError",
          "evalue": "Cannot lower jaxpr with verifier errors:\n\t'stablehlo.add' op requires compatible types for all operands and results\n\t\tat loc(\"jit(add)/jit(main)/add\"(\"<ipython-input-45-9b91b363f362>\":4:0))\n\tsee current operation: %0 = \"stablehlo.add\"(%arg0, %arg1) : (tensor<i32>, tensor<f32>) -> tensor<i32>\n\t\tat loc(\"jit(add)/jit(main)/add\"(\"<ipython-input-45-9b91b363f362>\":4:0))\nModule string:\n#loc1 = loc(\"args[0]\")\n#loc2 = loc(\"args[1]\")\n\"builtin.module\"() <{sym_name = \"jit_add\"}> ({\n  \"func.func\"() <{arg_attrs = [{mhlo.layout_mode = \"default\", mhlo.sharding = \"{replicated}\"}, {mhlo.layout_mode = \"default\", mhlo.sharding = \"{replicated}\"}], function_type = (tensor<i32>, tensor<f32>) -> tensor<i32>, res_attrs = [{jax.result_info = \"\", mhlo.layout_mode = \"default\"}], sym_name = \"main\", sym_visibility = \"public\"}> ({\n  ^bb0(%arg0: tensor<i32> loc(\"args[0]\"), %arg1: tensor<f32> loc(\"args[1]\")):\n    %0 = \"stablehlo.add\"(%arg0, %arg1) : (tensor<i32>, tensor<f32>) -> tensor<i32> loc(#loc4)\n    \"func.return\"(%0) : (tensor<i32>) -> () loc(#loc)\n  }) : () -> () loc(#loc)\n}) {mhlo.num_partitions = 1 : i32, mhlo.num_replicas = 1 : i32} : () -> () loc(#loc)\n#loc = loc(unknown)\n#loc3 = loc(\"<ipython-input-45-9b91b363f362>\":4:0)\n#loc4 = loc(\"jit(add)/jit(main)/add\"(#loc3))\n",
          "traceback": [
            "\u001b[0;31m---------------------------------------------------------------------------\u001b[0m",
            "\u001b[0;31mMLIRError\u001b[0m                                 Traceback (most recent call last)",
            "\u001b[0;32m/usr/local/lib/python3.10/dist-packages/jax/_src/interpreters/mlir.py\u001b[0m in \u001b[0;36mlower_jaxpr_to_module\u001b[0;34m(***failed resolving arguments***)\u001b[0m\n\u001b[1;32m    864\u001b[0m   \u001b[0;32mtry\u001b[0m\u001b[0;34m:\u001b[0m\u001b[0;34m\u001b[0m\u001b[0;34m\u001b[0m\u001b[0m\n\u001b[0;32m--> 865\u001b[0;31m     \u001b[0;32mif\u001b[0m \u001b[0;32mnot\u001b[0m \u001b[0mctx\u001b[0m\u001b[0;34m.\u001b[0m\u001b[0mmodule\u001b[0m\u001b[0;34m.\u001b[0m\u001b[0moperation\u001b[0m\u001b[0;34m.\u001b[0m\u001b[0mverify\u001b[0m\u001b[0;34m(\u001b[0m\u001b[0;34m)\u001b[0m\u001b[0;34m:\u001b[0m\u001b[0;34m\u001b[0m\u001b[0;34m\u001b[0m\u001b[0m\n\u001b[0m\u001b[1;32m    866\u001b[0m       \u001b[0mmodule_string\u001b[0m \u001b[0;34m=\u001b[0m \u001b[0mmodule_to_string\u001b[0m\u001b[0;34m(\u001b[0m\u001b[0mctx\u001b[0m\u001b[0;34m.\u001b[0m\u001b[0mmodule\u001b[0m\u001b[0;34m)\u001b[0m\u001b[0;34m\u001b[0m\u001b[0;34m\u001b[0m\u001b[0m\n",
            "\u001b[0;31mMLIRError\u001b[0m: Verification failed:\nerror: \"jit(add)/jit(main)/add\"(\"<ipython-input-45-9b91b363f362>\":4:0): 'stablehlo.add' op requires compatible types for all operands and results\n note: \"jit(add)/jit(main)/add\"(\"<ipython-input-45-9b91b363f362>\":4:0): see current operation: %0 = \"stablehlo.add\"(%arg0, %arg1) : (tensor<i32>, tensor<f32>) -> tensor<i32>",
            "\nThe above exception was the direct cause of the following exception:\n",
            "\u001b[0;31mValueError\u001b[0m                                Traceback (most recent call last)",
            "\u001b[0;32m<ipython-input-45-9b91b363f362>\u001b[0m in \u001b[0;36m<cell line: 4>\u001b[0;34m()\u001b[0m\n\u001b[1;32m      2\u001b[0m \u001b[0;34m\u001b[0m\u001b[0m\n\u001b[1;32m      3\u001b[0m \u001b[0mprint\u001b[0m\u001b[0;34m(\u001b[0m\u001b[0mjnp\u001b[0m\u001b[0;34m.\u001b[0m\u001b[0madd\u001b[0m\u001b[0;34m(\u001b[0m\u001b[0;36m1\u001b[0m\u001b[0;34m,\u001b[0m \u001b[0;36m1.0\u001b[0m\u001b[0;34m)\u001b[0m\u001b[0;34m)\u001b[0m \u001b[0;31m# jax.numpy API implicityly promotes mixed types\u001b[0m\u001b[0;34m\u001b[0m\u001b[0;34m\u001b[0m\u001b[0m\n\u001b[0;32m----> 4\u001b[0;31m \u001b[0mprint\u001b[0m\u001b[0;34m(\u001b[0m\u001b[0mlax\u001b[0m\u001b[0;34m.\u001b[0m\u001b[0madd\u001b[0m\u001b[0;34m(\u001b[0m\u001b[0;36m1\u001b[0m\u001b[0;34m,\u001b[0m \u001b[0;36m1.0\u001b[0m\u001b[0;34m)\u001b[0m\u001b[0;34m)\u001b[0m \u001b[0;31m# lax API has strict datatypes\u001b[0m\u001b[0;34m\u001b[0m\u001b[0;34m\u001b[0m\u001b[0m\n\u001b[0m",
            "\u001b[0;32m/usr/local/lib/python3.10/dist-packages/jax/_src/lax/lax.py\u001b[0m in \u001b[0;36madd\u001b[0;34m(x, y)\u001b[0m\n\u001b[1;32m    417\u001b[0m \u001b[0;32mdef\u001b[0m \u001b[0madd\u001b[0m\u001b[0;34m(\u001b[0m\u001b[0mx\u001b[0m\u001b[0;34m:\u001b[0m \u001b[0mArrayLike\u001b[0m\u001b[0;34m,\u001b[0m \u001b[0my\u001b[0m\u001b[0;34m:\u001b[0m \u001b[0mArrayLike\u001b[0m\u001b[0;34m)\u001b[0m \u001b[0;34m->\u001b[0m \u001b[0mArray\u001b[0m\u001b[0;34m:\u001b[0m\u001b[0;34m\u001b[0m\u001b[0;34m\u001b[0m\u001b[0m\n\u001b[1;32m    418\u001b[0m   \u001b[0;34mr\"\"\"Elementwise addition: :math:`x + y`.\"\"\"\u001b[0m\u001b[0;34m\u001b[0m\u001b[0;34m\u001b[0m\u001b[0m\n\u001b[0;32m--> 419\u001b[0;31m   \u001b[0;32mreturn\u001b[0m \u001b[0madd_p\u001b[0m\u001b[0;34m.\u001b[0m\u001b[0mbind\u001b[0m\u001b[0;34m(\u001b[0m\u001b[0mx\u001b[0m\u001b[0;34m,\u001b[0m \u001b[0my\u001b[0m\u001b[0;34m)\u001b[0m\u001b[0;34m\u001b[0m\u001b[0;34m\u001b[0m\u001b[0m\n\u001b[0m\u001b[1;32m    420\u001b[0m \u001b[0;34m\u001b[0m\u001b[0m\n\u001b[1;32m    421\u001b[0m \u001b[0;32mdef\u001b[0m \u001b[0msub\u001b[0m\u001b[0;34m(\u001b[0m\u001b[0mx\u001b[0m\u001b[0;34m:\u001b[0m \u001b[0mArrayLike\u001b[0m\u001b[0;34m,\u001b[0m \u001b[0my\u001b[0m\u001b[0;34m:\u001b[0m \u001b[0mArrayLike\u001b[0m\u001b[0;34m)\u001b[0m \u001b[0;34m->\u001b[0m \u001b[0mArray\u001b[0m\u001b[0;34m:\u001b[0m\u001b[0;34m\u001b[0m\u001b[0;34m\u001b[0m\u001b[0m\n",
            "\u001b[0;32m/usr/local/lib/python3.10/dist-packages/jax/_src/core.py\u001b[0m in \u001b[0;36mbind\u001b[0;34m(self, *args, **params)\u001b[0m\n\u001b[1;32m    442\u001b[0m     assert (not config.enable_checks.value or\n\u001b[1;32m    443\u001b[0m             all(isinstance(arg, Tracer) or valid_jaxtype(arg) for arg in args)), args\n\u001b[0;32m--> 444\u001b[0;31m     \u001b[0;32mreturn\u001b[0m \u001b[0mself\u001b[0m\u001b[0;34m.\u001b[0m\u001b[0mbind_with_trace\u001b[0m\u001b[0;34m(\u001b[0m\u001b[0mfind_top_trace\u001b[0m\u001b[0;34m(\u001b[0m\u001b[0margs\u001b[0m\u001b[0;34m)\u001b[0m\u001b[0;34m,\u001b[0m \u001b[0margs\u001b[0m\u001b[0;34m,\u001b[0m \u001b[0mparams\u001b[0m\u001b[0;34m)\u001b[0m\u001b[0;34m\u001b[0m\u001b[0;34m\u001b[0m\u001b[0m\n\u001b[0m\u001b[1;32m    445\u001b[0m \u001b[0;34m\u001b[0m\u001b[0m\n\u001b[1;32m    446\u001b[0m   \u001b[0;32mdef\u001b[0m \u001b[0mbind_with_trace\u001b[0m\u001b[0;34m(\u001b[0m\u001b[0mself\u001b[0m\u001b[0;34m,\u001b[0m \u001b[0mtrace\u001b[0m\u001b[0;34m,\u001b[0m \u001b[0margs\u001b[0m\u001b[0;34m,\u001b[0m \u001b[0mparams\u001b[0m\u001b[0;34m)\u001b[0m\u001b[0;34m:\u001b[0m\u001b[0;34m\u001b[0m\u001b[0;34m\u001b[0m\u001b[0m\n",
            "\u001b[0;32m/usr/local/lib/python3.10/dist-packages/jax/_src/core.py\u001b[0m in \u001b[0;36mbind_with_trace\u001b[0;34m(self, trace, args, params)\u001b[0m\n\u001b[1;32m    445\u001b[0m \u001b[0;34m\u001b[0m\u001b[0m\n\u001b[1;32m    446\u001b[0m   \u001b[0;32mdef\u001b[0m \u001b[0mbind_with_trace\u001b[0m\u001b[0;34m(\u001b[0m\u001b[0mself\u001b[0m\u001b[0;34m,\u001b[0m \u001b[0mtrace\u001b[0m\u001b[0;34m,\u001b[0m \u001b[0margs\u001b[0m\u001b[0;34m,\u001b[0m \u001b[0mparams\u001b[0m\u001b[0;34m)\u001b[0m\u001b[0;34m:\u001b[0m\u001b[0;34m\u001b[0m\u001b[0;34m\u001b[0m\u001b[0m\n\u001b[0;32m--> 447\u001b[0;31m     \u001b[0mout\u001b[0m \u001b[0;34m=\u001b[0m \u001b[0mtrace\u001b[0m\u001b[0;34m.\u001b[0m\u001b[0mprocess_primitive\u001b[0m\u001b[0;34m(\u001b[0m\u001b[0mself\u001b[0m\u001b[0;34m,\u001b[0m \u001b[0mmap\u001b[0m\u001b[0;34m(\u001b[0m\u001b[0mtrace\u001b[0m\u001b[0;34m.\u001b[0m\u001b[0mfull_raise\u001b[0m\u001b[0;34m,\u001b[0m \u001b[0margs\u001b[0m\u001b[0;34m)\u001b[0m\u001b[0;34m,\u001b[0m \u001b[0mparams\u001b[0m\u001b[0;34m)\u001b[0m\u001b[0;34m\u001b[0m\u001b[0;34m\u001b[0m\u001b[0m\n\u001b[0m\u001b[1;32m    448\u001b[0m     \u001b[0;32mreturn\u001b[0m \u001b[0mmap\u001b[0m\u001b[0;34m(\u001b[0m\u001b[0mfull_lower\u001b[0m\u001b[0;34m,\u001b[0m \u001b[0mout\u001b[0m\u001b[0;34m)\u001b[0m \u001b[0;32mif\u001b[0m \u001b[0mself\u001b[0m\u001b[0;34m.\u001b[0m\u001b[0mmultiple_results\u001b[0m \u001b[0;32melse\u001b[0m \u001b[0mfull_lower\u001b[0m\u001b[0;34m(\u001b[0m\u001b[0mout\u001b[0m\u001b[0;34m)\u001b[0m\u001b[0;34m\u001b[0m\u001b[0;34m\u001b[0m\u001b[0m\n\u001b[1;32m    449\u001b[0m \u001b[0;34m\u001b[0m\u001b[0m\n",
            "\u001b[0;32m/usr/local/lib/python3.10/dist-packages/jax/_src/core.py\u001b[0m in \u001b[0;36mprocess_primitive\u001b[0;34m(self, primitive, tracers, params)\u001b[0m\n\u001b[1;32m    933\u001b[0m \u001b[0;34m\u001b[0m\u001b[0m\n\u001b[1;32m    934\u001b[0m   \u001b[0;32mdef\u001b[0m \u001b[0mprocess_primitive\u001b[0m\u001b[0;34m(\u001b[0m\u001b[0mself\u001b[0m\u001b[0;34m,\u001b[0m \u001b[0mprimitive\u001b[0m\u001b[0;34m,\u001b[0m \u001b[0mtracers\u001b[0m\u001b[0;34m,\u001b[0m \u001b[0mparams\u001b[0m\u001b[0;34m)\u001b[0m\u001b[0;34m:\u001b[0m\u001b[0;34m\u001b[0m\u001b[0;34m\u001b[0m\u001b[0m\n\u001b[0;32m--> 935\u001b[0;31m     \u001b[0;32mreturn\u001b[0m \u001b[0mprimitive\u001b[0m\u001b[0;34m.\u001b[0m\u001b[0mimpl\u001b[0m\u001b[0;34m(\u001b[0m\u001b[0;34m*\u001b[0m\u001b[0mtracers\u001b[0m\u001b[0;34m,\u001b[0m \u001b[0;34m**\u001b[0m\u001b[0mparams\u001b[0m\u001b[0;34m)\u001b[0m\u001b[0;34m\u001b[0m\u001b[0;34m\u001b[0m\u001b[0m\n\u001b[0m\u001b[1;32m    936\u001b[0m \u001b[0;34m\u001b[0m\u001b[0m\n\u001b[1;32m    937\u001b[0m   \u001b[0;32mdef\u001b[0m \u001b[0mprocess_call\u001b[0m\u001b[0;34m(\u001b[0m\u001b[0mself\u001b[0m\u001b[0;34m,\u001b[0m \u001b[0mprimitive\u001b[0m\u001b[0;34m,\u001b[0m \u001b[0mf\u001b[0m\u001b[0;34m,\u001b[0m \u001b[0mtracers\u001b[0m\u001b[0;34m,\u001b[0m \u001b[0mparams\u001b[0m\u001b[0;34m)\u001b[0m\u001b[0;34m:\u001b[0m\u001b[0;34m\u001b[0m\u001b[0;34m\u001b[0m\u001b[0m\n",
            "\u001b[0;32m/usr/local/lib/python3.10/dist-packages/jax/_src/dispatch.py\u001b[0m in \u001b[0;36mapply_primitive\u001b[0;34m(prim, *args, **params)\u001b[0m\n\u001b[1;32m     85\u001b[0m     \u001b[0mprev\u001b[0m \u001b[0;34m=\u001b[0m \u001b[0mlib\u001b[0m\u001b[0;34m.\u001b[0m\u001b[0mjax_jit\u001b[0m\u001b[0;34m.\u001b[0m\u001b[0mswap_thread_local_state_disable_jit\u001b[0m\u001b[0;34m(\u001b[0m\u001b[0;32mFalse\u001b[0m\u001b[0;34m)\u001b[0m\u001b[0;34m\u001b[0m\u001b[0;34m\u001b[0m\u001b[0m\n\u001b[1;32m     86\u001b[0m     \u001b[0;32mtry\u001b[0m\u001b[0;34m:\u001b[0m\u001b[0;34m\u001b[0m\u001b[0;34m\u001b[0m\u001b[0m\n\u001b[0;32m---> 87\u001b[0;31m       \u001b[0mouts\u001b[0m \u001b[0;34m=\u001b[0m \u001b[0mfun\u001b[0m\u001b[0;34m(\u001b[0m\u001b[0;34m*\u001b[0m\u001b[0margs\u001b[0m\u001b[0;34m)\u001b[0m\u001b[0;34m\u001b[0m\u001b[0;34m\u001b[0m\u001b[0m\n\u001b[0m\u001b[1;32m     88\u001b[0m     \u001b[0;32mfinally\u001b[0m\u001b[0;34m:\u001b[0m\u001b[0;34m\u001b[0m\u001b[0;34m\u001b[0m\u001b[0m\n\u001b[1;32m     89\u001b[0m       \u001b[0mlib\u001b[0m\u001b[0;34m.\u001b[0m\u001b[0mjax_jit\u001b[0m\u001b[0;34m.\u001b[0m\u001b[0mswap_thread_local_state_disable_jit\u001b[0m\u001b[0;34m(\u001b[0m\u001b[0mprev\u001b[0m\u001b[0;34m)\u001b[0m\u001b[0;34m\u001b[0m\u001b[0;34m\u001b[0m\u001b[0m\n",
            "    \u001b[0;31m[... skipping hidden 14 frame]\u001b[0m\n",
            "\u001b[0;32m/usr/local/lib/python3.10/dist-packages/jax/_src/interpreters/mlir.py\u001b[0m in \u001b[0;36mlower_jaxpr_to_module\u001b[0;34m(***failed resolving arguments***)\u001b[0m\n\u001b[1;32m    878\u001b[0m     \u001b[0mmsg_lines\u001b[0m\u001b[0;34m.\u001b[0m\u001b[0mappend\u001b[0m\u001b[0;34m(\u001b[0m\u001b[0;34m\"Module string:\"\u001b[0m\u001b[0;34m)\u001b[0m\u001b[0;34m\u001b[0m\u001b[0;34m\u001b[0m\u001b[0m\n\u001b[1;32m    879\u001b[0m     \u001b[0mmsg_lines\u001b[0m\u001b[0;34m.\u001b[0m\u001b[0mappend\u001b[0m\u001b[0;34m(\u001b[0m\u001b[0mmodule_to_string\u001b[0m\u001b[0;34m(\u001b[0m\u001b[0mctx\u001b[0m\u001b[0;34m.\u001b[0m\u001b[0mmodule\u001b[0m\u001b[0;34m)\u001b[0m\u001b[0;34m)\u001b[0m\u001b[0;34m\u001b[0m\u001b[0;34m\u001b[0m\u001b[0m\n\u001b[0;32m--> 880\u001b[0;31m     \u001b[0;32mraise\u001b[0m \u001b[0mValueError\u001b[0m\u001b[0;34m(\u001b[0m\u001b[0;34m\"\\n\"\u001b[0m\u001b[0;34m.\u001b[0m\u001b[0mjoin\u001b[0m\u001b[0;34m(\u001b[0m\u001b[0mmsg_lines\u001b[0m\u001b[0;34m)\u001b[0m\u001b[0;34m)\u001b[0m \u001b[0;32mfrom\u001b[0m \u001b[0me\u001b[0m\u001b[0;34m\u001b[0m\u001b[0;34m\u001b[0m\u001b[0m\n\u001b[0m\u001b[1;32m    881\u001b[0m \u001b[0;34m\u001b[0m\u001b[0m\n\u001b[1;32m    882\u001b[0m   return LoweringResult(ctx.module, ctx.keepalives, ctx.host_callbacks,\n",
            "\u001b[0;31mValueError\u001b[0m: Cannot lower jaxpr with verifier errors:\n\t'stablehlo.add' op requires compatible types for all operands and results\n\t\tat loc(\"jit(add)/jit(main)/add\"(\"<ipython-input-45-9b91b363f362>\":4:0))\n\tsee current operation: %0 = \"stablehlo.add\"(%arg0, %arg1) : (tensor<i32>, tensor<f32>) -> tensor<i32>\n\t\tat loc(\"jit(add)/jit(main)/add\"(\"<ipython-input-45-9b91b363f362>\":4:0))\nModule string:\n#loc1 = loc(\"args[0]\")\n#loc2 = loc(\"args[1]\")\n\"builtin.module\"() <{sym_name = \"jit_add\"}> ({\n  \"func.func\"() <{arg_attrs = [{mhlo.layout_mode = \"default\", mhlo.sharding = \"{replicated}\"}, {mhlo.layout_mode = \"default\", mhlo.sharding = \"{replicated}\"}], function_type = (tensor<i32>, tensor<f32>) -> tensor<i32>, res_attrs = [{jax.result_info = \"\", mhlo.layout_mode = \"default\"}], sym_name = \"main\", sym_visibility = \"public\"}> ({\n  ^bb0(%arg0: tensor<i32> loc(\"args[0]\"), %arg1: tensor<f32> loc(\"args[1]\")):\n    %0 = \"stablehlo.add\"(%arg0, %arg1) : (tensor<i32>, tensor<f32>) -> tensor<i32> loc(#loc4)\n    \"func.return\"(%0) : (tensor<i32>) -> () loc(#loc)\n  }) : () -> () loc(#loc)\n}) {mhlo.num_partitions = 1 : i32, mhlo.num_replicas = 1 : i32} : () -> () loc(#loc)\n#loc = loc(unknown)\n#loc3 = loc(\"<ipython-input-45-9b91b363f362>\":4:0)\n#loc4 = loc(\"jit(add)/jit(main)/add\"(#loc3))\n"
          ]
        }
      ]
    },
    {
      "cell_type": "code",
      "source": [
        "# Example 2: lax is more powerful (but as a tradeoff less user-friendly)\n",
        "\n",
        "x = jnp.array([1, 2, 1])\n",
        "y = jnp.ones(10)\n",
        "\n",
        "# Numpy api\n",
        "result1 = jnp.convolve(x, y)\n",
        "\n",
        "\n",
        "# lax API\n",
        "result2 = lax.conv_general_dilated(\n",
        "    x.reshape(1, 1, 3).astype(float), # note: explicit promotion\n",
        "    y.reshape(1, 1, 10),\n",
        "    window_strides=(1,),\n",
        "    padding=[(len(y) - 1, len(y) - 1)] # equivalent of padding='full' in NumPy\n",
        ")\n",
        "\n",
        "print(result1)\n",
        "print(result2[0][0])\n",
        "\n",
        "assert np.allclose(result1, result2[0][0], atol=1e-6)"
      ],
      "metadata": {
        "colab": {
          "base_uri": "https://localhost:8080/"
        },
        "id": "9XEnu13oR_JI",
        "outputId": "6aa52299-611b-407a-a3e4-943074ab23e9"
      },
      "execution_count": null,
      "outputs": [
        {
          "output_type": "stream",
          "name": "stdout",
          "text": [
            "[1. 3. 4. 4. 4. 4. 4. 4. 4. 4. 3. 1.]\n",
            "[1. 3. 4. 4. 4. 4. 4. 4. 4. 4. 3. 1.]\n"
          ]
        }
      ]
    },
    {
      "cell_type": "markdown",
      "source": [
        "## Pure functions\n",
        "\n",
        "* JAX is designed to work only on pure functions\n",
        "\n",
        "Pure function? Informal definition:\n",
        "1. All the input data is passed through the function parameters, all the results are output through the function results.\n",
        "2. A pure function will always return the same result if invoked with the same inputs."
      ],
      "metadata": {
        "id": "wlZ8QCLMepBK"
      }
    },
    {
      "cell_type": "code",
      "source": [
        "# Example 1\n",
        "\n",
        "def impure_print_side_effect(x):\n",
        "  print(\"Executing function\") # Voilating # 1\n",
        "  return x\n",
        "\n",
        "\n",
        "print(f\"First call: {jit(impure_print_side_effect)(4.)}\")\n",
        "print(f\"Second call: {jit(impure_print_side_effect)(5.)}\")\n",
        "\n",
        "# Subsequent runs with parameters of same type and shape may not show the side-effect\n",
        "# This is because JAX now involes a caced compiled version of the function\n",
        "print(\"Third call:\", jit(impure_print_side_effect)(jnp.array([5.])))\n",
        "\n"
      ],
      "metadata": {
        "colab": {
          "base_uri": "https://localhost:8080/"
        },
        "id": "Q8xhtD4LS0_H",
        "outputId": "4081df96-6971-4139-9047-cbc32f23d505"
      },
      "execution_count": null,
      "outputs": [
        {
          "output_type": "stream",
          "name": "stdout",
          "text": [
            "Executing function\n",
            "First call: 4.0\n",
            "Second call: 5.0\n",
            "Executing function\n",
            "Third call: [5.]\n"
          ]
        }
      ]
    },
    {
      "cell_type": "code",
      "source": [
        "# Example 2\n",
        "\n",
        "g = 0.\n",
        "\n",
        "\n",
        "def impure_uses_globals(x):\n",
        "  return x + g # Voilating both #1 and #2\n",
        "\n",
        "print(\"First call:\", jit(impure_uses_globals)(4.))\n",
        "\n",
        "\n",
        "g = 10.\n",
        "\n",
        "print(\"Second call:\", jit(impure_uses_globals)(5.))\n",
        "\n",
        "\n",
        "print(\"Third call, different type\", jit(impure_uses_globals)(jnp.array([4.])))"
      ],
      "metadata": {
        "colab": {
          "base_uri": "https://localhost:8080/"
        },
        "id": "p3nVczBti0DI",
        "outputId": "f3b29eba-ed49-4808-f665-e5caac409389"
      },
      "execution_count": null,
      "outputs": [
        {
          "output_type": "stream",
          "name": "stdout",
          "text": [
            "First call: 4.0\n",
            "Second call: 5.0\n",
            "Third call, different type [14.]\n"
          ]
        }
      ]
    },
    {
      "cell_type": "code",
      "source": [
        "# Example 3: very important! Haiku/Flax are basically built upon this idea!\n",
        "\n",
        "\n",
        "def pure_uses_internal_state(x):\n",
        "  state = dict(even=0, odd=0)\n",
        "  for i in range(10):\n",
        "    state['even' if i %2 == 0 else 'odd'] += x\n",
        "\n",
        "  return state['even'] + state['odd']\n",
        "\n",
        "print(jit(pure_uses_internal_state)(5.))"
      ],
      "metadata": {
        "colab": {
          "base_uri": "https://localhost:8080/"
        },
        "id": "2XhukP0xjdpv",
        "outputId": "e58d4973-7d05-4ea1-f913-2376629f643c"
      },
      "execution_count": null,
      "outputs": [
        {
          "output_type": "stream",
          "name": "stdout",
          "text": [
            "50.0\n"
          ]
        }
      ]
    },
    {
      "cell_type": "markdown",
      "source": [
        "## Out-of-Bounds Indexing\n",
        "\n",
        "Due to JAX's accelerator agonistic approach JAX had to make a non-error behaviour for out of bounds indexing (similarly to how invalid fp arithmetic in NaNs and not an exception)"
      ],
      "metadata": {
        "id": "_q18LGVgmTA0"
      }
    },
    {
      "cell_type": "code",
      "source": [
        "\n",
        "try:\n",
        "  np.arange(10)[11]\n",
        "except Exception as e:\n",
        "  print(\"Exception {}\".format(e))\n",
        "\n"
      ],
      "metadata": {
        "colab": {
          "base_uri": "https://localhost:8080/"
        },
        "id": "LLNtdLCikJmL",
        "outputId": "16090d04-25a8-4cb2-ac8b-9ddb7ef8f079"
      },
      "execution_count": null,
      "outputs": [
        {
          "output_type": "stream",
          "name": "stdout",
          "text": [
            "Exception index 11 is out of bounds for axis 0 with size 10\n"
          ]
        }
      ]
    },
    {
      "cell_type": "code",
      "source": [
        "# JAX behaviour\n",
        "\n",
        "\n",
        "print(jnp.arange(10).at[11].add(23))\n",
        "print(jnp.arange(10)[11])"
      ],
      "metadata": {
        "colab": {
          "base_uri": "https://localhost:8080/"
        },
        "id": "oLCTEDxSmwlW",
        "outputId": "7af1156a-cf0b-41b2-cba4-ad0a162096f9"
      },
      "execution_count": null,
      "outputs": [
        {
          "output_type": "stream",
          "name": "stdout",
          "text": [
            "[0 1 2 3 4 5 6 7 8 9]\n",
            "9\n"
          ]
        }
      ]
    },
    {
      "cell_type": "markdown",
      "source": [
        "## Dont's"
      ],
      "metadata": {
        "id": "XVYhkr1Bn7tO"
      }
    },
    {
      "cell_type": "code",
      "source": [
        "def permissive_sum(x):\n",
        "  return jnp.sum(jnp.array(x)) # declaring jnp.array here will have to convert to each and every time the x comes and same can be seen in make_jaxpr\n",
        "\n",
        "\n",
        "x = list(range(10))\n",
        "\n",
        "print(make_jaxpr(permissive_sum)(x))"
      ],
      "metadata": {
        "colab": {
          "base_uri": "https://localhost:8080/"
        },
        "id": "9rmCBnVLn7Ix",
        "outputId": "a413328a-49ec-4a56-d5c0-4cc81a2227a5"
      },
      "execution_count": null,
      "outputs": [
        {
          "output_type": "stream",
          "name": "stdout",
          "text": [
            "{ lambda ; a:i32[] b:i32[] c:i32[] d:i32[] e:i32[] f:i32[] g:i32[] h:i32[] i:i32[]\n",
            "    j:i32[]. let\n",
            "    k:i32[] = convert_element_type[new_dtype=int32 weak_type=False] a\n",
            "    l:i32[] = convert_element_type[new_dtype=int32 weak_type=False] b\n",
            "    m:i32[] = convert_element_type[new_dtype=int32 weak_type=False] c\n",
            "    n:i32[] = convert_element_type[new_dtype=int32 weak_type=False] d\n",
            "    o:i32[] = convert_element_type[new_dtype=int32 weak_type=False] e\n",
            "    p:i32[] = convert_element_type[new_dtype=int32 weak_type=False] f\n",
            "    q:i32[] = convert_element_type[new_dtype=int32 weak_type=False] g\n",
            "    r:i32[] = convert_element_type[new_dtype=int32 weak_type=False] h\n",
            "    s:i32[] = convert_element_type[new_dtype=int32 weak_type=False] i\n",
            "    t:i32[] = convert_element_type[new_dtype=int32 weak_type=False] j\n",
            "    u:i32[1] = broadcast_in_dim[broadcast_dimensions=() shape=(1,)] k\n",
            "    v:i32[1] = broadcast_in_dim[broadcast_dimensions=() shape=(1,)] l\n",
            "    w:i32[1] = broadcast_in_dim[broadcast_dimensions=() shape=(1,)] m\n",
            "    x:i32[1] = broadcast_in_dim[broadcast_dimensions=() shape=(1,)] n\n",
            "    y:i32[1] = broadcast_in_dim[broadcast_dimensions=() shape=(1,)] o\n",
            "    z:i32[1] = broadcast_in_dim[broadcast_dimensions=() shape=(1,)] p\n",
            "    ba:i32[1] = broadcast_in_dim[broadcast_dimensions=() shape=(1,)] q\n",
            "    bb:i32[1] = broadcast_in_dim[broadcast_dimensions=() shape=(1,)] r\n",
            "    bc:i32[1] = broadcast_in_dim[broadcast_dimensions=() shape=(1,)] s\n",
            "    bd:i32[1] = broadcast_in_dim[broadcast_dimensions=() shape=(1,)] t\n",
            "    be:i32[10] = concatenate[dimension=0] u v w x y z ba bb bc bd\n",
            "    bf:i32[] = reduce_sum[axes=(0,)] be\n",
            "  in (bf,) }\n"
          ]
        }
      ]
    },
    {
      "cell_type": "markdown",
      "source": [
        "## Random Numbers"
      ],
      "metadata": {
        "id": "y7grEgaPoiAn"
      }
    },
    {
      "cell_type": "code",
      "source": [
        "print(np.random.random())\n",
        "print(np.random.random())\n",
        "\n",
        "np.random.seed(seed)\n",
        "\n",
        "rng_state = np.random.get_state()\n",
        "print(rng_state[2:])\n",
        "\n",
        "_ = np.random.uniform()\n",
        "rng_state = np.random.get_state()\n",
        "print(rng_state[2:])\n",
        "\n",
        "\n",
        "_ = np.random.uniform()\n",
        "rng_state = np.random.get_state()\n",
        "\n",
        "\n",
        "# Mersenne Twister PRNG is known to have a number of problems (NumPy's imp of PRNG)"
      ],
      "metadata": {
        "colab": {
          "base_uri": "https://localhost:8080/"
        },
        "id": "sULOyRqHokAt",
        "outputId": "81034d66-ead8-48b9-c463-a499dda54b47"
      },
      "execution_count": null,
      "outputs": [
        {
          "output_type": "stream",
          "name": "stdout",
          "text": [
            "0.09975415018458933\n",
            "0.5045105742464003\n",
            "(624, 0, 0.0)\n",
            "(2, 0, 0.0)\n"
          ]
        }
      ]
    },
    {
      "cell_type": "code",
      "source": [
        "key = random.PRNGKey(seed)\n",
        "print(key)\n",
        "\n",
        "print(random.normal(key, shape=(1,)))\n",
        "print(key)\n",
        "\n",
        "print(random.normal(key, shape=(1,)))\n",
        "print(key)"
      ],
      "metadata": {
        "colab": {
          "base_uri": "https://localhost:8080/"
        },
        "id": "WRoSF_70pFAr",
        "outputId": "23a154f7-6ec6-40e7-84ee-ecc9dee5fca9"
      },
      "execution_count": null,
      "outputs": [
        {
          "output_type": "stream",
          "name": "stdout",
          "text": [
            "[   0 1432]\n",
            "[-0.24580441]\n",
            "[   0 1432]\n",
            "[-0.24580441]\n",
            "[   0 1432]\n"
          ]
        }
      ]
    },
    {
      "cell_type": "code",
      "source": [
        "print(\"old key\", key)\n",
        "\n",
        "key, subkey = random.split(key)\n",
        "\n",
        "normal_pseudorandom = random.normal(subkey, shape=(1,))\n",
        "\n",
        "print(\" \\--SPLIT--> new key \", key)\n",
        "print(\"     \\-->new subkey\", subkey, \"-->normal\", normal_pseudorandom)\n",
        "\n",
        "# Note 1: you can split into more subkeys and not just 1\n",
        "# Note 2: key, subkey no difference it's only a convetnion"
      ],
      "metadata": {
        "colab": {
          "base_uri": "https://localhost:8080/"
        },
        "id": "HH9WbqcjpalT",
        "outputId": "ba902686-a090-4ba1-b048-bbf7cec19195"
      },
      "execution_count": null,
      "outputs": [
        {
          "output_type": "stream",
          "name": "stdout",
          "text": [
            "old key [   0 1432]\n",
            " \\--SPLIT--> new key  [2096557826  314911109]\n",
            "     \\-->new subkey [1145665789 3412182383] -->normal [-0.5498441]\n"
          ]
        }
      ]
    },
    {
      "cell_type": "code",
      "source": [
        "# JAX enforces single precision! There are simple ways around it though\n",
        "\n",
        "x = random.uniform(key, (1000,) dtype=jnp.float64)\n",
        "print(x.dtype) # still it will be float 32 rather than float64"
      ],
      "metadata": {
        "id": "PJXNV-zwqGbO"
      },
      "execution_count": null,
      "outputs": []
    }
  ]
}