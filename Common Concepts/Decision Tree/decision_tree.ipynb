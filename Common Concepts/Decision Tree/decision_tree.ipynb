{
 "cells": [
  {
   "cell_type": "markdown",
   "id": "192876b2",
   "metadata": {
    "papermill": {
     "duration": 0.004435,
     "end_time": "2024-05-28T08:32:01.986978",
     "exception": false,
     "start_time": "2024-05-28T08:32:01.982543",
     "status": "completed"
    },
    "tags": []
   },
   "source": [
    "# Load Libraries"
   ]
  },
  {
   "cell_type": "code",
   "execution_count": 1,
   "id": "2f8297a6",
   "metadata": {
    "_cell_guid": "b1076dfc-b9ad-4769-8c92-a6c4dae69d19",
    "_uuid": "8f2839f25d086af736a60e9eeb907d3b93b6e0e5",
    "execution": {
     "iopub.execute_input": "2024-05-28T08:32:01.996762Z",
     "iopub.status.busy": "2024-05-28T08:32:01.996364Z",
     "iopub.status.idle": "2024-05-28T08:32:03.719752Z",
     "shell.execute_reply": "2024-05-28T08:32:03.718431Z"
    },
    "papermill": {
     "duration": 1.731478,
     "end_time": "2024-05-28T08:32:03.722622",
     "exception": false,
     "start_time": "2024-05-28T08:32:01.991144",
     "status": "completed"
    },
    "tags": []
   },
   "outputs": [],
   "source": [
    "import numpy as np\n",
    "import matplotlib.pyplot as plt\n",
    "\n",
    "from sklearn.datasets import load_iris\n",
    "from sklearn.tree import DecisionTreeClassifier\n",
    "from sklearn.tree import export_graphviz\n",
    "\n",
    "%matplotlib inline"
   ]
  },
  {
   "cell_type": "markdown",
   "id": "a101ce2a",
   "metadata": {
    "papermill": {
     "duration": 0.003671,
     "end_time": "2024-05-28T08:32:03.730365",
     "exception": false,
     "start_time": "2024-05-28T08:32:03.726694",
     "status": "completed"
    },
    "tags": []
   },
   "source": [
    "# Train Decision Tree on IRIS to understand "
   ]
  },
  {
   "cell_type": "code",
   "execution_count": 2,
   "id": "e8276c23",
   "metadata": {
    "execution": {
     "iopub.execute_input": "2024-05-28T08:32:03.740356Z",
     "iopub.status.busy": "2024-05-28T08:32:03.739407Z",
     "iopub.status.idle": "2024-05-28T08:32:03.764507Z",
     "shell.execute_reply": "2024-05-28T08:32:03.763317Z"
    },
    "papermill": {
     "duration": 0.032782,
     "end_time": "2024-05-28T08:32:03.767088",
     "exception": false,
     "start_time": "2024-05-28T08:32:03.734306",
     "status": "completed"
    },
    "tags": []
   },
   "outputs": [
    {
     "data": {
      "text/html": [
       "<style>#sk-container-id-1 {color: black;background-color: white;}#sk-container-id-1 pre{padding: 0;}#sk-container-id-1 div.sk-toggleable {background-color: white;}#sk-container-id-1 label.sk-toggleable__label {cursor: pointer;display: block;width: 100%;margin-bottom: 0;padding: 0.3em;box-sizing: border-box;text-align: center;}#sk-container-id-1 label.sk-toggleable__label-arrow:before {content: \"▸\";float: left;margin-right: 0.25em;color: #696969;}#sk-container-id-1 label.sk-toggleable__label-arrow:hover:before {color: black;}#sk-container-id-1 div.sk-estimator:hover label.sk-toggleable__label-arrow:before {color: black;}#sk-container-id-1 div.sk-toggleable__content {max-height: 0;max-width: 0;overflow: hidden;text-align: left;background-color: #f0f8ff;}#sk-container-id-1 div.sk-toggleable__content pre {margin: 0.2em;color: black;border-radius: 0.25em;background-color: #f0f8ff;}#sk-container-id-1 input.sk-toggleable__control:checked~div.sk-toggleable__content {max-height: 200px;max-width: 100%;overflow: auto;}#sk-container-id-1 input.sk-toggleable__control:checked~label.sk-toggleable__label-arrow:before {content: \"▾\";}#sk-container-id-1 div.sk-estimator input.sk-toggleable__control:checked~label.sk-toggleable__label {background-color: #d4ebff;}#sk-container-id-1 div.sk-label input.sk-toggleable__control:checked~label.sk-toggleable__label {background-color: #d4ebff;}#sk-container-id-1 input.sk-hidden--visually {border: 0;clip: rect(1px 1px 1px 1px);clip: rect(1px, 1px, 1px, 1px);height: 1px;margin: -1px;overflow: hidden;padding: 0;position: absolute;width: 1px;}#sk-container-id-1 div.sk-estimator {font-family: monospace;background-color: #f0f8ff;border: 1px dotted black;border-radius: 0.25em;box-sizing: border-box;margin-bottom: 0.5em;}#sk-container-id-1 div.sk-estimator:hover {background-color: #d4ebff;}#sk-container-id-1 div.sk-parallel-item::after {content: \"\";width: 100%;border-bottom: 1px solid gray;flex-grow: 1;}#sk-container-id-1 div.sk-label:hover label.sk-toggleable__label {background-color: #d4ebff;}#sk-container-id-1 div.sk-serial::before {content: \"\";position: absolute;border-left: 1px solid gray;box-sizing: border-box;top: 0;bottom: 0;left: 50%;z-index: 0;}#sk-container-id-1 div.sk-serial {display: flex;flex-direction: column;align-items: center;background-color: white;padding-right: 0.2em;padding-left: 0.2em;position: relative;}#sk-container-id-1 div.sk-item {position: relative;z-index: 1;}#sk-container-id-1 div.sk-parallel {display: flex;align-items: stretch;justify-content: center;background-color: white;position: relative;}#sk-container-id-1 div.sk-item::before, #sk-container-id-1 div.sk-parallel-item::before {content: \"\";position: absolute;border-left: 1px solid gray;box-sizing: border-box;top: 0;bottom: 0;left: 50%;z-index: -1;}#sk-container-id-1 div.sk-parallel-item {display: flex;flex-direction: column;z-index: 1;position: relative;background-color: white;}#sk-container-id-1 div.sk-parallel-item:first-child::after {align-self: flex-end;width: 50%;}#sk-container-id-1 div.sk-parallel-item:last-child::after {align-self: flex-start;width: 50%;}#sk-container-id-1 div.sk-parallel-item:only-child::after {width: 0;}#sk-container-id-1 div.sk-dashed-wrapped {border: 1px dashed gray;margin: 0 0.4em 0.5em 0.4em;box-sizing: border-box;padding-bottom: 0.4em;background-color: white;}#sk-container-id-1 div.sk-label label {font-family: monospace;font-weight: bold;display: inline-block;line-height: 1.2em;}#sk-container-id-1 div.sk-label-container {text-align: center;}#sk-container-id-1 div.sk-container {/* jupyter's `normalize.less` sets `[hidden] { display: none; }` but bootstrap.min.css set `[hidden] { display: none !important; }` so we also need the `!important` here to be able to override the default hidden behavior on the sphinx rendered scikit-learn.org. See: https://github.com/scikit-learn/scikit-learn/issues/21755 */display: inline-block !important;position: relative;}#sk-container-id-1 div.sk-text-repr-fallback {display: none;}</style><div id=\"sk-container-id-1\" class=\"sk-top-container\"><div class=\"sk-text-repr-fallback\"><pre>DecisionTreeClassifier(max_depth=2)</pre><b>In a Jupyter environment, please rerun this cell to show the HTML representation or trust the notebook. <br />On GitHub, the HTML representation is unable to render, please try loading this page with nbviewer.org.</b></div><div class=\"sk-container\" hidden><div class=\"sk-item\"><div class=\"sk-estimator sk-toggleable\"><input class=\"sk-toggleable__control sk-hidden--visually\" id=\"sk-estimator-id-1\" type=\"checkbox\" checked><label for=\"sk-estimator-id-1\" class=\"sk-toggleable__label sk-toggleable__label-arrow\">DecisionTreeClassifier</label><div class=\"sk-toggleable__content\"><pre>DecisionTreeClassifier(max_depth=2)</pre></div></div></div></div></div>"
      ],
      "text/plain": [
       "DecisionTreeClassifier(max_depth=2)"
      ]
     },
     "execution_count": 2,
     "metadata": {},
     "output_type": "execute_result"
    }
   ],
   "source": [
    "iris = load_iris()\n",
    "X = iris.data[:, 2:] # petal length and width\n",
    "y = iris.target\n",
    "\n",
    "\n",
    "tree_clf = DecisionTreeClassifier(max_depth=2)\n",
    "tree_clf.fit(X, y)"
   ]
  },
  {
   "cell_type": "code",
   "execution_count": 3,
   "id": "c40331d9",
   "metadata": {
    "execution": {
     "iopub.execute_input": "2024-05-28T08:32:03.777835Z",
     "iopub.status.busy": "2024-05-28T08:32:03.776789Z",
     "iopub.status.idle": "2024-05-28T08:32:05.042062Z",
     "shell.execute_reply": "2024-05-28T08:32:05.040507Z"
    },
    "papermill": {
     "duration": 1.273712,
     "end_time": "2024-05-28T08:32:05.044999",
     "exception": false,
     "start_time": "2024-05-28T08:32:03.771287",
     "status": "completed"
    },
    "tags": []
   },
   "outputs": [],
   "source": [
    "export_graphviz(\n",
    "    tree_clf,\n",
    "    out_file=\"iris_tree.dot\",\n",
    "    feature_names=iris.feature_names[2:],\n",
    "    class_names=iris.target_names,\n",
    "    rounded=True,\n",
    "    filled=True\n",
    ")\n",
    "!dot -Tpng iris_tree.dot -o iris_tree.png"
   ]
  },
  {
   "cell_type": "markdown",
   "id": "e61c6307",
   "metadata": {
    "papermill": {
     "duration": 0.004445,
     "end_time": "2024-05-28T08:32:05.053790",
     "exception": false,
     "start_time": "2024-05-28T08:32:05.049345",
     "status": "completed"
    },
    "tags": []
   },
   "source": [
    "<img src=\"iris_tree.png\" alt=\"Decision Tree\"/>\n",
    "\n",
    "<p class=\"alert alert-info\">One of the many qualities of Decision Trees is that they require\n",
    "very little data preparation. In particular, they don’t require feature\n",
    "scaling or centering at all.</p>"
   ]
  },
  {
   "cell_type": "markdown",
   "id": "c3fbbc3f",
   "metadata": {
    "papermill": {
     "duration": 0.003777,
     "end_time": "2024-05-28T08:32:05.061613",
     "exception": false,
     "start_time": "2024-05-28T08:32:05.057836",
     "status": "completed"
    },
    "tags": []
   },
   "source": [
    "# Let's breakdown how it works\n",
    "\n",
    "<p style=\"color:gold\">$$\\Large J(k, t_{k}) = \\frac{m_{\\text{left}}}{m}G_{\\text{left}} + \\frac{m_{\\text{right}}}{m}G_{\\text{right}}$$</p>\n",
    "\n",
    "$$ \\text{where} \\left\\{ \\begin{array}{rcl} G_{\\text{left/right}}\\; \\text{measures the impurity of the left/right subset} \\\\ m_{\\text{left/right}}\\; \\text{is the number of instances in the left/right subset} \\end{array}\\right.$$\n",
    "\n",
    "\n",
    "<p style=\"color:white\"> $$k = \\text{feature}, \\quad t_{k}=\\text{threshold for feature}\\; k$$</p>\n",
    "\n",
    "$$ \\text{Gini Impurity} (G) = 1 - \\sum_{k=1}^{n}p_{i,k}^{2}$$\n",
    "\n",
    "$p_{i,k}$ is the ratio of class k instances among the training instances in the ith node\n",
    "\n"
   ]
  },
  {
   "cell_type": "code",
   "execution_count": 4,
   "id": "21a4caa2",
   "metadata": {
    "execution": {
     "iopub.execute_input": "2024-05-28T08:32:05.071700Z",
     "iopub.status.busy": "2024-05-28T08:32:05.071275Z",
     "iopub.status.idle": "2024-05-28T08:32:05.079284Z",
     "shell.execute_reply": "2024-05-28T08:32:05.077971Z"
    },
    "papermill": {
     "duration": 0.016125,
     "end_time": "2024-05-28T08:32:05.081708",
     "exception": false,
     "start_time": "2024-05-28T08:32:05.065583",
     "status": "completed"
    },
    "tags": []
   },
   "outputs": [
    {
     "name": "stdout",
     "output_type": "stream",
     "text": [
      "Initial Gini Index even before splitting the dataset: 0.667\n"
     ]
    }
   ],
   "source": [
    "initial_gini_index = 1\n",
    "labels = np.unique(y)\n",
    "\n",
    "for label in labels:\n",
    "    initial_gini_index -= (y[y == label].shape[0] / y.shape[0])**2\n",
    "    \n",
    "print(f\"Initial Gini Index even before splitting the dataset: {initial_gini_index:.3f}\")"
   ]
  },
  {
   "cell_type": "markdown",
   "id": "aad67d4b",
   "metadata": {
    "papermill": {
     "duration": 0.003802,
     "end_time": "2024-05-28T08:32:05.089780",
     "exception": false,
     "start_time": "2024-05-28T08:32:05.085978",
     "status": "completed"
    },
    "tags": []
   },
   "source": [
    "## peal length (cm)"
   ]
  },
  {
   "cell_type": "code",
   "execution_count": 5,
   "id": "33477f97",
   "metadata": {
    "execution": {
     "iopub.execute_input": "2024-05-28T08:32:05.099763Z",
     "iopub.status.busy": "2024-05-28T08:32:05.099386Z",
     "iopub.status.idle": "2024-05-28T08:32:05.110333Z",
     "shell.execute_reply": "2024-05-28T08:32:05.109019Z"
    },
    "papermill": {
     "duration": 0.018841,
     "end_time": "2024-05-28T08:32:05.112734",
     "exception": false,
     "start_time": "2024-05-28T08:32:05.093893",
     "status": "completed"
    },
    "tags": []
   },
   "outputs": [],
   "source": [
    "def get_feature_split(feature: np.ndarray, y: np.ndarray):\n",
    "    \n",
    "    min_gini = np.inf\n",
    "    final_thresold = 0.0\n",
    "    num_left = 0\n",
    "    num_right = 0\n",
    "    feat_col = np.column_stack((feature, y))\n",
    "    feat_col = feat_col[feat_col[:, 0].argsort()]\n",
    "    epsilon = 1e-6\n",
    "\n",
    "\n",
    "    # caluclate each midpoint between each subsequent values which are our\n",
    "    # potential thresholds\n",
    "    pot_thresholds = (feat_col[:, 0][:-1] + feat_col[:, 0][1:]) / 2\n",
    "\n",
    "    for th in pot_thresholds:\n",
    "\n",
    "        # let's now get the left and right subset instances with it labels\n",
    "        ls = feat_col[feat_col[:, 0] <= th]\n",
    "        rs = feat_col[feat_col[:, 0] > th]\n",
    "\n",
    "        # now take instance in left and right subsets and calculate how many instances\n",
    "        # belong to which class to calculate the probablity for gini index\n",
    "        g_left, g_right = 1, 1\n",
    "        for label in labels:\n",
    "            g_left -= ((ls[ls[:, 1] == label]).shape[0] / (ls.shape[0] + epsilon))**2\n",
    "            g_right -= ((rs[rs[:, 1] == label]).shape[0] / (rs.shape[0] + epsilon))**2\n",
    "\n",
    "        wg_l = (ls.shape[0] / feat_col.shape[0]) * g_left\n",
    "        wg_r = (rs.shape[0] / feat_col.shape[0]) * g_right\n",
    "        gini_weighted = wg_l + wg_r\n",
    "        \n",
    "        if gini_weighted <= min_gini:\n",
    "            min_gini = gini_weighted\n",
    "            final_thresold = th\n",
    "            num_left = ls.shape[0]\n",
    "            num_right = rs.shape[0]\n",
    "            final_ls = ls\n",
    "            final_rs = rs\n",
    "    \n",
    "        # print(f\"Threshold: {th:.2f}, G_left: {g_left:.2f}, G_right: {g_right:.2f}, J: {gini_weighted:.2f}\")\n",
    "    \n",
    "    return final_ls, final_rs, num_left, num_right, final_thresold, min_gini"
   ]
  },
  {
   "cell_type": "markdown",
   "id": "a1802ca0",
   "metadata": {
    "papermill": {
     "duration": 0.003902,
     "end_time": "2024-05-28T08:32:05.120979",
     "exception": false,
     "start_time": "2024-05-28T08:32:05.117077",
     "status": "completed"
    },
    "tags": []
   },
   "source": [
    "# Test `Petal Length` feature for best split for initial node"
   ]
  },
  {
   "cell_type": "code",
   "execution_count": 6,
   "id": "2b949f91",
   "metadata": {
    "execution": {
     "iopub.execute_input": "2024-05-28T08:32:05.131221Z",
     "iopub.status.busy": "2024-05-28T08:32:05.130803Z",
     "iopub.status.idle": "2024-05-28T08:32:05.147322Z",
     "shell.execute_reply": "2024-05-28T08:32:05.145747Z"
    },
    "papermill": {
     "duration": 0.025019,
     "end_time": "2024-05-28T08:32:05.150131",
     "exception": false,
     "start_time": "2024-05-28T08:32:05.125112",
     "status": "completed"
    },
    "tags": []
   },
   "outputs": [
    {
     "name": "stdout",
     "output_type": "stream",
     "text": [
      "\n",
      "Number of Samples in Left Sub Node: 50\n",
      "\n",
      "Number of Samples in Right Sub Node: 100\n",
      "\n",
      "Split at threshold of column Petal Legnth(cm): 2.45 with Gini Weighted Split of 0.33\n"
     ]
    }
   ],
   "source": [
    "ls, rs, num_left, num_right, final_thresold, min_gini = get_feature_split(X[:, 0], y)\n",
    "print(f\"\\nNumber of Samples in Left Sub Node: {num_left}\")\n",
    "print(f\"\\nNumber of Samples in Right Sub Node: {num_right}\")\n",
    "print(f\"\\nSplit at threshold of column Petal Legnth(cm): {final_thresold:.2f} with Gini Weighted Split of {min_gini:.2f}\")"
   ]
  },
  {
   "cell_type": "markdown",
   "id": "057bd090",
   "metadata": {
    "papermill": {
     "duration": 0.004247,
     "end_time": "2024-05-28T08:32:05.158838",
     "exception": false,
     "start_time": "2024-05-28T08:32:05.154591",
     "status": "completed"
    },
    "tags": []
   },
   "source": [
    "# Test `Petal Width` feature for best split for initial node"
   ]
  },
  {
   "cell_type": "code",
   "execution_count": 7,
   "id": "65414ee6",
   "metadata": {
    "execution": {
     "iopub.execute_input": "2024-05-28T08:32:05.169592Z",
     "iopub.status.busy": "2024-05-28T08:32:05.169101Z",
     "iopub.status.idle": "2024-05-28T08:32:05.185267Z",
     "shell.execute_reply": "2024-05-28T08:32:05.183824Z"
    },
    "papermill": {
     "duration": 0.02452,
     "end_time": "2024-05-28T08:32:05.187861",
     "exception": false,
     "start_time": "2024-05-28T08:32:05.163341",
     "status": "completed"
    },
    "tags": []
   },
   "outputs": [
    {
     "name": "stdout",
     "output_type": "stream",
     "text": [
      "\n",
      "Number of Samples in Left Sub Node: 50\n",
      "\n",
      "Number of Samples in Right Sub Node: 100\n",
      "Split at threshold of column Petal Legnth(cm): 0.80 with Gini Weighted Split of 0.33\n"
     ]
    }
   ],
   "source": [
    "ls, rs, num_left, num_right, final_thresold, min_gini = get_feature_split(X[:, 1], y)\n",
    "print(f\"\\nNumber of Samples in Left Sub Node: {num_left}\")\n",
    "print(f\"\\nNumber of Samples in Right Sub Node: {num_right}\")\n",
    "print(f\"Split at threshold of column Petal Legnth(cm): {final_thresold:.2f} with Gini Weighted Split of {min_gini:.2f}\")"
   ]
  },
  {
   "cell_type": "markdown",
   "id": "f7b60c53",
   "metadata": {
    "papermill": {
     "duration": 0.004083,
     "end_time": "2024-05-28T08:32:05.196446",
     "exception": false,
     "start_time": "2024-05-28T08:32:05.192363",
     "status": "completed"
    },
    "tags": []
   },
   "source": [
    "*Note:* Seems that we have same split for both of the features"
   ]
  }
 ],
 "metadata": {
  "kaggle": {
   "accelerator": "none",
   "dataSources": [],
   "dockerImageVersionId": 30698,
   "isGpuEnabled": false,
   "isInternetEnabled": true,
   "language": "python",
   "sourceType": "notebook"
  },
  "kernelspec": {
   "display_name": "Python 3",
   "language": "python",
   "name": "python3"
  },
  "language_info": {
   "codemirror_mode": {
    "name": "ipython",
    "version": 3
   },
   "file_extension": ".py",
   "mimetype": "text/x-python",
   "name": "python",
   "nbconvert_exporter": "python",
   "pygments_lexer": "ipython3",
   "version": "3.10.13"
  },
  "papermill": {
   "default_parameters": {},
   "duration": 6.578952,
   "end_time": "2024-05-28T08:32:05.725152",
   "environment_variables": {},
   "exception": null,
   "input_path": "__notebook__.ipynb",
   "output_path": "__notebook__.ipynb",
   "parameters": {},
   "start_time": "2024-05-28T08:31:59.146200",
   "version": "2.5.0"
  }
 },
 "nbformat": 4,
 "nbformat_minor": 5
}
