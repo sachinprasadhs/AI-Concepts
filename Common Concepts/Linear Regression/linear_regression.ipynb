{
  "nbformat": 4,
  "nbformat_minor": 0,
  "metadata": {
    "colab": {
      "provenance": []
    },
    "kernelspec": {
      "name": "python3",
      "display_name": "Python 3"
    },
    "language_info": {
      "name": "python"
    }
  },
  "cells": [
    {
      "cell_type": "markdown",
      "source": [
        "\n",
        "\n",
        "# Linear Regression\n",
        "**Assumptions**\n",
        "\n",
        "1. Linearity: The relationship between X and the mean of Y is linear.\n",
        "2. Homoscedasticity: The variance of residual is the same for any value of X.\n",
        "3. Independence: Observations are independent of each other.\n",
        "4. Normality: For any fixed value of X, Y is normally distributed.\n",
        "\n",
        "<table class=\"tfo-notebook-buttons\" align=\"left\">\n",
        "  <td>\n",
        "    <a target=\"_blank\" href=\"https://colab.research.google.com/github/sachinprasadhs/AI-Concepts/blob/master/Common%20Concepts/Linear%20Regression/linear_regression.ipynb\"><img src=\"https://www.tensorflow.org/images/colab_logo_32px.png\" />Run in Google Colab</a>\n",
        "  </td>\n",
        "</table>"
      ],
      "metadata": {
        "id": "y9QvfJiVclUJ"
      }
    },
    {
      "cell_type": "markdown",
      "source": [
        "## Import Necessary Libraries"
      ],
      "metadata": {
        "id": "xLwTjXles9dY"
      }
    },
    {
      "cell_type": "code",
      "source": [
        "import jax\n",
        "import jax.numpy as jnp\n",
        "import matplotlib.pyplot as plt"
      ],
      "metadata": {
        "id": "79bnrYHos7J-"
      },
      "execution_count": 1,
      "outputs": []
    },
    {
      "cell_type": "markdown",
      "source": [
        "## Generate Random Dataset"
      ],
      "metadata": {
        "id": "v4ilyJN8tFQ4"
      }
    },
    {
      "cell_type": "code",
      "source": [
        "num_samples = 1000\n",
        "num_features = 3\n",
        "key = jax.random.PRNGKey(seed=42)"
      ],
      "metadata": {
        "id": "tgUhw7THtNjF"
      },
      "execution_count": 2,
      "outputs": []
    },
    {
      "cell_type": "code",
      "source": [
        "X = 2 * jax.random.normal(key, shape=(num_samples, num_features))\n",
        "y = 4 + 3 * X[:, 0] - 5*X[:, 1] - X[:, 2] + jax.random.normal(key, shape=(num_samples,))\n",
        "y = jnp.expand_dims(y, axis=-1)"
      ],
      "metadata": {
        "id": "_p-DU_5BtHur"
      },
      "execution_count": 3,
      "outputs": []
    },
    {
      "cell_type": "markdown",
      "source": [
        "## Normal Equation\n",
        "\n",
        "$$\\theta = (X^TX)^{-1} X^Ty$$"
      ],
      "metadata": {
        "id": "puAisRQKdIWE"
      }
    },
    {
      "cell_type": "code",
      "source": [
        "class NormFit:\n",
        "    \"\"\"\n",
        "    A class for fitting and predicting using the normal equation.\n",
        "\n",
        "    Attributes:\n",
        "        theta (numpy.ndarray): The parameters of the linear regression model.\n",
        "    \"\"\"\n",
        "\n",
        "    def __init__(self):\n",
        "        \"\"\"\n",
        "        Initialize the NormFit class with theta set to None.\n",
        "        \"\"\"\n",
        "        self.theta = None\n",
        "\n",
        "    def fit(self, X: jnp.ndarray, y: jnp.ndarray)-> jnp.ndarray:\n",
        "        \"\"\"\n",
        "        Fit the linear regression model using the normal equation.\n",
        "\n",
        "        Args:\n",
        "            X (numpy.ndarray): The input features.\n",
        "            y (numpy.ndarray): The target values.\n",
        "\n",
        "        Returns:\n",
        "            numpy.ndarray: The learned parameters (theta).\n",
        "        \"\"\"\n",
        "        X_b = jnp.hstack((jnp.ones((X.shape[0], 1)), X))  # Add a column of ones for the bias term\n",
        "        self.theta = jnp.linalg.pinv(X_b.T.dot(X_b)).dot(X_b.T).dot(y)  # Use np.linalg.pinv instead of np.linalg.inv for better numerical stability\n",
        "        return self.theta\n",
        "\n",
        "    def predict(self, X: jnp.ndarray)-> jnp.ndarray:\n",
        "        \"\"\"\n",
        "        Predict the target values using the learned model.\n",
        "\n",
        "        Args:\n",
        "            X (numpy.ndarray): The input features.\n",
        "\n",
        "        Returns:\n",
        "            numpy.ndarray: The predicted target values.\n",
        "        \"\"\"\n",
        "        return X.dot(self.theta)  # Corrected: Use self.theta instead of theta"
      ],
      "metadata": {
        "id": "wlxjgcJ1i-UA"
      },
      "execution_count": 4,
      "outputs": []
    },
    {
      "cell_type": "markdown",
      "source": [
        "### Fit Normal Equation to Data to get Weights/Coefficients"
      ],
      "metadata": {
        "id": "gtrYEzV8tSQ3"
      }
    },
    {
      "cell_type": "code",
      "source": [
        "normfit = NormFit()\n",
        "theta = normfit.fit(X, y)\n",
        "theta"
      ],
      "metadata": {
        "colab": {
          "base_uri": "https://localhost:8080/"
        },
        "id": "fxSq_nXodPpO",
        "outputId": "c849756f-9133-4841-9616-842e269fedaa"
      },
      "execution_count": 5,
      "outputs": [
        {
          "output_type": "execute_result",
          "data": {
            "text/plain": [
              "Array([[ 3.9686255],\n",
              "       [ 3.0022469],\n",
              "       [-4.9974484],\n",
              "       [-0.9974503]], dtype=float32)"
            ]
          },
          "metadata": {},
          "execution_count": 5
        }
      ]
    }
  ]
}