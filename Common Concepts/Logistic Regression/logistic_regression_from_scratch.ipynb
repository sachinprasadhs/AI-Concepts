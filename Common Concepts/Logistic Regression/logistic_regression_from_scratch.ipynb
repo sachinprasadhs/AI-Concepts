{
 "cells": [
  {
   "cell_type": "markdown",
   "id": "1a082062",
   "metadata": {
    "papermill": {
     "duration": 0.00903,
     "end_time": "2024-04-29T02:31:05.763060",
     "exception": false,
     "start_time": "2024-04-29T02:31:05.754030",
     "status": "completed"
    },
    "tags": []
   },
   "source": [
    "# Logistic Regression\n",
    "\n",
    "* Logistic Regression (also called **Logit Regression**) is commonly used to estimate the probability that an instance belongs to a particular class.\n",
    "* Just like a Linear Regression model, a Logistic Regression model computes a weighted sum of the input features (plus a bias term), but instead of outputting the result directly like the Linear Regression model does, it outputs the logistic of this result\n",
    "\n",
    "$$\\hat{p} = h_{\\theta}(x) = \\sigma(x^{T}\\theta)$$\n",
    "\n",
    "$$$$\n",
    "$$\\sigma(t) = \\dfrac{1}{1 + \\exp(-t)}$$\n",
    "\n",
    "\n",
    "## Logistic Regression model prediction\n",
    "\n",
    "$$\\hat{h}= \\left\\{ \\begin{array}{rcl}  0 & \\mbox{if} & \\hat{p} < 0.5 \\\\ 1 & \\mbox{if} & \\hat{p} \\geq 0.5 \\end{array}\\right.$$\n",
    "\n",
    "## Cost function\n",
    "\n",
    "* Cost function of a single training instance: \n",
    "\n",
    "$$c(\\theta) = \\left\\{ \\begin{array}{rcl} -\\log{(\\hat{p})} & \\mbox{if} & y=1 \\\\ -\\log(1 - \\hat{p}) & \\mbox{if} & y=0\\end{array}\\right.$$\n",
    "\n",
    "* Cost function for logistic regression(log loss):\n",
    "\n",
    "$$J(\\theta) = -\\dfrac{1}{m} * \\sum_{i=1}^{m} \\left[y^{(i)}\\log(\\hat{p}) +  ({1-y^{(i)}})\\log({1-\\hat{p}})\\right]$$\n",
    "\n",
    "$$ \\frac{\\partial}{\\partial \\theta_{j}} J(\\theta) = \\frac{1}{m} \\sum_{i=1}^{m} \\left( \\sigma\\left( \\theta^{T}x^{i}\\right)- y^{i}\\right)x^{(i)}_{j}$$\n"
   ]
  },
  {
   "cell_type": "code",
   "execution_count": 1,
   "id": "8383a0a7",
   "metadata": {
    "_cell_guid": "b1076dfc-b9ad-4769-8c92-a6c4dae69d19",
    "_uuid": "8f2839f25d086af736a60e9eeb907d3b93b6e0e5",
    "execution": {
     "iopub.execute_input": "2024-04-29T02:31:05.781311Z",
     "iopub.status.busy": "2024-04-29T02:31:05.780919Z",
     "iopub.status.idle": "2024-04-29T02:31:09.731330Z",
     "shell.execute_reply": "2024-04-29T02:31:09.730283Z"
    },
    "papermill": {
     "duration": 3.962792,
     "end_time": "2024-04-29T02:31:09.734016",
     "exception": false,
     "start_time": "2024-04-29T02:31:05.771224",
     "status": "completed"
    },
    "tags": []
   },
   "outputs": [],
   "source": [
    "import jax\n",
    "import numpy as np\n",
    "import jax.numpy as jnp\n",
    "import seaborn as sns\n",
    "import matplotlib.pyplot as plt\n",
    "\n",
    "from jax import random\n",
    "from sklearn import datasets\n",
    "from sklearn.model_selection import train_test_split\n",
    "\n",
    "import warnings\n",
    "warnings.filterwarnings('ignore')"
   ]
  },
  {
   "cell_type": "code",
   "execution_count": 2,
   "id": "4ebc3e0b",
   "metadata": {
    "execution": {
     "iopub.execute_input": "2024-04-29T02:31:09.751846Z",
     "iopub.status.busy": "2024-04-29T02:31:09.751258Z",
     "iopub.status.idle": "2024-04-29T02:31:10.278673Z",
     "shell.execute_reply": "2024-04-29T02:31:10.277465Z"
    },
    "papermill": {
     "duration": 0.539332,
     "end_time": "2024-04-29T02:31:10.281412",
     "exception": false,
     "start_time": "2024-04-29T02:31:09.742080",
     "status": "completed"
    },
    "tags": []
   },
   "outputs": [],
   "source": [
    "seed = 132\n",
    "key = random.PRNGKey(seed=seed)"
   ]
  },
  {
   "cell_type": "markdown",
   "id": "08137134",
   "metadata": {
    "papermill": {
     "duration": 0.007731,
     "end_time": "2024-04-29T02:31:10.297006",
     "exception": false,
     "start_time": "2024-04-29T02:31:10.289275",
     "status": "completed"
    },
    "tags": []
   },
   "source": [
    "# Logistic Regression Class"
   ]
  },
  {
   "cell_type": "code",
   "execution_count": 3,
   "id": "431ee228",
   "metadata": {
    "execution": {
     "iopub.execute_input": "2024-04-29T02:31:10.315005Z",
     "iopub.status.busy": "2024-04-29T02:31:10.314538Z",
     "iopub.status.idle": "2024-04-29T02:31:10.349157Z",
     "shell.execute_reply": "2024-04-29T02:31:10.347835Z"
    },
    "papermill": {
     "duration": 0.046799,
     "end_time": "2024-04-29T02:31:10.351608",
     "exception": false,
     "start_time": "2024-04-29T02:31:10.304809",
     "status": "completed"
    },
    "tags": []
   },
   "outputs": [],
   "source": [
    "class LogisticRegression:\n",
    "    def __init__(\n",
    "        self, \n",
    "        key: jnp.ndarray, \n",
    "        lr: float=0.01, \n",
    "        epochs: int=10, \n",
    "        batch_size: int=32,\n",
    "        multi_class: bool=False):\n",
    "        \n",
    "        self.key = key\n",
    "        self.init_lr = lr\n",
    "        self.decay = 0.001\n",
    "        self.epochs = epochs\n",
    "        self.batch_size = batch_size\n",
    "        self.loss_progress = []\n",
    "        self.train_acc = []\n",
    "        self.scheduler_progress = []\n",
    "        self.multi_class = multi_class\n",
    "    \n",
    "    def learning_schedule(self, steps):\n",
    "        curr_lr = self.init_lr / (1. + self.decay * steps)\n",
    "        self.scheduler_progress.append(curr_lr)\n",
    "        return curr_lr\n",
    "\n",
    "    def fit(self, X, y):\n",
    "        num_samples = X.shape[0]\n",
    "        num_features = X.shape[1]\n",
    "        \n",
    "        \n",
    "        X = jnp.hstack((jnp.ones((num_samples, 1)), X)) # (add column for bias term which will be one)\n",
    "        y = jnp.squeeze(y)\n",
    "        \n",
    "        num_classes = jnp.unique(y_train).shape[0]\n",
    "        \n",
    "        # When you have more than two classes we will do one hot encoding the labels\n",
    "        if num_classes > 2:\n",
    "            y = jax.nn.one_hot(y, num_classes) # Ensure y has shape (num_samples, num_classes)\n",
    "            self.W = random.normal(self.key, shape=(num_features + 1, num_classes)) # (num_features + bias term, num_classes)\n",
    "        else:\n",
    "            y = y.reshape(-1, 1)  # Ensure y has shape (num_samples, 1)\n",
    "            self.W = random.normal(self.key, shape=(num_features + 1, 1)) # (num_features + bias term, num_classes)\n",
    "            \n",
    "        batch_comp = (num_samples // self.batch_size) * self.batch_size\n",
    "        \n",
    "        if num_samples != batch_comp:\n",
    "            X_main, y_main = X[:batch_comp, :], y[:batch_comp, :]\n",
    "            X_rem, y_rem = X[batch_comp:, :], y[batch_comp:, :]\n",
    "        else:\n",
    "            X_main, y_main = X, y\n",
    "            X_rem, y_rem = None, None\n",
    "        \n",
    "        X_batched = X_main.reshape(num_samples// self.batch_size, self.batch_size, -1)\n",
    "        y_batched = y_main.reshape(num_samples// self.batch_size, self.batch_size, -1)\n",
    "        \n",
    "        \n",
    "        for epoch in range(self.epochs):\n",
    "            epoch_loss = []\n",
    "            epoch_acc = []\n",
    "            for step, (X_batch, y_batch) in enumerate(zip(X_batched, y_batched)):\n",
    "                # Forward Pass\n",
    "                if not self.multi_class:\n",
    "                    y_pred = jax.nn.sigmoid(X_batch @ self.W)  # (num_samples, num_features + 1) @ (num_features + 1, 1) -> (num_samples, 1)\n",
    "                else:\n",
    "                    y_pred = jax.nn.softmax(X_batch @ self.W)\n",
    "\n",
    "                # Calculate Gradient\n",
    "                # (num_features + 1, num_samples) @ (num_samples, num_classes) -> (num_features + 1, num_classes)\n",
    "                dW = (1 / self.batch_size) * (X_batch.T @ (y_pred - y_batch))\n",
    "\n",
    "                # For each batch now we calculate learning schedule using a scheduler\n",
    "                # we decay with batch consider 0.1 * (1 / (1 + 0.001 * num_steps))\n",
    "                num_steps = (num_samples // self.batch_size) * epoch + step\n",
    "                self.lr = self.learning_schedule(num_steps)\n",
    "\n",
    "                # Update Weights\n",
    "                self.W -= self.lr * dW\n",
    "\n",
    "                # Append Batch Loss\n",
    "                if not self.multi_class:\n",
    "                    log_loss = - (1/self.batch_size) * jnp.sum((y_batch * jnp.log(y_pred) + (1 - y_batch) * jnp.log(1 - y_pred)))\n",
    "                else:\n",
    "                    log_loss = - (1/self.batch_size) * jnp.sum(jnp.sum(y_batch * jnp.log(y_pred), axis=1))\n",
    "                epoch_loss.append(log_loss)\n",
    "                \n",
    "                # calculate batch accuracy\n",
    "                if not self.multi_class:\n",
    "                    batch_acc = (jnp.where(y_pred >= 0.5, 1, 0) == y_batch).sum() / self.batch_size\n",
    "                else:\n",
    "                    y_pred = jnp.argmax(y_pred, axis=1)\n",
    "                    y_batch = jnp.argmax(y_batch, axis=1)\n",
    "                    batch_acc = (y_pred == y_batch).sum() / self.batch_size\n",
    "                \n",
    "                epoch_acc.append(batch_acc)\n",
    "\n",
    "                # Now we have to update the weights also for last batch of data which was\n",
    "                # not catered when batching the data because of the data size not divisible\n",
    "                # by the batch size\n",
    "                if X_rem is not None:\n",
    "                    if not self.multi_class:\n",
    "                        y_pred = jax.nn.sigmoid(X_rem @ self.W)\n",
    "                    else:\n",
    "                        y_pred = jax.nn.softmax(X_rem @ self.W)\n",
    "                        \n",
    "                    dW =  (1 / X_rem.shape[0]) * (X_rem.T @ (y_pred - y_rem))\n",
    "                    # Update Weights, consider the last few samples under last batch and \n",
    "                    # update with same learning rate\n",
    "                    self.W -= self.lr * dW \n",
    "                    if not self.multi_class:\n",
    "                        log_loss = - (1 / X_rem.shape[0]) * jnp.sum((y_rem * jnp.log(y_pred) + (1 - y_rem) * jnp.log(1 - y_pred)))\n",
    "                    else:\n",
    "                        log_loss = - (1 / X_rem.shape[0]) * jnp.sum(jnp.sum(y_rem * jnp.log(y_pred), axis=1))\n",
    "            \n",
    "                    epoch_loss.append(log_loss)\n",
    "                    if not self.multi_class:\n",
    "                        batch_acc = (jnp.where(y_pred >= 0.5, 1, 0) == y_rem).sum() / X_rem.shape[0]\n",
    "                    else:\n",
    "                        y_pred = jnp.argmax(y_pred, axis=1)\n",
    "                        y_rem_cat = jnp.argmax(y_rem, axis=1)\n",
    "                        batch_acc = (y_pred == y_rem_cat).sum() / X_rem.shape[0]\n",
    "                    epoch_acc.append(batch_acc)\n",
    "                 \n",
    "            \n",
    "            # Calculate Average Loss after each epoch\n",
    "            loss = np.mean(epoch_loss)\n",
    "            acc = np.mean(epoch_acc)\n",
    "            \n",
    "            self.train_acc.append(acc)\n",
    "            self.loss_progress.append(loss)\n",
    "            print(f\"Epoch {epoch + 1}: Loss: {loss}, Accuracy: {acc:.2f}%\")\n",
    "        \n",
    "    def predict(self, X):\n",
    "        X = jnp.hstack((jnp.ones(shape=(X.shape[0], 1)), X))  # Add bias term\n",
    "        return jax.nn.sigmoid(X @ self.W)\n",
    "        \n",
    "        "
   ]
  },
  {
   "cell_type": "markdown",
   "id": "d1b486a0",
   "metadata": {
    "papermill": {
     "duration": 0.007627,
     "end_time": "2024-04-29T02:31:10.367180",
     "exception": false,
     "start_time": "2024-04-29T02:31:10.359553",
     "status": "completed"
    },
    "tags": []
   },
   "source": [
    "# Load IRIS dataset with one class"
   ]
  },
  {
   "cell_type": "code",
   "execution_count": 4,
   "id": "a5f77091",
   "metadata": {
    "execution": {
     "iopub.execute_input": "2024-04-29T02:31:10.385247Z",
     "iopub.status.busy": "2024-04-29T02:31:10.384808Z",
     "iopub.status.idle": "2024-04-29T02:31:10.400121Z",
     "shell.execute_reply": "2024-04-29T02:31:10.399033Z"
    },
    "papermill": {
     "duration": 0.027705,
     "end_time": "2024-04-29T02:31:10.402690",
     "exception": false,
     "start_time": "2024-04-29T02:31:10.374985",
     "status": "completed"
    },
    "tags": []
   },
   "outputs": [],
   "source": [
    "iris = datasets.load_iris()\n",
    "X = iris[\"data\"][:, 3:] # petal width\n",
    "y = (iris[\"target\"] == 2).astype(int) # 1 if Iris-Virginica, else 0\n",
    "\n",
    "X_train, X_val, y_train, y_val = train_test_split(X, y, shuffle=True, random_state=seed, test_size=0.3)"
   ]
  },
  {
   "cell_type": "markdown",
   "id": "9f342e1b",
   "metadata": {
    "papermill": {
     "duration": 0.007545,
     "end_time": "2024-04-29T02:31:10.418249",
     "exception": false,
     "start_time": "2024-04-29T02:31:10.410704",
     "status": "completed"
    },
    "tags": []
   },
   "source": [
    "# Train the Logistic Regression Model"
   ]
  },
  {
   "cell_type": "code",
   "execution_count": 5,
   "id": "80d0f22b",
   "metadata": {
    "execution": {
     "iopub.execute_input": "2024-04-29T02:31:10.436535Z",
     "iopub.status.busy": "2024-04-29T02:31:10.435548Z",
     "iopub.status.idle": "2024-04-29T02:31:10.441487Z",
     "shell.execute_reply": "2024-04-29T02:31:10.440205Z"
    },
    "papermill": {
     "duration": 0.017781,
     "end_time": "2024-04-29T02:31:10.443996",
     "exception": false,
     "start_time": "2024-04-29T02:31:10.426215",
     "status": "completed"
    },
    "tags": []
   },
   "outputs": [],
   "source": [
    "logistic_regression = LogisticRegression(\n",
    "    key,\n",
    "    lr=0.1,\n",
    "    epochs=50,\n",
    "    batch_size=16\n",
    ")"
   ]
  },
  {
   "cell_type": "code",
   "execution_count": 6,
   "id": "048bb76e",
   "metadata": {
    "execution": {
     "iopub.execute_input": "2024-04-29T02:31:10.463233Z",
     "iopub.status.busy": "2024-04-29T02:31:10.462778Z",
     "iopub.status.idle": "2024-04-29T02:31:12.101895Z",
     "shell.execute_reply": "2024-04-29T02:31:12.100714Z"
    },
    "papermill": {
     "duration": 1.652223,
     "end_time": "2024-04-29T02:31:12.104263",
     "exception": false,
     "start_time": "2024-04-29T02:31:10.452040",
     "status": "completed"
    },
    "tags": []
   },
   "outputs": [
    {
     "name": "stdout",
     "output_type": "stream",
     "text": [
      "Epoch 1: Loss: 0.9007863402366638, Accuracy: 0.47%\n",
      "Epoch 2: Loss: 0.8482303023338318, Accuracy: 0.47%\n",
      "Epoch 3: Loss: 0.8019809126853943, Accuracy: 0.47%\n",
      "Epoch 4: Loss: 0.7606083750724792, Accuracy: 0.54%\n",
      "Epoch 5: Loss: 0.7233477234840393, Accuracy: 0.70%\n",
      "Epoch 6: Loss: 0.6897023320198059, Accuracy: 0.77%\n",
      "Epoch 7: Loss: 0.6592811942100525, Accuracy: 0.77%\n",
      "Epoch 8: Loss: 0.6317437887191772, Accuracy: 0.77%\n",
      "Epoch 9: Loss: 0.6067824959754944, Accuracy: 0.77%\n",
      "Epoch 10: Loss: 0.584118664264679, Accuracy: 0.77%\n",
      "Epoch 11: Loss: 0.563500165939331, Accuracy: 0.77%\n",
      "Epoch 12: Loss: 0.5447013974189758, Accuracy: 0.77%\n",
      "Epoch 13: Loss: 0.5275210738182068, Accuracy: 0.77%\n",
      "Epoch 14: Loss: 0.5117807388305664, Accuracy: 0.77%\n",
      "Epoch 15: Loss: 0.4973228871822357, Accuracy: 0.77%\n",
      "Epoch 16: Loss: 0.48400869965553284, Accuracy: 0.77%\n",
      "Epoch 17: Loss: 0.4717160761356354, Accuracy: 0.77%\n",
      "Epoch 18: Loss: 0.46033796668052673, Accuracy: 0.77%\n",
      "Epoch 19: Loss: 0.4497798979282379, Accuracy: 0.77%\n",
      "Epoch 20: Loss: 0.43995901942253113, Accuracy: 0.78%\n",
      "Epoch 21: Loss: 0.43080246448516846, Accuracy: 0.79%\n",
      "Epoch 22: Loss: 0.4222458600997925, Accuracy: 0.80%\n",
      "Epoch 23: Loss: 0.41423237323760986, Accuracy: 0.81%\n",
      "Epoch 24: Loss: 0.4067119359970093, Accuracy: 0.82%\n",
      "Epoch 25: Loss: 0.39963987469673157, Accuracy: 0.87%\n",
      "Epoch 26: Loss: 0.392976850271225, Accuracy: 0.87%\n",
      "Epoch 27: Loss: 0.3866875171661377, Accuracy: 0.88%\n",
      "Epoch 28: Loss: 0.38074052333831787, Accuracy: 0.89%\n",
      "Epoch 29: Loss: 0.375108003616333, Accuracy: 0.89%\n",
      "Epoch 30: Loss: 0.3697645366191864, Accuracy: 0.89%\n",
      "Epoch 31: Loss: 0.3646877110004425, Accuracy: 0.90%\n",
      "Epoch 32: Loss: 0.3598572015762329, Accuracy: 0.90%\n",
      "Epoch 33: Loss: 0.3552546203136444, Accuracy: 0.90%\n",
      "Epoch 34: Loss: 0.35086342692375183, Accuracy: 0.91%\n",
      "Epoch 35: Loss: 0.3466686010360718, Accuracy: 0.91%\n",
      "Epoch 36: Loss: 0.34265652298927307, Accuracy: 0.91%\n",
      "Epoch 37: Loss: 0.3388148248195648, Accuracy: 0.91%\n",
      "Epoch 38: Loss: 0.3351322114467621, Accuracy: 0.91%\n",
      "Epoch 39: Loss: 0.3315983712673187, Accuracy: 0.91%\n",
      "Epoch 40: Loss: 0.32820388674736023, Accuracy: 0.92%\n",
      "Epoch 41: Loss: 0.3249400556087494, Accuracy: 0.94%\n",
      "Epoch 42: Loss: 0.32179898023605347, Accuracy: 0.94%\n",
      "Epoch 43: Loss: 0.31877338886260986, Accuracy: 0.94%\n",
      "Epoch 44: Loss: 0.31585654616355896, Accuracy: 0.94%\n",
      "Epoch 45: Loss: 0.3130422532558441, Accuracy: 0.94%\n",
      "Epoch 46: Loss: 0.31032469868659973, Accuracy: 0.94%\n",
      "Epoch 47: Loss: 0.30769869685173035, Accuracy: 0.94%\n",
      "Epoch 48: Loss: 0.305159330368042, Accuracy: 0.94%\n",
      "Epoch 49: Loss: 0.30270203948020935, Accuracy: 0.94%\n",
      "Epoch 50: Loss: 0.3003224730491638, Accuracy: 0.94%\n"
     ]
    }
   ],
   "source": [
    "logistic_regression.fit(\n",
    "    X_train, y_train)"
   ]
  },
  {
   "cell_type": "markdown",
   "id": "d9c1ef15",
   "metadata": {
    "papermill": {
     "duration": 0.007775,
     "end_time": "2024-04-29T02:31:12.120018",
     "exception": false,
     "start_time": "2024-04-29T02:31:12.112243",
     "status": "completed"
    },
    "tags": []
   },
   "source": [
    "# Predicton on Validation Set"
   ]
  },
  {
   "cell_type": "code",
   "execution_count": 7,
   "id": "6e75f208",
   "metadata": {
    "execution": {
     "iopub.execute_input": "2024-04-29T02:31:12.138890Z",
     "iopub.status.busy": "2024-04-29T02:31:12.138474Z",
     "iopub.status.idle": "2024-04-29T02:31:12.390484Z",
     "shell.execute_reply": "2024-04-29T02:31:12.388915Z"
    },
    "papermill": {
     "duration": 0.264864,
     "end_time": "2024-04-29T02:31:12.393098",
     "exception": false,
     "start_time": "2024-04-29T02:31:12.128234",
     "status": "completed"
    },
    "tags": []
   },
   "outputs": [
    {
     "name": "stdout",
     "output_type": "stream",
     "text": [
      "Validation Accuracy:  0.91\n"
     ]
    }
   ],
   "source": [
    "y_pred = logistic_regression.predict(X_val)\n",
    "\n",
    "val_acc = ((y_pred >= 0.5)[:, 0] == y_val).sum() / X_val.shape[0]\n",
    "\n",
    "print(f\"Validation Accuracy: {val_acc: .2f}\")"
   ]
  },
  {
   "cell_type": "markdown",
   "id": "3e3d2904",
   "metadata": {
    "papermill": {
     "duration": 0.00795,
     "end_time": "2024-04-29T02:31:12.409327",
     "exception": false,
     "start_time": "2024-04-29T02:31:12.401377",
     "status": "completed"
    },
    "tags": []
   },
   "source": [
    "# Loss and Accuracy Curves"
   ]
  },
  {
   "cell_type": "code",
   "execution_count": 8,
   "id": "ff60f4d8",
   "metadata": {
    "execution": {
     "iopub.execute_input": "2024-04-29T02:31:12.429404Z",
     "iopub.status.busy": "2024-04-29T02:31:12.428354Z",
     "iopub.status.idle": "2024-04-29T02:31:12.763949Z",
     "shell.execute_reply": "2024-04-29T02:31:12.762741Z"
    },
    "papermill": {
     "duration": 0.349612,
     "end_time": "2024-04-29T02:31:12.766983",
     "exception": false,
     "start_time": "2024-04-29T02:31:12.417371",
     "status": "completed"
    },
    "tags": []
   },
   "outputs": [
    {
     "data": {
      "image/png": "[encoded data removed]",
      "text/plain": [
       "<Figure size 640x480 with 1 Axes>"
      ]
     },
     "metadata": {},
     "output_type": "display_data"
    }
   ],
   "source": [
    "sns.lineplot(logistic_regression.loss_progress, marker='o')\n",
    "plt.show()\n",
    "plt.show()"
   ]
  },
  {
   "cell_type": "code",
   "execution_count": 9,
   "id": "20377554",
   "metadata": {
    "execution": {
     "iopub.execute_input": "2024-04-29T02:31:12.790601Z",
     "iopub.status.busy": "2024-04-29T02:31:12.790157Z",
     "iopub.status.idle": "2024-04-29T02:31:12.992111Z",
     "shell.execute_reply": "2024-04-29T02:31:12.990806Z"
    },
    "papermill": {
     "duration": 0.215857,
     "end_time": "2024-04-29T02:31:12.994784",
     "exception": false,
     "start_time": "2024-04-29T02:31:12.778927",
     "status": "completed"
    },
    "tags": []
   },
   "outputs": [
    {
     "data": {
      "image/png": "[encoded data removed]",
      "text/plain": [
       "<Figure size 640x480 with 1 Axes>"
      ]
     },
     "metadata": {},
     "output_type": "display_data"
    }
   ],
   "source": [
    "sns.lineplot(logistic_regression.train_acc,  marker='o')\n",
    "plt.show()"
   ]
  },
  {
   "cell_type": "code",
   "execution_count": 10,
   "id": "fd038b4a",
   "metadata": {
    "execution": {
     "iopub.execute_input": "2024-04-29T02:31:13.015293Z",
     "iopub.status.busy": "2024-04-29T02:31:13.014644Z",
     "iopub.status.idle": "2024-04-29T02:31:13.856495Z",
     "shell.execute_reply": "2024-04-29T02:31:13.855383Z"
    },
    "papermill": {
     "duration": 0.855147,
     "end_time": "2024-04-29T02:31:13.859133",
     "exception": false,
     "start_time": "2024-04-29T02:31:13.003986",
     "status": "completed"
    },
    "tags": []
   },
   "outputs": [
    {
     "data": {
      "image/png": "[encoded data removed]",
      "text/plain": [
       "<Figure size 1200x400 with 1 Axes>"
      ]
     },
     "metadata": {},
     "output_type": "display_data"
    }
   ],
   "source": [
    "X_new = np.linspace(0, 3, 1000).reshape(-1, 1)\n",
    "y_proba = logistic_regression.predict(X_new)\n",
    "plt.figure(figsize=(12, 4))\n",
    "plt.plot(X_new, y_proba[:, 0], \"g-\", label=\"Iris-Virginica\")\n",
    "plt.plot(X_new, 1 - y_proba[:, 0], \"b--\", label=\"Not Iris-Virginica\")\n",
    "plt.show()"
   ]
  },
  {
   "cell_type": "markdown",
   "id": "8697571e",
   "metadata": {
    "papermill": {
     "duration": 0.009367,
     "end_time": "2024-04-29T02:31:13.878495",
     "exception": false,
     "start_time": "2024-04-29T02:31:13.869128",
     "status": "completed"
    },
    "tags": []
   },
   "source": [
    "# Let's train with all classes and features"
   ]
  },
  {
   "cell_type": "code",
   "execution_count": 11,
   "id": "8e789997",
   "metadata": {
    "execution": {
     "iopub.execute_input": "2024-04-29T02:31:13.899205Z",
     "iopub.status.busy": "2024-04-29T02:31:13.898786Z",
     "iopub.status.idle": "2024-04-29T02:31:13.906112Z",
     "shell.execute_reply": "2024-04-29T02:31:13.905055Z"
    },
    "papermill": {
     "duration": 0.020424,
     "end_time": "2024-04-29T02:31:13.908334",
     "exception": false,
     "start_time": "2024-04-29T02:31:13.887910",
     "status": "completed"
    },
    "tags": []
   },
   "outputs": [],
   "source": [
    "X = iris[\"data\"] \n",
    "y = (iris[\"target\"]).astype(int)\n",
    "\n",
    "X_train, X_val, y_train, y_val = train_test_split(X, y, shuffle=True, random_state=seed, test_size=0.2)"
   ]
  },
  {
   "cell_type": "markdown",
   "id": "875d4dbe",
   "metadata": {
    "papermill": {
     "duration": 0.009202,
     "end_time": "2024-04-29T02:31:13.926970",
     "exception": false,
     "start_time": "2024-04-29T02:31:13.917768",
     "status": "completed"
    },
    "tags": []
   },
   "source": [
    "# Basically here the activation will be softmax which will be help us optimize for multi-class"
   ]
  },
  {
   "cell_type": "code",
   "execution_count": 12,
   "id": "7abc401e",
   "metadata": {
    "execution": {
     "iopub.execute_input": "2024-04-29T02:31:13.947783Z",
     "iopub.status.busy": "2024-04-29T02:31:13.946966Z",
     "iopub.status.idle": "2024-04-29T02:31:13.952259Z",
     "shell.execute_reply": "2024-04-29T02:31:13.951205Z"
    },
    "papermill": {
     "duration": 0.018202,
     "end_time": "2024-04-29T02:31:13.954454",
     "exception": false,
     "start_time": "2024-04-29T02:31:13.936252",
     "status": "completed"
    },
    "tags": []
   },
   "outputs": [],
   "source": [
    "logistic_regression = LogisticRegression(\n",
    "    key,\n",
    "    lr=0.1,\n",
    "    epochs=30,\n",
    "    batch_size=16,\n",
    "    multi_class=True\n",
    ")"
   ]
  },
  {
   "cell_type": "markdown",
   "id": "1305e90f",
   "metadata": {
    "papermill": {
     "duration": 0.009209,
     "end_time": "2024-04-29T02:31:13.973711",
     "exception": false,
     "start_time": "2024-04-29T02:31:13.964502",
     "status": "completed"
    },
    "tags": []
   },
   "source": [
    "# Loss and Accuracy Curves"
   ]
  },
  {
   "cell_type": "code",
   "execution_count": 13,
   "id": "f5e16b96",
   "metadata": {
    "execution": {
     "iopub.execute_input": "2024-04-29T02:31:13.994767Z",
     "iopub.status.busy": "2024-04-29T02:31:13.994369Z",
     "iopub.status.idle": "2024-04-29T02:31:15.706963Z",
     "shell.execute_reply": "2024-04-29T02:31:15.705776Z"
    },
    "papermill": {
     "duration": 1.726397,
     "end_time": "2024-04-29T02:31:15.709545",
     "exception": false,
     "start_time": "2024-04-29T02:31:13.983148",
     "status": "completed"
    },
    "tags": []
   },
   "outputs": [
    {
     "name": "stdout",
     "output_type": "stream",
     "text": [
      "Epoch 1: Loss: 2.0844907760620117, Accuracy: 0.56%\n",
      "Epoch 2: Loss: 0.8838008046150208, Accuracy: 0.62%\n",
      "Epoch 3: Loss: 0.7433382868766785, Accuracy: 0.66%\n",
      "Epoch 4: Loss: 0.6358753442764282, Accuracy: 0.68%\n",
      "Epoch 5: Loss: 0.5504477024078369, Accuracy: 0.73%\n",
      "Epoch 6: Loss: 0.48418307304382324, Accuracy: 0.76%\n",
      "Epoch 7: Loss: 0.43404528498649597, Accuracy: 0.78%\n",
      "Epoch 8: Loss: 0.3957900106906891, Accuracy: 0.80%\n",
      "Epoch 9: Loss: 0.36575791239738464, Accuracy: 0.82%\n",
      "Epoch 10: Loss: 0.3414440155029297, Accuracy: 0.84%\n",
      "Epoch 11: Loss: 0.32123228907585144, Accuracy: 0.86%\n",
      "Epoch 12: Loss: 0.30407100915908813, Accuracy: 0.86%\n",
      "Epoch 13: Loss: 0.289254754781723, Accuracy: 0.86%\n",
      "Epoch 14: Loss: 0.27629315853118896, Accuracy: 0.88%\n",
      "Epoch 15: Loss: 0.2648329436779022, Accuracy: 0.89%\n",
      "Epoch 16: Loss: 0.2546113431453705, Accuracy: 0.89%\n",
      "Epoch 17: Loss: 0.24542680382728577, Accuracy: 0.90%\n",
      "Epoch 18: Loss: 0.23712165653705597, Accuracy: 0.90%\n",
      "Epoch 19: Loss: 0.2295697033405304, Accuracy: 0.91%\n",
      "Epoch 20: Loss: 0.22266820073127747, Accuracy: 0.92%\n",
      "Epoch 21: Loss: 0.21633268892765045, Accuracy: 0.92%\n",
      "Epoch 22: Loss: 0.21049277484416962, Accuracy: 0.92%\n",
      "Epoch 23: Loss: 0.20508944988250732, Accuracy: 0.92%\n",
      "Epoch 24: Loss: 0.20007263123989105, Accuracy: 0.92%\n",
      "Epoch 25: Loss: 0.19539953768253326, Accuracy: 0.92%\n",
      "Epoch 26: Loss: 0.19103367626667023, Accuracy: 0.93%\n",
      "Epoch 27: Loss: 0.1869434267282486, Accuracy: 0.94%\n",
      "Epoch 28: Loss: 0.18310149013996124, Accuracy: 0.94%\n",
      "Epoch 29: Loss: 0.1794840544462204, Accuracy: 0.95%\n",
      "Epoch 30: Loss: 0.17607031762599945, Accuracy: 0.95%\n"
     ]
    }
   ],
   "source": [
    "logistic_regression.fit(X_train, y_train)"
   ]
  },
  {
   "cell_type": "code",
   "execution_count": 14,
   "id": "0c424359",
   "metadata": {
    "execution": {
     "iopub.execute_input": "2024-04-29T02:31:15.732712Z",
     "iopub.status.busy": "2024-04-29T02:31:15.731877Z",
     "iopub.status.idle": "2024-04-29T02:31:16.013966Z",
     "shell.execute_reply": "2024-04-29T02:31:16.012832Z"
    },
    "papermill": {
     "duration": 0.296223,
     "end_time": "2024-04-29T02:31:16.016338",
     "exception": false,
     "start_time": "2024-04-29T02:31:15.720115",
     "status": "completed"
    },
    "tags": []
   },
   "outputs": [
    {
     "data": {
      "image/png": "[encoded data removed]",
      "text/plain": [
       "<Figure size 640x480 with 1 Axes>"
      ]
     },
     "metadata": {},
     "output_type": "display_data"
    }
   ],
   "source": [
    "sns.lineplot(logistic_regression.loss_progress, marker='o')\n",
    "plt.show()\n",
    "plt.show()"
   ]
  },
  {
   "cell_type": "code",
   "execution_count": 15,
   "id": "4c4a22c7",
   "metadata": {
    "execution": {
     "iopub.execute_input": "2024-04-29T02:31:16.038937Z",
     "iopub.status.busy": "2024-04-29T02:31:16.038473Z",
     "iopub.status.idle": "2024-04-29T02:31:16.326315Z",
     "shell.execute_reply": "2024-04-29T02:31:16.325203Z"
    },
    "papermill": {
     "duration": 0.302138,
     "end_time": "2024-04-29T02:31:16.328646",
     "exception": false,
     "start_time": "2024-04-29T02:31:16.026508",
     "status": "completed"
    },
    "tags": []
   },
   "outputs": [
    {
     "data": {
      "image/png": "[encoded data removed]",
      "text/plain": [
       "<Figure size 640x480 with 1 Axes>"
      ]
     },
     "metadata": {},
     "output_type": "display_data"
    }
   ],
   "source": [
    "sns.lineplot(logistic_regression.train_acc,  marker='o')\n",
    "plt.show()"
   ]
  },
  {
   "cell_type": "markdown",
   "id": "7160c801",
   "metadata": {
    "papermill": {
     "duration": 0.010947,
     "end_time": "2024-04-29T02:31:16.350288",
     "exception": false,
     "start_time": "2024-04-29T02:31:16.339341",
     "status": "completed"
    },
    "tags": []
   },
   "source": [
    "# References\n",
    "\n",
    "1. [Hands-On Machine Learning](https://www.amazon.com/Hands-Machine-Learning-Scikit-Learn-TensorFlow/dp/1098125975/ref=asc_df_1098125975/?tag=hyprod-20&linkCode=df0&hvadid=564681728094&hvpos=&hvnetw=g&hvrand=12536021134787862812&hvpone=&hvptwo=&hvqmt=&hvdev=c&hvdvcmdl=&hvlocint=&hvlocphy=9061321&hvtargid=pla-1651497364252&psc=1&mcid=ee20b34166b93f94b9a88a727e2204b3&gclid=CjwKCAjwt-OwBhBnEiwAgwzrUvy6fyRVoCj9LZC1E4kgyL5KvZKoFNJFSWa2nRThyPByYb_YQCTPERoCVQsQAvD_BwE)"
   ]
  }
 ],
 "metadata": {
  "kaggle": {
   "accelerator": "none",
   "dataSources": [],
   "dockerImageVersionId": 30698,
   "isGpuEnabled": false,
   "isInternetEnabled": true,
   "language": "python",
   "sourceType": "notebook"
  },
  "kernelspec": {
   "display_name": "Python 3",
   "language": "python",
   "name": "python3"
  },
  "language_info": {
   "codemirror_mode": {
    "name": "ipython",
    "version": 3
   },
   "file_extension": ".py",
   "mimetype": "text/x-python",
   "name": "python",
   "nbconvert_exporter": "python",
   "pygments_lexer": "ipython3",
   "version": "3.10.13"
  },
  "papermill": {
   "default_parameters": {},
   "duration": 14.486431,
   "end_time": "2024-04-29T02:31:17.286071",
   "environment_variables": {},
   "exception": null,
   "input_path": "__notebook__.ipynb",
   "output_path": "__notebook__.ipynb",
   "parameters": {},
   "start_time": "2024-04-29T02:31:02.799640",
   "version": "2.5.0"
  }
 },
 "nbformat": 4,
 "nbformat_minor": 5
}
