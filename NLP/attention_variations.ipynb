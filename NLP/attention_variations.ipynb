{
 "cells": [
  {
   "cell_type": "markdown",
   "id": "83eccffd",
   "metadata": {
    "papermill": {
     "duration": 0.013199,
     "end_time": "2024-04-26T00:26:34.178141",
     "exception": false,
     "start_time": "2024-04-26T00:26:34.164942",
     "status": "completed"
    },
    "tags": []
   },
   "source": [
    "# What is Einsum ?\n",
    "\n",
    "* Let's say we want to multiply two matrices `A` and `B` followed by calculating the sum of each column resulting in a vector `C`. Using Einstein summation notation, we can write this as\n",
    "\n",
    "$$c_{j} = \\sum_{i} \\sum_{j} A_{ik}B_{kj} = A_{ik}B_{kj}$$\n"
   ]
  },
  {
   "cell_type": "code",
   "execution_count": 1,
   "id": "d9e24ee1",
   "metadata": {
    "_cell_guid": "b1076dfc-b9ad-4769-8c92-a6c4dae69d19",
    "_uuid": "8f2839f25d086af736a60e9eeb907d3b93b6e0e5",
    "execution": {
     "iopub.execute_input": "2024-04-26T00:26:34.205253Z",
     "iopub.status.busy": "2024-04-26T00:26:34.204511Z",
     "iopub.status.idle": "2024-04-26T00:26:37.002186Z",
     "shell.execute_reply": "2024-04-26T00:26:37.000973Z"
    },
    "papermill": {
     "duration": 2.814535,
     "end_time": "2024-04-26T00:26:37.005047",
     "exception": false,
     "start_time": "2024-04-26T00:26:34.190512",
     "status": "completed"
    },
    "tags": []
   },
   "outputs": [],
   "source": [
    "import jax\n",
    "import jax.numpy as jnp\n",
    "import optax"
   ]
  },
  {
   "cell_type": "code",
   "execution_count": 2,
   "id": "912a70ea",
   "metadata": {
    "execution": {
     "iopub.execute_input": "2024-04-26T00:26:37.030197Z",
     "iopub.status.busy": "2024-04-26T00:26:37.029683Z",
     "iopub.status.idle": "2024-04-26T00:26:37.539898Z",
     "shell.execute_reply": "2024-04-26T00:26:37.538780Z"
    },
    "papermill": {
     "duration": 0.525736,
     "end_time": "2024-04-26T00:26:37.542422",
     "exception": false,
     "start_time": "2024-04-26T00:26:37.016686",
     "status": "completed"
    },
    "tags": []
   },
   "outputs": [],
   "source": [
    "a = jnp.arange(6).reshape((2, 3))"
   ]
  },
  {
   "cell_type": "markdown",
   "id": "1a054307",
   "metadata": {
    "papermill": {
     "duration": 0.011519,
     "end_time": "2024-04-26T00:26:37.565824",
     "exception": false,
     "start_time": "2024-04-26T00:26:37.554305",
     "status": "completed"
    },
    "tags": []
   },
   "source": [
    "# Transpose"
   ]
  },
  {
   "cell_type": "code",
   "execution_count": 3,
   "id": "f0eacfcf",
   "metadata": {
    "execution": {
     "iopub.execute_input": "2024-04-26T00:26:37.590934Z",
     "iopub.status.busy": "2024-04-26T00:26:37.590513Z",
     "iopub.status.idle": "2024-04-26T00:26:37.632585Z",
     "shell.execute_reply": "2024-04-26T00:26:37.631424Z"
    },
    "papermill": {
     "duration": 0.05818,
     "end_time": "2024-04-26T00:26:37.635420",
     "exception": false,
     "start_time": "2024-04-26T00:26:37.577240",
     "status": "completed"
    },
    "tags": []
   },
   "outputs": [
    {
     "data": {
      "text/plain": [
       "Array([[0, 3],\n",
       "       [1, 4],\n",
       "       [2, 5]], dtype=int32)"
      ]
     },
     "execution_count": 3,
     "metadata": {},
     "output_type": "execute_result"
    }
   ],
   "source": [
    "jnp.einsum(\"ij->ji\", a) # basically the notation is saying in abstract way to change each element from i,j position to j,i -> this is what expected in transpose"
   ]
  },
  {
   "cell_type": "markdown",
   "id": "ee96c8ac",
   "metadata": {
    "papermill": {
     "duration": 0.011243,
     "end_time": "2024-04-26T00:26:37.658321",
     "exception": false,
     "start_time": "2024-04-26T00:26:37.647078",
     "status": "completed"
    },
    "tags": []
   },
   "source": [
    "# Matrix Sum"
   ]
  },
  {
   "cell_type": "code",
   "execution_count": 4,
   "id": "f4d94bbb",
   "metadata": {
    "execution": {
     "iopub.execute_input": "2024-04-26T00:26:37.683984Z",
     "iopub.status.busy": "2024-04-26T00:26:37.683583Z",
     "iopub.status.idle": "2024-04-26T00:26:37.727311Z",
     "shell.execute_reply": "2024-04-26T00:26:37.726136Z"
    },
    "papermill": {
     "duration": 0.058816,
     "end_time": "2024-04-26T00:26:37.729688",
     "exception": false,
     "start_time": "2024-04-26T00:26:37.670872",
     "status": "completed"
    },
    "tags": []
   },
   "outputs": [
    {
     "data": {
      "text/plain": [
       "Array(15, dtype=int32)"
      ]
     },
     "execution_count": 4,
     "metadata": {},
     "output_type": "execute_result"
    }
   ],
   "source": [
    "jnp.einsum(\"ij->\", a) # matrix sum is a single scalar output so there is no notation after `->` which means collapse all columns and rows"
   ]
  },
  {
   "cell_type": "markdown",
   "id": "249f46d9",
   "metadata": {
    "papermill": {
     "duration": 0.011662,
     "end_time": "2024-04-26T00:26:37.753269",
     "exception": false,
     "start_time": "2024-04-26T00:26:37.741607",
     "status": "completed"
    },
    "tags": []
   },
   "source": [
    "# Column Sum"
   ]
  },
  {
   "cell_type": "code",
   "execution_count": 5,
   "id": "5a27d4c7",
   "metadata": {
    "execution": {
     "iopub.execute_input": "2024-04-26T00:26:37.779523Z",
     "iopub.status.busy": "2024-04-26T00:26:37.778955Z",
     "iopub.status.idle": "2024-04-26T00:26:37.808368Z",
     "shell.execute_reply": "2024-04-26T00:26:37.807129Z"
    },
    "papermill": {
     "duration": 0.045585,
     "end_time": "2024-04-26T00:26:37.811100",
     "exception": false,
     "start_time": "2024-04-26T00:26:37.765515",
     "status": "completed"
    },
    "tags": []
   },
   "outputs": [
    {
     "data": {
      "text/plain": [
       "Array([3, 5, 7], dtype=int32)"
      ]
     },
     "execution_count": 5,
     "metadata": {},
     "output_type": "execute_result"
    }
   ],
   "source": [
    "jnp.einsum(\"ij->j\", a) # matrix sum column wise so the output has only how many dimensions in the column so rows are collapsed."
   ]
  },
  {
   "cell_type": "markdown",
   "id": "c86c8774",
   "metadata": {
    "papermill": {
     "duration": 0.011641,
     "end_time": "2024-04-26T00:26:37.835188",
     "exception": false,
     "start_time": "2024-04-26T00:26:37.823547",
     "status": "completed"
    },
    "tags": []
   },
   "source": [
    "# Row Sum"
   ]
  },
  {
   "cell_type": "code",
   "execution_count": 6,
   "id": "b9b20d13",
   "metadata": {
    "execution": {
     "iopub.execute_input": "2024-04-26T00:26:37.861599Z",
     "iopub.status.busy": "2024-04-26T00:26:37.860469Z",
     "iopub.status.idle": "2024-04-26T00:26:37.889881Z",
     "shell.execute_reply": "2024-04-26T00:26:37.888719Z"
    },
    "papermill": {
     "duration": 0.044896,
     "end_time": "2024-04-26T00:26:37.892131",
     "exception": false,
     "start_time": "2024-04-26T00:26:37.847235",
     "status": "completed"
    },
    "tags": []
   },
   "outputs": [
    {
     "data": {
      "text/plain": [
       "Array([ 3, 12], dtype=int32)"
      ]
     },
     "execution_count": 6,
     "metadata": {},
     "output_type": "execute_result"
    }
   ],
   "source": [
    "jnp.einsum(\"ij->i\", a)"
   ]
  },
  {
   "cell_type": "markdown",
   "id": "eb05515f",
   "metadata": {
    "papermill": {
     "duration": 0.011609,
     "end_time": "2024-04-26T00:26:37.915774",
     "exception": false,
     "start_time": "2024-04-26T00:26:37.904165",
     "status": "completed"
    },
    "tags": []
   },
   "source": [
    "# Matrix-Vector Multiplication\n",
    "\n",
    "\n"
   ]
  },
  {
   "cell_type": "code",
   "execution_count": 7,
   "id": "2204e9c0",
   "metadata": {
    "execution": {
     "iopub.execute_input": "2024-04-26T00:26:37.942662Z",
     "iopub.status.busy": "2024-04-26T00:26:37.941706Z",
     "iopub.status.idle": "2024-04-26T00:26:37.996623Z",
     "shell.execute_reply": "2024-04-26T00:26:37.995436Z"
    },
    "papermill": {
     "duration": 0.071345,
     "end_time": "2024-04-26T00:26:37.999266",
     "exception": false,
     "start_time": "2024-04-26T00:26:37.927921",
     "status": "completed"
    },
    "tags": []
   },
   "outputs": [
    {
     "data": {
      "text/plain": [
       "Array([ 5, 14], dtype=int32)"
      ]
     },
     "execution_count": 7,
     "metadata": {},
     "output_type": "execute_result"
    }
   ],
   "source": [
    "b = jnp.arange(3) # (3, )\n",
    "jnp.einsum(\"ij,j->i\", a, b) # same as jnp.dot(a, b)"
   ]
  },
  {
   "cell_type": "markdown",
   "id": "84f03740",
   "metadata": {
    "papermill": {
     "duration": 0.011832,
     "end_time": "2024-04-26T00:26:38.023874",
     "exception": false,
     "start_time": "2024-04-26T00:26:38.012042",
     "status": "completed"
    },
    "tags": []
   },
   "source": [
    "# Matrix-Matrix Multiplication"
   ]
  },
  {
   "cell_type": "code",
   "execution_count": 8,
   "id": "edf8be93",
   "metadata": {
    "execution": {
     "iopub.execute_input": "2024-04-26T00:26:38.051394Z",
     "iopub.status.busy": "2024-04-26T00:26:38.050498Z",
     "iopub.status.idle": "2024-04-26T00:26:38.124120Z",
     "shell.execute_reply": "2024-04-26T00:26:38.122867Z"
    },
    "papermill": {
     "duration": 0.089904,
     "end_time": "2024-04-26T00:26:38.126776",
     "exception": false,
     "start_time": "2024-04-26T00:26:38.036872",
     "status": "completed"
    },
    "tags": []
   },
   "outputs": [
    {
     "data": {
      "text/plain": [
       "Array([[ 25,  28,  31,  34,  37],\n",
       "       [ 70,  82,  94, 106, 118]], dtype=int32)"
      ]
     },
     "execution_count": 8,
     "metadata": {},
     "output_type": "execute_result"
    }
   ],
   "source": [
    "a = jnp.arange(6).reshape(2, 3)\n",
    "b = jnp.arange(15).reshape(3, 5)\n",
    "jnp.einsum('ik,kj->ij', a, b)"
   ]
  },
  {
   "cell_type": "code",
   "execution_count": 9,
   "id": "dd4d3267",
   "metadata": {
    "execution": {
     "iopub.execute_input": "2024-04-26T00:26:38.153768Z",
     "iopub.status.busy": "2024-04-26T00:26:38.153093Z",
     "iopub.status.idle": "2024-04-26T00:26:38.196717Z",
     "shell.execute_reply": "2024-04-26T00:26:38.195678Z"
    },
    "papermill": {
     "duration": 0.060285,
     "end_time": "2024-04-26T00:26:38.199454",
     "exception": false,
     "start_time": "2024-04-26T00:26:38.139169",
     "status": "completed"
    },
    "tags": []
   },
   "outputs": [
    {
     "data": {
      "text/plain": [
       "Array([ 95, 110, 125, 140, 155], dtype=int32)"
      ]
     },
     "execution_count": 9,
     "metadata": {},
     "output_type": "execute_result"
    }
   ],
   "source": [
    "jnp.einsum('ik,kj->j', a, b) # matrix multiplication plus columns wise sum"
   ]
  },
  {
   "cell_type": "code",
   "execution_count": 10,
   "id": "8b4a6e15",
   "metadata": {
    "execution": {
     "iopub.execute_input": "2024-04-26T00:26:38.227107Z",
     "iopub.status.busy": "2024-04-26T00:26:38.226710Z",
     "iopub.status.idle": "2024-04-26T00:26:38.265675Z",
     "shell.execute_reply": "2024-04-26T00:26:38.264562Z"
    },
    "papermill": {
     "duration": 0.055733,
     "end_time": "2024-04-26T00:26:38.268466",
     "exception": false,
     "start_time": "2024-04-26T00:26:38.212733",
     "status": "completed"
    },
    "tags": []
   },
   "outputs": [
    {
     "data": {
      "text/plain": [
       "Array([155, 470], dtype=int32)"
      ]
     },
     "execution_count": 10,
     "metadata": {},
     "output_type": "execute_result"
    }
   ],
   "source": [
    "jnp.einsum('ik,kj->i', a, b) # matrix multiplication plus row wise sum"
   ]
  },
  {
   "cell_type": "markdown",
   "id": "9fd78ebf",
   "metadata": {
    "papermill": {
     "duration": 0.012722,
     "end_time": "2024-04-26T00:26:38.294088",
     "exception": false,
     "start_time": "2024-04-26T00:26:38.281366",
     "status": "completed"
    },
    "tags": []
   },
   "source": [
    "# Dot Product"
   ]
  },
  {
   "cell_type": "code",
   "execution_count": 11,
   "id": "19c756a2",
   "metadata": {
    "execution": {
     "iopub.execute_input": "2024-04-26T00:26:38.322476Z",
     "iopub.status.busy": "2024-04-26T00:26:38.321829Z",
     "iopub.status.idle": "2024-04-26T00:26:38.369116Z",
     "shell.execute_reply": "2024-04-26T00:26:38.367744Z"
    },
    "papermill": {
     "duration": 0.06441,
     "end_time": "2024-04-26T00:26:38.371661",
     "exception": false,
     "start_time": "2024-04-26T00:26:38.307251",
     "status": "completed"
    },
    "tags": []
   },
   "outputs": [
    {
     "data": {
      "text/plain": [
       "Array(14, dtype=int32)"
      ]
     },
     "execution_count": 11,
     "metadata": {},
     "output_type": "execute_result"
    }
   ],
   "source": [
    "a = jnp.arange(3)\n",
    "b = jnp.arange(3,6)\n",
    "jnp.einsum('i,i->', a, b) # notation is basically i is index of a matrix and the i index in b multiplied index wise"
   ]
  },
  {
   "cell_type": "markdown",
   "id": "449e13f1",
   "metadata": {
    "papermill": {
     "duration": 0.012525,
     "end_time": "2024-04-26T00:26:38.397180",
     "exception": false,
     "start_time": "2024-04-26T00:26:38.384655",
     "status": "completed"
    },
    "tags": []
   },
   "source": [
    "# Element Wise Multiplication of Two Matrices and the summation"
   ]
  },
  {
   "cell_type": "code",
   "execution_count": 12,
   "id": "b431b9e3",
   "metadata": {
    "execution": {
     "iopub.execute_input": "2024-04-26T00:26:38.425032Z",
     "iopub.status.busy": "2024-04-26T00:26:38.424588Z",
     "iopub.status.idle": "2024-04-26T00:26:38.469330Z",
     "shell.execute_reply": "2024-04-26T00:26:38.468149Z"
    },
    "papermill": {
     "duration": 0.062006,
     "end_time": "2024-04-26T00:26:38.472207",
     "exception": false,
     "start_time": "2024-04-26T00:26:38.410201",
     "status": "completed"
    },
    "tags": []
   },
   "outputs": [
    {
     "data": {
      "text/plain": [
       "Array([[ 0,  7, 16],\n",
       "       [27, 40, 55]], dtype=int32)"
      ]
     },
     "execution_count": 12,
     "metadata": {},
     "output_type": "execute_result"
    }
   ],
   "source": [
    "a = jnp.arange(6).reshape(2, 3)\n",
    "b = jnp.arange(6,12).reshape(2, 3)\n",
    "jnp.einsum('ij,ij->ij', a, b)"
   ]
  },
  {
   "cell_type": "code",
   "execution_count": 13,
   "id": "667024f5",
   "metadata": {
    "execution": {
     "iopub.execute_input": "2024-04-26T00:26:38.501277Z",
     "iopub.status.busy": "2024-04-26T00:26:38.500343Z",
     "iopub.status.idle": "2024-04-26T00:26:38.531028Z",
     "shell.execute_reply": "2024-04-26T00:26:38.529896Z"
    },
    "papermill": {
     "duration": 0.047838,
     "end_time": "2024-04-26T00:26:38.533537",
     "exception": false,
     "start_time": "2024-04-26T00:26:38.485699",
     "status": "completed"
    },
    "tags": []
   },
   "outputs": [
    {
     "data": {
      "text/plain": [
       "Array(145, dtype=int32)"
      ]
     },
     "execution_count": 13,
     "metadata": {},
     "output_type": "execute_result"
    }
   ],
   "source": [
    "jnp.einsum('ij,ij->', a, b)"
   ]
  },
  {
   "cell_type": "markdown",
   "id": "ecb20201",
   "metadata": {
    "papermill": {
     "duration": 0.012743,
     "end_time": "2024-04-26T00:26:38.559487",
     "exception": false,
     "start_time": "2024-04-26T00:26:38.546744",
     "status": "completed"
    },
    "tags": []
   },
   "source": [
    "# Outer Product\n",
    "\n",
    "Given two vectors of size $m \\times 1$ and $n \\times 1$respectively\n",
    "\n",
    "$$ u = \\begin{bmatrix}\n",
    "  u_{1} \\\\\n",
    "  u_{2} \\\\\n",
    "  u_{3} \\\\\n",
    "  u_{4} \\\\\n",
    "\\end{bmatrix}\n",
    "\\,\n",
    "v = \\begin{bmatrix}\n",
    "  v_{1} \\\\\n",
    "  v_{2} \\\\\n",
    "  v_{3} \\\\\n",
    "\\end{bmatrix}$$\n",
    "$$$$\n",
    "$$ u \\otimes  v = uv^{T} = \\begin{bmatrix}\n",
    "  u_{1}v_{1} & u_{1}v_{2} & u_{1}v_{3}\\\\\n",
    "  u_{2}v_{1} & u_{2}v_{2} & u_{2}v_{3}\\\\\n",
    "  u_{3}v_{1} & u_{3}v_{2} & u_{3}v_{3}\\\\\n",
    "  u_{4}v_{1} & u_{4}v_{2} & u_{4}v_{3}\\\\\n",
    "\\end{bmatrix}$$"
   ]
  },
  {
   "cell_type": "code",
   "execution_count": 14,
   "id": "79ba2414",
   "metadata": {
    "execution": {
     "iopub.execute_input": "2024-04-26T00:26:38.590155Z",
     "iopub.status.busy": "2024-04-26T00:26:38.589731Z",
     "iopub.status.idle": "2024-04-26T00:26:38.640999Z",
     "shell.execute_reply": "2024-04-26T00:26:38.639880Z"
    },
    "papermill": {
     "duration": 0.070522,
     "end_time": "2024-04-26T00:26:38.643956",
     "exception": false,
     "start_time": "2024-04-26T00:26:38.573434",
     "status": "completed"
    },
    "tags": []
   },
   "outputs": [
    {
     "data": {
      "text/plain": [
       "Array([[ 0,  0,  0,  0],\n",
       "       [ 3,  4,  5,  6],\n",
       "       [ 6,  8, 10, 12]], dtype=int32)"
      ]
     },
     "execution_count": 14,
     "metadata": {},
     "output_type": "execute_result"
    }
   ],
   "source": [
    "a = jnp.arange(3)\n",
    "b = jnp.arange(3,7)\n",
    "jnp.einsum('i,j->ij', a, b)"
   ]
  },
  {
   "cell_type": "markdown",
   "id": "2a8a5ca7",
   "metadata": {
    "papermill": {
     "duration": 0.01295,
     "end_time": "2024-04-26T00:26:38.670273",
     "exception": false,
     "start_time": "2024-04-26T00:26:38.657323",
     "status": "completed"
    },
    "tags": []
   },
   "source": [
    "# Dot-Product Attention\n",
    "\n",
    "$$ Attention(q, K, V) = softmax(\\dfrac {q \\cdot K^{T}}{\\sqrt d_{k}})V$$"
   ]
  },
  {
   "cell_type": "code",
   "execution_count": 15,
   "id": "4013a751",
   "metadata": {
    "execution": {
     "iopub.execute_input": "2024-04-26T00:26:38.698919Z",
     "iopub.status.busy": "2024-04-26T00:26:38.698514Z",
     "iopub.status.idle": "2024-04-26T00:26:38.705742Z",
     "shell.execute_reply": "2024-04-26T00:26:38.704536Z"
    },
    "papermill": {
     "duration": 0.024564,
     "end_time": "2024-04-26T00:26:38.708392",
     "exception": false,
     "start_time": "2024-04-26T00:26:38.683828",
     "status": "completed"
    },
    "tags": []
   },
   "outputs": [],
   "source": [
    "def dot_product_attention(q, K, V):\n",
    "    \"\"\" \n",
    "    Dot−Product Attention on one query.\n",
    "    Args :\n",
    "        q : a vector with shape [k]\n",
    "        K: a matrix with shape [m, k]\n",
    "        V: a ma trix with shape [m, v]\n",
    "    Returns :\n",
    "        y : a vector with shape [v]\n",
    "    \"\"\"\n",
    "    \n",
    "    logits = jnp.einsum(\"k,mk->m\", q, K)\n",
    "    weights = jax.nn.softmax(logits)\n",
    "    return jnp.einsum(\"m,mv->v\", weights, V)\n",
    "    "
   ]
  },
  {
   "cell_type": "code",
   "execution_count": 16,
   "id": "b3a0673d",
   "metadata": {
    "execution": {
     "iopub.execute_input": "2024-04-26T00:26:38.737220Z",
     "iopub.status.busy": "2024-04-26T00:26:38.736766Z",
     "iopub.status.idle": "2024-04-26T00:26:38.781262Z",
     "shell.execute_reply": "2024-04-26T00:26:38.780137Z"
    },
    "papermill": {
     "duration": 0.062246,
     "end_time": "2024-04-26T00:26:38.784087",
     "exception": false,
     "start_time": "2024-04-26T00:26:38.721841",
     "status": "completed"
    },
    "tags": []
   },
   "outputs": [],
   "source": [
    "key = jax.random.PRNGKey(13)\n",
    "d_model = 512\n",
    "seq_len = 128\n",
    "num_heads = 8\n",
    "batch_size = 32"
   ]
  },
  {
   "cell_type": "code",
   "execution_count": 17,
   "id": "1bf7401f",
   "metadata": {
    "execution": {
     "iopub.execute_input": "2024-04-26T00:26:38.812952Z",
     "iopub.status.busy": "2024-04-26T00:26:38.812181Z",
     "iopub.status.idle": "2024-04-26T00:26:39.161940Z",
     "shell.execute_reply": "2024-04-26T00:26:39.160789Z"
    },
    "papermill": {
     "duration": 0.367241,
     "end_time": "2024-04-26T00:26:39.164709",
     "exception": false,
     "start_time": "2024-04-26T00:26:38.797468",
     "status": "completed"
    },
    "tags": []
   },
   "outputs": [],
   "source": [
    "q = jax.random.uniform(key, shape=(d_model // num_heads,)) # One token with embedding size of 384 projected to a 64 one of head\n",
    "K = jax.random.uniform(key, shape=(seq_len, d_model // num_heads)) # consider a sentence with max of 128 sequence length and each token with 384 dimension projected to a 64 one of head\n",
    "V = jax.random.uniform(key, shape=(seq_len, d_model // num_heads)) # consider a sentence with max of 128 sequence length and each token with 384 dimension projected to a 64 one of head"
   ]
  },
  {
   "cell_type": "code",
   "execution_count": 18,
   "id": "2ab796b1",
   "metadata": {
    "execution": {
     "iopub.execute_input": "2024-04-26T00:26:39.194852Z",
     "iopub.status.busy": "2024-04-26T00:26:39.194441Z",
     "iopub.status.idle": "2024-04-26T00:26:39.201050Z",
     "shell.execute_reply": "2024-04-26T00:26:39.199399Z"
    },
    "papermill": {
     "duration": 0.024625,
     "end_time": "2024-04-26T00:26:39.203638",
     "exception": false,
     "start_time": "2024-04-26T00:26:39.179013",
     "status": "completed"
    },
    "tags": []
   },
   "outputs": [
    {
     "name": "stdout",
     "output_type": "stream",
     "text": [
      "q: (64,)\n",
      "K: (128, 64)\n",
      "V: (128, 64)\n"
     ]
    }
   ],
   "source": [
    "print(f\"q: {q.shape}\")\n",
    "print(f\"K: {K.shape}\")\n",
    "print(f\"V: {V.shape}\")"
   ]
  },
  {
   "cell_type": "code",
   "execution_count": 19,
   "id": "80c4528e",
   "metadata": {
    "execution": {
     "iopub.execute_input": "2024-04-26T00:26:39.232752Z",
     "iopub.status.busy": "2024-04-26T00:26:39.232378Z",
     "iopub.status.idle": "2024-04-26T00:26:39.417841Z",
     "shell.execute_reply": "2024-04-26T00:26:39.416652Z"
    },
    "papermill": {
     "duration": 0.203173,
     "end_time": "2024-04-26T00:26:39.420492",
     "exception": false,
     "start_time": "2024-04-26T00:26:39.217319",
     "status": "completed"
    },
    "tags": []
   },
   "outputs": [
    {
     "data": {
      "text/plain": [
       "(64,)"
      ]
     },
     "execution_count": 19,
     "metadata": {},
     "output_type": "execute_result"
    }
   ],
   "source": [
    "attention_scores = dot_product_attention(q, K, V)\n",
    "attention_scores.shape"
   ]
  },
  {
   "cell_type": "markdown",
   "id": "aec02439",
   "metadata": {
    "papermill": {
     "duration": 0.013334,
     "end_time": "2024-04-26T00:26:39.447416",
     "exception": false,
     "start_time": "2024-04-26T00:26:39.434082",
     "status": "completed"
    },
    "tags": []
   },
   "source": [
    "# Scaled Dot-Product Attention\n",
    "\n",
    "$$ Attention(Q, K, V) = softmax(\\dfrac {Q \\cdot K^{T}}{\\sqrt d_{k}})V$$"
   ]
  },
  {
   "cell_type": "code",
   "execution_count": 20,
   "id": "dc19f15b",
   "metadata": {
    "execution": {
     "iopub.execute_input": "2024-04-26T00:26:39.475980Z",
     "iopub.status.busy": "2024-04-26T00:26:39.475551Z",
     "iopub.status.idle": "2024-04-26T00:26:39.481995Z",
     "shell.execute_reply": "2024-04-26T00:26:39.480853Z"
    },
    "papermill": {
     "duration": 0.023449,
     "end_time": "2024-04-26T00:26:39.484299",
     "exception": false,
     "start_time": "2024-04-26T00:26:39.460850",
     "status": "completed"
    },
    "tags": []
   },
   "outputs": [],
   "source": [
    "def scaled_dot_product_attention(Q, K, V):\n",
    "    \"\"\" \n",
    "    Scaled Dot−Product Attention on maximum sequence length of queries.\n",
    "    Args :\n",
    "        Q: a matrix with shape [m, q]\n",
    "        K: a matrix with shape [m, k]\n",
    "        V: a matrix with shape [m, v]\n",
    "    Returns :\n",
    "        y : a vector with shape [m, v]\n",
    "    \"\"\"\n",
    "    \n",
    "    logits = jnp.einsum(\"mq,mk->qk\", Q, K)\n",
    "    weights = jax.nn.softmax(logits)\n",
    "    return jnp.einsum(\"vv,mv->mv\", weights, V)\n",
    "    "
   ]
  },
  {
   "cell_type": "code",
   "execution_count": 21,
   "id": "901e0cd8",
   "metadata": {
    "execution": {
     "iopub.execute_input": "2024-04-26T00:26:39.513363Z",
     "iopub.status.busy": "2024-04-26T00:26:39.512974Z",
     "iopub.status.idle": "2024-04-26T00:26:39.521183Z",
     "shell.execute_reply": "2024-04-26T00:26:39.520090Z"
    },
    "papermill": {
     "duration": 0.025731,
     "end_time": "2024-04-26T00:26:39.523607",
     "exception": false,
     "start_time": "2024-04-26T00:26:39.497876",
     "status": "completed"
    },
    "tags": []
   },
   "outputs": [],
   "source": [
    "Q = jax.random.uniform(key, shape=(seq_len, d_model // num_heads)) # consider a sentence with max of 128 sequence length and each token with 384 dimension projected to a 64 one of head\n",
    "K = jax.random.uniform(key, shape=(seq_len, d_model // num_heads)) # consider a sentence with max of 128 sequence length and each token with 384 dimension projected to a 64 one of head\n",
    "V = jax.random.uniform(key, shape=(seq_len, d_model // num_heads)) # consider a sentence with max of 128 sequence length and each token with 384 dimension projected to a 64 one of head"
   ]
  },
  {
   "cell_type": "code",
   "execution_count": 22,
   "id": "b9d7fd37",
   "metadata": {
    "execution": {
     "iopub.execute_input": "2024-04-26T00:26:39.552701Z",
     "iopub.status.busy": "2024-04-26T00:26:39.552214Z",
     "iopub.status.idle": "2024-04-26T00:26:39.815101Z",
     "shell.execute_reply": "2024-04-26T00:26:39.813082Z"
    },
    "papermill": {
     "duration": 0.280275,
     "end_time": "2024-04-26T00:26:39.817472",
     "exception": false,
     "start_time": "2024-04-26T00:26:39.537197",
     "status": "completed"
    },
    "tags": []
   },
   "outputs": [
    {
     "data": {
      "text/plain": [
       "(128, 64)"
      ]
     },
     "execution_count": 22,
     "metadata": {},
     "output_type": "execute_result"
    }
   ],
   "source": [
    "attention_scores = scaled_dot_product_attention(Q, K, V)\n",
    "attention_scores.shape"
   ]
  },
  {
   "cell_type": "code",
   "execution_count": 23,
   "id": "38f17cb3",
   "metadata": {
    "execution": {
     "iopub.execute_input": "2024-04-26T00:26:39.846663Z",
     "iopub.status.busy": "2024-04-26T00:26:39.846286Z",
     "iopub.status.idle": "2024-04-26T00:26:39.853527Z",
     "shell.execute_reply": "2024-04-26T00:26:39.852697Z"
    },
    "papermill": {
     "duration": 0.024205,
     "end_time": "2024-04-26T00:26:39.855569",
     "exception": false,
     "start_time": "2024-04-26T00:26:39.831364",
     "status": "completed"
    },
    "tags": []
   },
   "outputs": [],
   "source": [
    "def multi_head_attention(\n",
    "    X, M, P_q, P_k, P_v, P_o):\n",
    "    \"\"\"Multi-head Attention on maximum sequence length of queries.\n",
    "    Args:\n",
    "        X: a matrix with shape of [n, d]\n",
    "        M: a matrix with shape of [m, d]\n",
    "        P_q: a tensor with shape of [h, d, k]\n",
    "        P_k: a tensor with shape of [h, d, k]\n",
    "        P_v: a tensor with shape of [h, d, v]\n",
    "        P_o:  a tensor with shape of [h, d, v]\n",
    "    Returns:\n",
    "        y: a tensor with shape of [n, d]\n",
    "    \"\"\"\n",
    "    Q = jnp.einsum(\"nd,hdk->hnk\", X, P_q)\n",
    "    K = jnp.einsum(\"md,hdk->hmk\", M, P_k)\n",
    "    V = jnp.einsum(\"md,hdv->hmv\", M, P_v)\n",
    "    \n",
    "    logits = jnp.einsum(\"hnk,hmk->hnm\", Q, K)\n",
    "    weights = jax.nn.softmax(logits)\n",
    "    O = jnp.einsum(\"hnm,hmv->hnv\", weights, V)\n",
    "    Y = jnp.einsum(\"hnv,hdv->nd\", O, P_o)\n",
    "    \n",
    "    return Y"
   ]
  },
  {
   "cell_type": "code",
   "execution_count": 24,
   "id": "3466927f",
   "metadata": {
    "execution": {
     "iopub.execute_input": "2024-04-26T00:26:39.884994Z",
     "iopub.status.busy": "2024-04-26T00:26:39.883992Z",
     "iopub.status.idle": "2024-04-26T00:26:41.047234Z",
     "shell.execute_reply": "2024-04-26T00:26:41.043524Z"
    },
    "papermill": {
     "duration": 1.180822,
     "end_time": "2024-04-26T00:26:41.050102",
     "exception": false,
     "start_time": "2024-04-26T00:26:39.869280",
     "status": "completed"
    },
    "tags": []
   },
   "outputs": [
    {
     "data": {
      "text/plain": [
       "(128, 512)"
      ]
     },
     "execution_count": 24,
     "metadata": {},
     "output_type": "execute_result"
    }
   ],
   "source": [
    "X = jax.random.uniform(key, shape=(seq_len, d_model)) # Input tensor with seq_len and embedding size \n",
    "M = jax.random.uniform(key, shape=(seq_len, d_model)) \n",
    "\n",
    "# Basically this is the dense layer weights, so when input is passed through dense layer we will get an outputs shape (heads, seql_len, head_size) projection\n",
    "P_q = jax.random.uniform(key, shape=(seq_len, d_model, d_model // num_heads)) # Projection of input tensor embeddings to each head size which is d_model // num_heads\n",
    "P_k = jax.random.uniform(key, shape=(seq_len, d_model, d_model // num_heads))\n",
    "P_v = jax.random.uniform(key, shape=(seq_len, d_model, d_model // num_heads))\n",
    "P_o = jax.random.uniform(key, shape=(seq_len, d_model, d_model // num_heads))\n",
    "\n",
    "attention_scores = multi_head_attention(X, M, P_q, P_k, P_v, P_o)\n",
    "attention_scores.shape"
   ]
  },
  {
   "cell_type": "code",
   "execution_count": 25,
   "id": "764b7c73",
   "metadata": {
    "execution": {
     "iopub.execute_input": "2024-04-26T00:26:41.085340Z",
     "iopub.status.busy": "2024-04-26T00:26:41.084026Z",
     "iopub.status.idle": "2024-04-26T00:26:41.094305Z",
     "shell.execute_reply": "2024-04-26T00:26:41.093184Z"
    },
    "papermill": {
     "duration": 0.028895,
     "end_time": "2024-04-26T00:26:41.097361",
     "exception": false,
     "start_time": "2024-04-26T00:26:41.068466",
     "status": "completed"
    },
    "tags": []
   },
   "outputs": [],
   "source": [
    "def batched_multi_head_attention(\n",
    "    X, M, P_q, P_k, P_v, P_o):\n",
    "    \"\"\"Multi-head Attention on maximum sequence length of queries.\n",
    "    Args:\n",
    "        X: a matrix with shape of [b, n, d]\n",
    "        M: a matrix with shape of [b, m, d]\n",
    "        P_q: a tensor with shape of [b, h, d, k]\n",
    "        P_k: a tensor with shape of [b, h, d, k]\n",
    "        P_v: a tensor with shape of [b, h, d, v]\n",
    "        P_o:  a tensor with shape of [b, h, d, v]\n",
    "    Returns:\n",
    "        y: a tensor with shape of [b, n, d]\n",
    "    \"\"\"\n",
    "    Q = jnp.einsum(\"bnd,bhdk->bhnk\", X, P_q)\n",
    "    K = jnp.einsum(\"bmd,bhdk->bhmk\", M, P_k)\n",
    "    V = jnp.einsum(\"bmd,bhdv->bhmv\", M, P_v)\n",
    "    \n",
    "    logits = jnp.einsum(\"bhnk,bhmk->bhnm\", Q, K)\n",
    "    weights = jax.nn.softmax(logits)\n",
    "    O = jnp.einsum(\"bhnm,bhmv->bhnv\", weights, V)\n",
    "    Y = jnp.einsum(\"bhnv,bhdv->bnd\", O, P_o)\n",
    "    \n",
    "    return Y"
   ]
  },
  {
   "cell_type": "code",
   "execution_count": 26,
   "id": "dead63af",
   "metadata": {
    "execution": {
     "iopub.execute_input": "2024-04-26T00:26:41.127857Z",
     "iopub.status.busy": "2024-04-26T00:26:41.127436Z",
     "iopub.status.idle": "2024-04-26T00:26:53.261867Z",
     "shell.execute_reply": "2024-04-26T00:26:53.260330Z"
    },
    "papermill": {
     "duration": 12.153145,
     "end_time": "2024-04-26T00:26:53.264398",
     "exception": false,
     "start_time": "2024-04-26T00:26:41.111253",
     "status": "completed"
    },
    "tags": []
   },
   "outputs": [
    {
     "data": {
      "text/plain": [
       "(32, 128, 512)"
      ]
     },
     "execution_count": 26,
     "metadata": {},
     "output_type": "execute_result"
    }
   ],
   "source": [
    "X = jax.random.uniform(key, shape=(batch_size, seq_len, d_model)) # Input tensor with seq_len and embedding size \n",
    "M = jax.random.uniform(key, shape=(batch_size, seq_len, d_model)) \n",
    "\n",
    "# Basically this is the dense layer weights, so when input is passed through dense layer we will get an outputs shape (heads, seql_len, head_size) projection\n",
    "P_q = jax.random.uniform(key, shape=(batch_size, seq_len, d_model, d_model // num_heads)) # Projection of input tensor embeddings to each head size which is d_model // num_heads\n",
    "P_k = jax.random.uniform(key, shape=(batch_size, seq_len, d_model, d_model // num_heads))\n",
    "P_v = jax.random.uniform(key, shape=(batch_size, seq_len, d_model, d_model // num_heads))\n",
    "P_o = jax.random.uniform(key, shape=(batch_size, seq_len, d_model, d_model // num_heads))\n",
    "\n",
    "attention_scores = batched_multi_head_attention(X, M, P_q, P_k, P_v, P_o)\n",
    "attention_scores.shape"
   ]
  },
  {
   "cell_type": "markdown",
   "id": "0430d36c",
   "metadata": {
    "papermill": {
     "duration": 0.014188,
     "end_time": "2024-04-26T00:26:53.293057",
     "exception": false,
     "start_time": "2024-04-26T00:26:53.278869",
     "status": "completed"
    },
    "tags": []
   },
   "source": [
    "# References:\n",
    "\n",
    "1. https://rockt.github.io/2018/04/30/einsum\n",
    "2. https://arxiv.org/pdf/1706.03762"
   ]
  }
 ],
 "metadata": {
  "kaggle": {
   "accelerator": "none",
   "dataSources": [],
   "dockerImageVersionId": 30698,
   "isGpuEnabled": false,
   "isInternetEnabled": true,
   "language": "python",
   "sourceType": "notebook"
  },
  "kernelspec": {
   "display_name": "Python 3",
   "language": "python",
   "name": "python3"
  },
  "language_info": {
   "codemirror_mode": {
    "name": "ipython",
    "version": 3
   },
   "file_extension": ".py",
   "mimetype": "text/x-python",
   "name": "python",
   "nbconvert_exporter": "python",
   "pygments_lexer": "ipython3",
   "version": "3.10.13"
  },
  "papermill": {
   "default_parameters": {},
   "duration": 23.092341,
   "end_time": "2024-04-26T00:26:54.228318",
   "environment_variables": {},
   "exception": null,
   "input_path": "__notebook__.ipynb",
   "output_path": "__notebook__.ipynb",
   "parameters": {},
   "start_time": "2024-04-26T00:26:31.135977",
   "version": "2.5.0"
  }
 },
 "nbformat": 4,
 "nbformat_minor": 5
}
