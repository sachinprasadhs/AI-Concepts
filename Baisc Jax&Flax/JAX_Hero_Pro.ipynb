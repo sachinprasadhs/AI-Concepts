{
  "nbformat": 4,
  "nbformat_minor": 0,
  "metadata": {
    "colab": {
      "provenance": []
    },
    "kernelspec": {
      "name": "python3",
      "display_name": "Python 3"
    },
    "language_info": {
      "name": "python"
    },
    "accelerator": "TPU"
  },
  "cells": [
    {
      "cell_type": "code",
      "execution_count": 4,
      "metadata": {
        "id": "ae5e-lXm-d3W"
      },
      "outputs": [],
      "source": [
        "import jax\n",
        "import jax.numpy as jnp\n",
        "import numpy as np\n",
        "\n",
        "from jax import grad, jit, vmap, pmap\n",
        "from jax import random\n",
        "\n",
        "import matplotlib.pyplot as plt\n",
        "\n",
        "from copy import deepcopy\n",
        "from typing import Tuple, NamedTuple\n",
        "import functools"
      ]
    },
    {
      "cell_type": "markdown",
      "source": [
        "## The Problem of State\n",
        "\n",
        "JAX are Pure Functions => JAX doesn't track states"
      ],
      "metadata": {
        "id": "wlfEkZfNOuIA"
      }
    },
    {
      "cell_type": "markdown",
      "source": [
        "Any tree-like structure built out of container-like Python objects can be referred to as pytrees in JAX. Classes are considered container-like if they are in the pytree registry, which by default includes lists, tuples, and dicts. Any object whose type is not in the pytree container registry will be treated as a leaf node in the tree.\n",
        "\n",
        "The pytree registry can be extended to include user-defined container classes by registering a pair of functions that specify:\n",
        "\n",
        "1. How to convert an instance of the container type to a (children, metadata) pair; and\n",
        "\n",
        "2. How to convert this pair back to an instance of the container type.\n",
        "\n",
        "JAX will use these functions to canonicalize any tree of registered container objects into a flat tuple, and then reassemble the tree-like container before returning the processed data to the user."
      ],
      "metadata": {
        "id": "q_9d9p4eG2pJ"
      }
    },
    {
      "cell_type": "code",
      "source": [
        "## Let's now explicitly address and understand the problem of state!\n",
        "# Why?\n",
        "# Well, NNs love statefulness: model params, optimizer params, BatchNorm etc\n",
        "# and we've seen that JAX seems to have a problem with it.\n",
        "\n",
        "class Counter:\n",
        "  \"\"\"A simple counter.\"\"\"\n",
        "\n",
        "  def __init__(self):\n",
        "    self.n = 0\n",
        "\n",
        "  def count(self) -> int:\n",
        "    self.n += 1\n",
        "    return self.n\n",
        "\n",
        "  def reset(self):\n",
        "    self.n = 0\n",
        "\n",
        "\n",
        "counter = Counter()\n",
        "\n",
        "for _ in range(3):\n",
        "  print(counter.count())"
      ],
      "metadata": {
        "id": "EHcRIagBAbyC",
        "colab": {
          "base_uri": "https://localhost:8080/"
        },
        "outputId": "442ac820-ef37-4409-e679-3583147f811c"
      },
      "execution_count": 5,
      "outputs": [
        {
          "output_type": "stream",
          "name": "stdout",
          "text": [
            "1\n",
            "2\n",
            "3\n"
          ]
        }
      ]
    },
    {
      "cell_type": "code",
      "source": [
        "counter.reset()\n",
        "\n",
        "fast_count = jax.jit(counter.count)\n",
        "\n",
        "for _ in range(3): ## oops, it's not working as it's supposed to be\n",
        "  print(fast_count())"
      ],
      "metadata": {
        "colab": {
          "base_uri": "https://localhost:8080/"
        },
        "id": "U8V4pDe0V6yq",
        "outputId": "868d9777-8430-43d6-abbf-865e908061de"
      },
      "execution_count": 6,
      "outputs": [
        {
          "output_type": "stream",
          "name": "stdout",
          "text": [
            "1\n",
            "1\n",
            "1\n"
          ]
        }
      ]
    },
    {
      "cell_type": "code",
      "source": [
        "from jax import make_jaxpr\n",
        "\n",
        "counter.reset()\n",
        "\n",
        "print(make_jaxpr(counter.count)())"
      ],
      "metadata": {
        "colab": {
          "base_uri": "https://localhost:8080/"
        },
        "id": "kmHSPjSmW0-H",
        "outputId": "b9ff9d33-342b-4c15-fd65-3b7e70f9760b"
      },
      "execution_count": 7,
      "outputs": [
        {
          "output_type": "stream",
          "name": "stdout",
          "text": [
            "{ lambda ; . let  in (1,) }\n"
          ]
        }
      ]
    },
    {
      "cell_type": "code",
      "source": [
        "CounterState = int\n",
        "\n",
        "\n",
        "class CounterV2:\n",
        "\n",
        "  def count(self, n: CounterState) -> Tuple[int, CounterState]:\n",
        "    # You could just return n+1, but here we separate its rol as the output\n",
        "    # and as the counter state for didactic purposes.\n",
        "    # (As the output may be some arbitrary function of state in general case)\n",
        "\n",
        "    return n+1, n+1\n",
        "\n",
        "\n",
        "  def reset(self) -> CounterState:\n",
        "    return 0\n",
        "\n",
        "\n",
        "counter = CounterV2()\n",
        "state = counter.reset()\n",
        "\n",
        "for _ in range(3):\n",
        "  value, state = counter.count(state) # looks familiar?\n",
        "  print(value)"
      ],
      "metadata": {
        "colab": {
          "base_uri": "https://localhost:8080/"
        },
        "id": "jvJ0dmGFW_Vh",
        "outputId": "6aff44f0-bc2c-4e9b-9189-17c4b7dbdf43"
      },
      "execution_count": 8,
      "outputs": [
        {
          "output_type": "stream",
          "name": "stdout",
          "text": [
            "1\n",
            "2\n",
            "3\n"
          ]
        }
      ]
    },
    {
      "cell_type": "code",
      "source": [
        "state = counter.reset()\n",
        "\n",
        "fast_count = jax.jit(counter.count)\n",
        "\n",
        "for _ in range(3):\n",
        "  value, state = fast_count(state)\n",
        "  print(value)"
      ],
      "metadata": {
        "colab": {
          "base_uri": "https://localhost:8080/"
        },
        "id": "zynnMvA8YiPh",
        "outputId": "1604b4a0-1eac-4976-d505-ade46eb07cc8"
      },
      "execution_count": 9,
      "outputs": [
        {
          "output_type": "stream",
          "name": "stdout",
          "text": [
            "1\n",
            "2\n",
            "3\n"
          ]
        }
      ]
    },
    {
      "cell_type": "markdown",
      "source": [
        "## In summary we used the following rule to convert a stateful class:\n",
        "\n",
        "### Statefull\n",
        "```python3\n",
        "class StatefulClass\n",
        "\n",
        "  state: State\n",
        "\n",
        "  def stateful_method(state: State, *args, **kwargs) -> Output:\n",
        "\n",
        "```\n",
        "\n",
        "### Stateless\n",
        "```python3\n",
        "class StatelessClass\n",
        "\n",
        "  def stateless_metho(state: State, *args, **kwargs) -> (Ouput, State):\n",
        "```"
      ],
      "metadata": {
        "id": "ClAtAJT0ZAlD"
      }
    },
    {
      "cell_type": "markdown",
      "source": [
        "##PyTree"
      ],
      "metadata": {
        "id": "Do2K-K9WZ28M"
      }
    },
    {
      "cell_type": "code",
      "source": [
        "f = lambda x, y, z, w: x**2 + y**2 + z**2 + w**2\n",
        "\n",
        "# JAX: .backward() is not that great\n",
        "# also JAX:\n",
        "x, y, z, w = [1.] * 4\n",
        "dfdx, dfdy, dfdz, dfdw = grad(f, argnums=(0, 1, 2, 3))(x, y, z, w)\n",
        "print(dfdx, dfdy, dfdz, dfdw)\n",
        "\n",
        "\n",
        "# Great now we just need to update our params!\n",
        "# lr = 0.001\n",
        "# x -= lr*dfdx\n",
        "# y -= lr&dfdy\n",
        "# ...(175B lines later)\n",
        "# w -= lr*dfdw\n",
        "\n",
        "# No, no, no\n",
        "# we do have a better way."
      ],
      "metadata": {
        "colab": {
          "base_uri": "https://localhost:8080/"
        },
        "id": "TYQvebdiYo3F",
        "outputId": "2c3b15c4-fb83-4648-f6ca-3652c52c49c2"
      },
      "execution_count": 10,
      "outputs": [
        {
          "output_type": "stream",
          "name": "stdout",
          "text": [
            "2.0 2.0 2.0 2.0\n"
          ]
        }
      ]
    },
    {
      "cell_type": "markdown",
      "source": [
        "### jax knows how to deal with these! The answer is called a PyTree."
      ],
      "metadata": {
        "id": "EkNeZGyXjyu8"
      }
    },
    {
      "cell_type": "code",
      "source": [
        "pytree_example = [\n",
        "     [1, 'a', object()],\n",
        "     (1, (2, 3), ()),\n",
        "     [1, {'k1': 2, 'k2': (3, 4)}, 5],\n",
        "      {'a': 2, 'b':(2, 3)},\n",
        "     jnp.array([1, 2, 3]),\n",
        "\n",
        "]\n",
        "\n",
        "for pytree in pytree_example:\n",
        "  leaves = jax.tree_leaves(pytree)\n",
        "  print(f\"{repr(pytree):<45} has {len(leaves)} leaves: {leaves}\")"
      ],
      "metadata": {
        "colab": {
          "base_uri": "https://localhost:8080/"
        },
        "id": "f4NZDiKkbB6R",
        "outputId": "ed520a0c-f7cf-42a5-acb1-f377db92ee9e"
      },
      "execution_count": 11,
      "outputs": [
        {
          "output_type": "stream",
          "name": "stdout",
          "text": [
            "[1, 'a', <object object at 0x79531d552d80>]   has 3 leaves: [1, 'a', <object object at 0x79531d552d80>]\n",
            "(1, (2, 3), ())                               has 3 leaves: [1, 2, 3]\n",
            "[1, {'k1': 2, 'k2': (3, 4)}, 5]               has 5 leaves: [1, 2, 3, 4, 5]\n",
            "{'a': 2, 'b': (2, 3)}                         has 3 leaves: [2, 2, 3]\n",
            "DeviceArray([1, 2, 3], dtype=int32)           has 1 leaves: [DeviceArray([1, 2, 3], dtype=int32)]\n"
          ]
        },
        {
          "output_type": "stream",
          "name": "stderr",
          "text": [
            "<ipython-input-11-a261b55f84d5>:11: FutureWarning: jax.tree_leaves is deprecated, and will be removed in a future release. Use jax.tree_util.tree_leaves instead.\n",
            "  leaves = jax.tree_leaves(pytree)\n"
          ]
        }
      ]
    },
    {
      "cell_type": "code",
      "source": [
        "def init_mlp_params(layer_widths):\n",
        "  params = []\n",
        "\n",
        "  for n_in, n_out in zip(layer_widths[:-1], layer_widths[1:]):\n",
        "    params.append(\n",
        "        dict(weights=np.random.normal(size=(n_in, n_out)) * np.sqrt(2/n_in),\n",
        "             biases=np.ones(shape=(n_out,)))\n",
        "    )\n",
        "\n",
        "  return params\n",
        "\n",
        "params = init_mlp_params([1, 128, 128, 1])\n",
        "\n",
        "jax.tree_map(lambda x: x.shape, params)"
      ],
      "metadata": {
        "colab": {
          "base_uri": "https://localhost:8080/"
        },
        "id": "eZESILZkoo88",
        "outputId": "1f2d1ea9-c799-48bc-cb70-74ba95489e84"
      },
      "execution_count": 12,
      "outputs": [
        {
          "output_type": "execute_result",
          "data": {
            "text/plain": [
              "[{'biases': (128,), 'weights': (1, 128)},\n",
              " {'biases': (128,), 'weights': (128, 128)},\n",
              " {'biases': (1,), 'weights': (128, 1)}]"
            ]
          },
          "metadata": {},
          "execution_count": 12
        }
      ]
    },
    {
      "cell_type": "code",
      "source": [
        "def forward(params, x):\n",
        "  *hidden, last = params\n",
        "\n",
        "  for layer in hidden:\n",
        "    x = jax.nn.relu(jnp.dot(x, layer['weights']) + layer['biases'])\n",
        "\n",
        "  return jnp.dot(x, last['weights']) + last['biases']\n",
        "\n",
        "def loss_fn(params, x, y):\n",
        "  return jnp.mean((forward(params, x) - y)**2) # MSE Loss\n",
        "\n",
        "\n",
        "lr = 0.0001\n",
        "\n",
        "@jit\n",
        "def update(params, x, y):\n",
        "\n",
        "  # Note that grads is a pytree with the same structure as params.\n",
        "  # grad is one of the many JAX functions that has built-in support for pytrees!\n",
        "  grads = jax.grad(loss_fn)(params, x, y)\n",
        "\n",
        "  # SGD update\n",
        "  return jax.tree_map(\n",
        "      lambda p, g: p - lr * g, params, grads)"
      ],
      "metadata": {
        "id": "QWxe_3HEqsLO"
      },
      "execution_count": 13,
      "outputs": []
    },
    {
      "cell_type": "code",
      "source": [
        "xs = np.random.normal(size=(128, 1))\n",
        "\n",
        "ys = np.sin(3*xs)\n",
        "\n",
        "num_epochs = 5000\n",
        "\n",
        "for _ in range(num_epochs):\n",
        "  params = update(params, xs, ys)\n",
        "\n",
        "plt.scatter(xs, ys, label=\"True Data\")\n",
        "plt.scatter(xs, forward(params, xs), label='Model Prediction')\n",
        "plt.legend()\n",
        "plt.show()"
      ],
      "metadata": {
        "colab": {
          "base_uri": "https://localhost:8080/",
          "height": 430
        },
        "id": "cGBauWGH6fFE",
        "outputId": "88b4d944-2c7d-4e55-bcd7-9f98b40dc726"
      },
      "execution_count": 14,
      "outputs": [
        {
          "output_type": "display_data",
          "data": {
            "text/plain": [
              "<Figure size 640x480 with 1 Axes>"
            ],
            "image/png": "[encoded data removed]"
          },
          "metadata": {}
        }
      ]
    },
    {
      "cell_type": "markdown",
      "source": [
        "## Custom PyTrees\n",
        "\n",
        "[Documentation](https://jax.readthedocs.io/en/latest/tutorials/working-with-pytrees.html#common-function-jax-tree-map)"
      ],
      "metadata": {
        "id": "NGUCYUbgFP4A"
      }
    },
    {
      "cell_type": "code",
      "source": [
        "class Special(object):\n",
        "  def __init__(self, x, y):\n",
        "    self.x = x\n",
        "    self.y = y\n",
        "\n",
        "jax.tree_util.tree_leaves([\n",
        "    Special(0, 1),\n",
        "    Special(2, 4),\n",
        "])"
      ],
      "metadata": {
        "colab": {
          "base_uri": "https://localhost:8080/"
        },
        "id": "pHJTyIbpK30J",
        "outputId": "03bf6cf4-f117-410c-cece-d076dde28c02"
      },
      "execution_count": 15,
      "outputs": [
        {
          "output_type": "execute_result",
          "data": {
            "text/plain": [
              "[<__main__.Special at 0x7952ea579e10>, <__main__.Special at 0x7952ea57a860>]"
            ]
          },
          "metadata": {},
          "execution_count": 15
        }
      ]
    },
    {
      "cell_type": "code",
      "source": [
        "from jax.tree_util import register_pytree_node\n",
        "\n",
        "class RegisteredSpecial(Special):\n",
        "  def __repr__(self):\n",
        "    return \"RegisteredSpecial(x={}, y={})\".format(self.x, self.y)\n",
        "\n",
        "def special_flatten(v):\n",
        "  \"\"\"Specifies a flattening recipe.\n",
        "\n",
        "  Params:\n",
        "    v: The value of the registered type to flatten.\n",
        "  Returns:\n",
        "    A pair of an iterable with the children to be flattened recursively,\n",
        "    and some opaque auxiliary data to pass back to the unflattening recipe.\n",
        "    The auxiliary data is stored in the treedef for use during unflattening.\n",
        "    The auxiliary data could be used, for example, for dictionary keys.\n",
        "  \"\"\"\n",
        "  children = (v.x, v.y)\n",
        "  aux_data = None\n",
        "  return (children, aux_data)\n",
        "\n",
        "def special_unflatten(aux_data, children):\n",
        "  \"\"\"Specifies an unflattening recipe.\n",
        "\n",
        "  Params:\n",
        "    aux_data: The opaque data that was specified during flattening of the\n",
        "      current tree definition.\n",
        "    children: The unflattened children\n",
        "\n",
        "  Returns:\n",
        "    A reconstructed object of the registered type, using the specified\n",
        "    children and auxiliary data.\n",
        "  \"\"\"\n",
        "  return RegisteredSpecial(*children)\n",
        "\n",
        "# Global registration\n",
        "register_pytree_node(\n",
        "    RegisteredSpecial,\n",
        "    special_flatten,    # Instruct JAX what are the children nodes.\n",
        "    special_unflatten   # Instruct JAX how to pack back into a `RegisteredSpecial`.\n",
        ")"
      ],
      "metadata": {
        "id": "zoXKFUWQK4ll"
      },
      "execution_count": 16,
      "outputs": []
    },
    {
      "cell_type": "code",
      "source": [
        "jax.tree_map(lambda x: x + 1,\n",
        "[\n",
        "  RegisteredSpecial(0, 1),\n",
        "  RegisteredSpecial(2, 4),\n",
        "])"
      ],
      "metadata": {
        "colab": {
          "base_uri": "https://localhost:8080/"
        },
        "id": "Ysm6lqoAK7zP",
        "outputId": "5fa2c636-04d9-47ec-91d0-0bf0fe9d42e9"
      },
      "execution_count": 17,
      "outputs": [
        {
          "output_type": "execute_result",
          "data": {
            "text/plain": [
              "[RegisteredSpecial(x=1, y=2), RegisteredSpecial(x=3, y=5)]"
            ]
          },
          "metadata": {},
          "execution_count": 17
        }
      ]
    },
    {
      "cell_type": "code",
      "source": [
        "from typing import NamedTuple, Any\n",
        "\n",
        "class MyOtherContainer(NamedTuple):\n",
        "  name: str\n",
        "  a: Any\n",
        "  b: Any\n",
        "  c: Any\n",
        "\n",
        "# NamedTuple subclasses are handled as pytree nodes, so\n",
        "# this will work out-of-the-box.\n",
        "jax.tree_util.tree_leaves([\n",
        "    MyOtherContainer('Alice', 1, 2, 3),\n",
        "    MyOtherContainer('Bob', 4, 5, 6)\n",
        "])"
      ],
      "metadata": {
        "colab": {
          "base_uri": "https://localhost:8080/"
        },
        "id": "Dx7myqcnEE4y",
        "outputId": "c7ac7d5b-8b09-43ab-c6eb-f858aae294be"
      },
      "execution_count": 18,
      "outputs": [
        {
          "output_type": "execute_result",
          "data": {
            "text/plain": [
              "['Alice', 1, 2, 3, 'Bob', 4, 5, 6]"
            ]
          },
          "metadata": {},
          "execution_count": 18
        }
      ]
    },
    {
      "cell_type": "markdown",
      "source": [
        "## Parallelism in JAX\n",
        "\n",
        "Parallelism in JAX is handled by another function `pmap`"
      ],
      "metadata": {
        "id": "Tc7oxFjmINw7"
      }
    },
    {
      "cell_type": "code",
      "source": [
        "x = np.arange(5)\n",
        "w = np.array([2., 3., 4.])\n",
        "\n",
        "\n",
        "def convolve(w, x): # Implement of 1D covolution/correlation\n",
        "  output = []\n",
        "\n",
        "  for i in range(1, len(x) - 1):\n",
        "    output.append(jnp.dot(x[i-1:i+2], w))\n",
        "\n",
        "  return jnp.array(output)\n",
        "\n",
        "\n",
        "result = convolve(w, x)\n",
        "print(repr(result))"
      ],
      "metadata": {
        "id": "mg6lqMloIXNq",
        "colab": {
          "base_uri": "https://localhost:8080/"
        },
        "outputId": "146316dc-3969-492b-ca18-de7a555af6cc"
      },
      "execution_count": 19,
      "outputs": [
        {
          "output_type": "stream",
          "name": "stdout",
          "text": [
            "DeviceArray([11., 20., 29.], dtype=float32)\n"
          ]
        }
      ]
    },
    {
      "cell_type": "code",
      "source": [
        "import jax.tools.colab_tpu\n",
        "jax.tools.colab_tpu.setup_tpu()\n",
        "\n",
        "import jax\n",
        "from jax.lib import xla_bridge\n",
        "print(xla_bridge.get_backend().platform)\n",
        "jax.devices()"
      ],
      "metadata": {
        "colab": {
          "base_uri": "https://localhost:8080/"
        },
        "id": "7mUJBBWGXVml",
        "outputId": "2e2690b0-a49e-4dd8-a272-e1c395dacb9e"
      },
      "execution_count": 20,
      "outputs": [
        {
          "output_type": "stream",
          "name": "stdout",
          "text": [
            "tpu\n"
          ]
        },
        {
          "output_type": "execute_result",
          "data": {
            "text/plain": [
              "[TpuDevice(id=0, process_index=0, coords=(0,0,0), core_on_chip=0),\n",
              " TpuDevice(id=1, process_index=0, coords=(0,0,0), core_on_chip=1),\n",
              " TpuDevice(id=2, process_index=0, coords=(1,0,0), core_on_chip=0),\n",
              " TpuDevice(id=3, process_index=0, coords=(1,0,0), core_on_chip=1),\n",
              " TpuDevice(id=4, process_index=0, coords=(0,1,0), core_on_chip=0),\n",
              " TpuDevice(id=5, process_index=0, coords=(0,1,0), core_on_chip=1),\n",
              " TpuDevice(id=6, process_index=0, coords=(1,1,0), core_on_chip=0),\n",
              " TpuDevice(id=7, process_index=0, coords=(1,1,0), core_on_chip=1)]"
            ]
          },
          "metadata": {},
          "execution_count": 20
        }
      ]
    },
    {
      "cell_type": "code",
      "source": [
        "n_devices = jax.local_device_count()\n",
        "print(f\"Number of available devices: {n_devices}\")\n",
        "\n",
        "xs = np.arange(5 * n_devices).reshape(-1, 5)\n",
        "ws = np.stack([w] * n_devices)\n",
        "\n",
        "print(xs.shape, ws.shape)"
      ],
      "metadata": {
        "colab": {
          "base_uri": "https://localhost:8080/"
        },
        "id": "QTYfKDprULsM",
        "outputId": "b0e66cd9-d1ef-4b5c-fe29-27f7315ce511"
      },
      "execution_count": 21,
      "outputs": [
        {
          "output_type": "stream",
          "name": "stdout",
          "text": [
            "Number of available devices: 8\n",
            "(8, 5) (8, 3)\n"
          ]
        }
      ]
    },
    {
      "cell_type": "code",
      "source": [
        "# First way to optimizer this is to simpy use vmap\n",
        "\n",
        "vmap_result = jax.vmap(convolve)(ws, xs)\n",
        "print(repr(vmap_result))"
      ],
      "metadata": {
        "colab": {
          "base_uri": "https://localhost:8080/"
        },
        "id": "cZawDY0RUSpp",
        "outputId": "ab053807-1d4d-4413-f22d-5cf689964405"
      },
      "execution_count": 22,
      "outputs": [
        {
          "output_type": "stream",
          "name": "stdout",
          "text": [
            "DeviceArray([[ 11.,  20.,  29.],\n",
            "             [ 56.,  65.,  74.],\n",
            "             [101., 110., 119.],\n",
            "             [146., 155., 164.],\n",
            "             [191., 200., 209.],\n",
            "             [236., 245., 254.],\n",
            "             [281., 290., 299.],\n",
            "             [326., 335., 344.]], dtype=float32)\n"
          ]
        }
      ]
    },
    {
      "cell_type": "code",
      "source": [
        "# The amazing this is if you just swap vmap for pmap you are not running on multiple\n",
        "# devices. How cool is that?\n",
        "\n",
        "pmap_result = jax.pmap(convolve)(ws, xs)\n",
        "print(repr(pmap_result))"
      ],
      "metadata": {
        "colab": {
          "base_uri": "https://localhost:8080/"
        },
        "id": "jDDLYPozVMaF",
        "outputId": "4bb8561b-82bf-4d8d-f77e-82ed690c9310"
      },
      "execution_count": 23,
      "outputs": [
        {
          "output_type": "stream",
          "name": "stdout",
          "text": [
            "ShardedDeviceArray([[ 11.,  20.,  29.],\n",
            "                    [ 56.,  65.,  74.],\n",
            "                    [101., 110., 119.],\n",
            "                    [146., 155., 164.],\n",
            "                    [191., 200., 209.],\n",
            "                    [236., 245., 254.],\n",
            "                    [281., 290., 299.],\n",
            "                    [326., 335., 344.]], dtype=float32)\n"
          ]
        }
      ]
    },
    {
      "cell_type": "code",
      "source": [
        "double_pmap_result = jax.pmap(convolve)(jax.pmap(convolve)(ws, xs), xs)\n",
        "print(repr(double_pmap_result))"
      ],
      "metadata": {
        "colab": {
          "base_uri": "https://localhost:8080/"
        },
        "id": "wUBhcB9bVtaz",
        "outputId": "620e1123-a47e-4b9e-da32-9a18bebf55ed"
      },
      "execution_count": 24,
      "outputs": [
        {
          "output_type": "stream",
          "name": "stdout",
          "text": [
            "ShardedDeviceArray([[   78.,   138.,   198.],\n",
            "                    [ 1188.,  1383.,  1578.],\n",
            "                    [ 3648.,  3978.,  4308.],\n",
            "                    [ 7458.,  7923.,  8388.],\n",
            "                    [12618., 13218., 13818.],\n",
            "                    [19128., 19863., 20598.],\n",
            "                    [26988., 27858., 28728.],\n",
            "                    [36198., 37203., 38208.]], dtype=float32)\n"
          ]
        }
      ]
    },
    {
      "cell_type": "code",
      "source": [
        "pmap_smarter_result = jax.pmap(convolve, in_axes=(None, 0))(w, xs)\n",
        "print(repr(pmap_smarter_result))"
      ],
      "metadata": {
        "colab": {
          "base_uri": "https://localhost:8080/"
        },
        "id": "E53Fdg-5V9Yq",
        "outputId": "9a7da322-8b9b-4a71-fc66-caf6b274ad03"
      },
      "execution_count": 25,
      "outputs": [
        {
          "output_type": "stream",
          "name": "stdout",
          "text": [
            "ShardedDeviceArray([[ 11.,  20.,  29.],\n",
            "                    [ 56.,  65.,  74.],\n",
            "                    [101., 110., 119.],\n",
            "                    [146., 155., 164.],\n",
            "                    [191., 200., 209.],\n",
            "                    [236., 245., 254.],\n",
            "                    [281., 290., 299.],\n",
            "                    [326., 335., 344.]], dtype=float32)\n"
          ]
        }
      ]
    },
    {
      "cell_type": "markdown",
      "source": [
        "## Communication between devices"
      ],
      "metadata": {
        "id": "wQNyfCw8WYnz"
      }
    },
    {
      "cell_type": "code",
      "source": [
        "def normalized_convolution(w, x):\n",
        "  output = []\n",
        "\n",
        "  for i in range(1, len(x)-1):\n",
        "    output.append(jnp.dot(x[i-1:i+2], w))\n",
        "\n",
        "  output = jnp.array(output)\n",
        "\n",
        "  return output / jax.lax.psum(output, axis_name='batch_dim') # this is where communication happens\n",
        "\n",
        "\n",
        "res_pmap = jax.pmap(normalized_convolution, axis_name='batch_dim', in_axes=(None, 0))(w, xs)\n",
        "res_vmap = jax.vmap(normalized_convolution, axis_name='batch_dim', in_axes=(None, 0))(w, xs)\n",
        "\n",
        "print(repr(res_pmap))\n",
        "print(repr(res_vmap))\n",
        "\n",
        "print(f\"Verify the output is normalized: {sum(res_pmap[:, 0])}\")"
      ],
      "metadata": {
        "colab": {
          "base_uri": "https://localhost:8080/"
        },
        "id": "RB7KuihUWE2I",
        "outputId": "c99b7032-149b-4381-f9bf-8670b3851885"
      },
      "execution_count": 26,
      "outputs": [
        {
          "output_type": "stream",
          "name": "stdout",
          "text": [
            "ShardedDeviceArray([[0.00816024, 0.01408451, 0.019437  ],\n",
            "                    [0.04154303, 0.04577465, 0.04959785],\n",
            "                    [0.07492582, 0.07746479, 0.07975871],\n",
            "                    [0.10830861, 0.10915492, 0.10991956],\n",
            "                    [0.14169139, 0.14084506, 0.14008042],\n",
            "                    [0.17507419, 0.17253521, 0.17024128],\n",
            "                    [0.20845698, 0.20422535, 0.20040214],\n",
            "                    [0.24183977, 0.23591548, 0.23056298]], dtype=float32)\n",
            "DeviceArray([[0.00816024, 0.01408451, 0.019437  ],\n",
            "             [0.04154303, 0.04577465, 0.04959785],\n",
            "             [0.07492582, 0.07746479, 0.07975871],\n",
            "             [0.10830861, 0.10915492, 0.10991956],\n",
            "             [0.14169139, 0.14084506, 0.14008042],\n",
            "             [0.17507419, 0.17253521, 0.17024128],\n",
            "             [0.20845698, 0.20422535, 0.20040214],\n",
            "             [0.24183977, 0.23591548, 0.23056298]], dtype=float32)\n",
            "Verify the output is normalized: 1.0\n"
          ]
        }
      ]
    },
    {
      "cell_type": "code",
      "source": [
        "# We also needs loss value aside from grads\n",
        "\n",
        "def sum_squared_error(x, y):\n",
        "  return sum((x-y)**2)\n",
        "\n",
        "\n",
        "x = jnp.arange(4, dtype=jnp.float32)\n",
        "y = x + 0.1\n",
        "\n",
        "print(x)\n",
        "print(y)\n",
        "\n",
        "jax.value_and_grad(sum_squared_error)(x, y)"
      ],
      "metadata": {
        "colab": {
          "base_uri": "https://localhost:8080/"
        },
        "id": "kEqssC3tXEuV",
        "outputId": "ffe7e2ad-aeb6-4fd8-a915-211808e7a7e7"
      },
      "execution_count": 28,
      "outputs": [
        {
          "output_type": "stream",
          "name": "stdout",
          "text": [
            "[0. 1. 2. 3.]\n",
            "[0.1 1.1 2.1 3.1]\n"
          ]
        },
        {
          "output_type": "execute_result",
          "data": {
            "text/plain": [
              "(DeviceArray(0.03999997, dtype=float32),\n",
              " DeviceArray([-0.2       , -0.20000005, -0.19999981, -0.19999981], dtype=float32))"
            ]
          },
          "metadata": {},
          "execution_count": 28
        }
      ]
    },
    {
      "cell_type": "code",
      "source": [
        "## And sometimes the loss function needs to return intermediate results\n",
        "\n",
        "def sum_squared_error_with_aux(x, y):\n",
        "  return sum((x-y)**2), x-y\n",
        "\n",
        "jax.grad(sum_squared_error_with_aux, has_aux=True)(x, y) # has_aux=True"
      ],
      "metadata": {
        "colab": {
          "base_uri": "https://localhost:8080/"
        },
        "id": "ZKzjTBRcaOj-",
        "outputId": "a8a8712b-09cb-4076-d0a1-335012a1fe22"
      },
      "execution_count": 29,
      "outputs": [
        {
          "output_type": "execute_result",
          "data": {
            "text/plain": [
              "(DeviceArray([-0.2       , -0.20000005, -0.19999981, -0.19999981], dtype=float32),\n",
              " DeviceArray([-0.1       , -0.10000002, -0.0999999 , -0.0999999 ], dtype=float32))"
            ]
          },
          "metadata": {},
          "execution_count": 29
        }
      ]
    },
    {
      "cell_type": "markdown",
      "source": [
        "## Traiin ML model in Parallel"
      ],
      "metadata": {
        "id": "cBFiqO5lbHxv"
      }
    },
    {
      "cell_type": "code",
      "source": [
        "class Params(NamedTuple):\n",
        "  weight: jnp.ndarray\n",
        "  bias: jnp.ndarray\n",
        "\n",
        "lr = 0.005\n",
        "\n",
        "def init_model(rng):\n",
        "  weights_key, bias_key = jax.random.split(rng)\n",
        "  weight = jax.random.normal(weights_key, ())\n",
        "  bias = jax.random.normal(bias_key, ())\n",
        "  return Params(weight, bias)\n",
        "\n",
        "\n",
        "def forward(params, x):\n",
        "  return params.weight * x + params.bias\n",
        "\n",
        "\n",
        "def loss_fn(params, xs, ys):\n",
        "  pred = forward(params, xs)\n",
        "  return jnp.mean((pred - ys)**2) # MSE\n",
        "\n",
        "@functools.partial(jax.pmap, axis_name='batch')\n",
        "def update(params, xs, ys):\n",
        "\n",
        "  # Compute the gradients on the given minibatch (individuall on each device)\n",
        "  loss, grads = jax.value_and_grad(loss_fn)(params, xs, ys)\n",
        "\n",
        "  # Combine the gradient across all devices (by taking their mean).\n",
        "  grads = jax.lax.pmean(grads, axis_name='batch')\n",
        "\n",
        "  # Also combine the loss. Unncessary for the update, but useful for logging.\n",
        "  loss = jax.lax.pmean(loss, axis_name='batch')\n",
        "\n",
        "  # Each device performs its own SGD update, but since we start with the same\n",
        "  # params and synchronise gradients, the params stay in sync on each device\n",
        "  new_params = jax.tree_map(\n",
        "      lambda param, g: param - g * lr, params, grads\n",
        "  )\n",
        "\n",
        "  # if we were using adam or another stateful optimizers\n",
        "  # we would also do something like:\n",
        "  # updates, new_optimizer_state = optimizer(grads, optimizer_state)\n",
        "  # and then use updates insteas of grads to actually update the params.\n",
        "\n",
        "  return new_params, loss\n"
      ],
      "metadata": {
        "id": "mI15ZuRJbB61"
      },
      "execution_count": 49,
      "outputs": []
    },
    {
      "cell_type": "code",
      "source": [
        "# Generate true data from y = w * x + b + noise\n",
        "\n",
        "true_w, true_b = 2, -1\n",
        "\n",
        "xs = np.random.normal(size=(128, 1))\n",
        "noise = 0.5 * np.random.normal(size=(128, 1))\n",
        "\n",
        "ys = xs * true_w + true_b + noise\n",
        "\n",
        "\n",
        "plt.scatter(xs, ys)\n",
        "\n",
        "plt.show()"
      ],
      "metadata": {
        "colab": {
          "base_uri": "https://localhost:8080/",
          "height": 430
        },
        "id": "OYXiklWdbGsv",
        "outputId": "4198d617-6282-4caa-e178-ccce56450063"
      },
      "execution_count": 46,
      "outputs": [
        {
          "output_type": "display_data",
          "data": {
            "text/plain": [
              "<Figure size 640x480 with 1 Axes>"
            ],
            "image/png": "[encoded data removed]"
          },
          "metadata": {}
        }
      ]
    },
    {
      "cell_type": "code",
      "source": [
        "# Initialize paramters and replicate across devices.\n",
        "\n",
        "params = init_model(jax.random.PRNGKey(0))\n",
        "n_devices = jax.local_device_count()\n",
        "replicated_params = jax.tree_map(lambda x: jnp.array([x] * n_devices), params)\n",
        "\n",
        "print(replicated_params)\n",
        "\n",
        "\n",
        "# Prepare the data\n",
        "def reshape_for_pmap(data, n_devices):\n",
        "  return data.reshape(n_devices, data.shape[0] // n_devices, *data.shape[1:])\n",
        "\n",
        "\n",
        "x_parallel = reshape_for_pmap(xs, n_devices)\n",
        "y_parallel = reshape_for_pmap(ys, n_devices)\n",
        "\n",
        "print(x_parallel.shape, y_parallel.shape)"
      ],
      "metadata": {
        "colab": {
          "base_uri": "https://localhost:8080/"
        },
        "id": "KkirWGr6bsJg",
        "outputId": "c8eef117-f515-4743-93d1-547c41ee6b7c"
      },
      "execution_count": 50,
      "outputs": [
        {
          "output_type": "stream",
          "name": "stdout",
          "text": [
            "Params(weight=DeviceArray([0.14389051, 0.14389051, 0.14389051, 0.14389051, 0.14389051,\n",
            "             0.14389051, 0.14389051, 0.14389051], dtype=float32), bias=DeviceArray([-1.2515285, -1.2515285, -1.2515285, -1.2515285, -1.2515285,\n",
            "             -1.2515285, -1.2515285, -1.2515285], dtype=float32))\n",
            "(8, 16, 1) (8, 16, 1)\n"
          ]
        }
      ]
    },
    {
      "cell_type": "code",
      "source": [
        "def type_after_update(name, obj):\n",
        "  print(f\"after first `update()`, `{name}` is a {type(obj)}\")\n",
        "\n",
        "num_epochs = 1000\n",
        "\n",
        "for epoch in range(num_epochs):\n",
        "  # this is where the params and data gets commmunicated to devices\n",
        "  replicated_params, loss = update(replicated_params, x_parallel, y_parallel)\n",
        "\n",
        "  # replicated params and loss are now both ShardedDeviceArrays,\n",
        "  # indicating that they're on the devices\n",
        "  # x/y_parallel remains a NumpY array on the host (simulating data streaming).\n",
        "\n",
        "  if epoch == 0:\n",
        "    type_after_update('replcated_params.weight', replicated_params.weight)\n",
        "    type_after_update('loss', loss)\n",
        "    type_after_update('x_parallel', x_parallel)\n",
        "\n",
        "  if epoch % 100 == 0:\n",
        "    print(loss.shape)\n",
        "    print(f\"Step {epoch:3d}, loss: {loss[0]:.3f}\")\n",
        "\n",
        "\n",
        "# Like this loss, the leaves of params have an extra leading dimension,\n",
        "# so we take the params from the first deivce.\n",
        "\n",
        "params = jax.device_get(jax.tree_map(lambda x: x[0], replicated_params))\n"
      ],
      "metadata": {
        "colab": {
          "base_uri": "https://localhost:8080/"
        },
        "id": "ouBogD0EeYGE",
        "outputId": "92547793-4584-407f-cd39-3d824808affc"
      },
      "execution_count": 51,
      "outputs": [
        {
          "output_type": "stream",
          "name": "stdout",
          "text": [
            "after first `update()`, `replcated_params.weight` is a <class 'jax.interpreters.pxla._ShardedDeviceArray'>\n",
            "after first `update()`, `loss` is a <class 'jax.interpreters.pxla._ShardedDeviceArray'>\n",
            "after first `update()`, `x_parallel` is a <class 'numpy.ndarray'>\n",
            "(8,)\n",
            "Step   0, loss: 4.026\n",
            "(8,)\n",
            "Step 100, loss: 0.698\n",
            "(8,)\n",
            "Step 200, loss: 0.282\n",
            "(8,)\n",
            "Step 300, loss: 0.225\n",
            "(8,)\n",
            "Step 400, loss: 0.217\n",
            "(8,)\n",
            "Step 500, loss: 0.215\n",
            "(8,)\n",
            "Step 600, loss: 0.215\n",
            "(8,)\n",
            "Step 700, loss: 0.215\n",
            "(8,)\n",
            "Step 800, loss: 0.215\n",
            "(8,)\n",
            "Step 900, loss: 0.215\n"
          ]
        }
      ]
    },
    {
      "cell_type": "markdown",
      "source": [
        "## Auto Diff Cookbook\n",
        "\n",
        "[link](https://jax.readthedocs.io/en/latest/notebooks/autodiff_cookbook.html)"
      ],
      "metadata": {
        "id": "tt_GzkAol3I_"
      }
    },
    {
      "cell_type": "code",
      "source": [],
      "metadata": {
        "id": "PlIxZxxZkwKu"
      },
      "execution_count": null,
      "outputs": []
    }
  ]
}