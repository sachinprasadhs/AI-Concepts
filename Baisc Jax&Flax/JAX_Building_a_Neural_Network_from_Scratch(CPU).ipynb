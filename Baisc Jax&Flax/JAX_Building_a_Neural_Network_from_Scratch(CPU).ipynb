{
  "cells": [
    {
      "cell_type": "markdown",
      "metadata": {
        "id": "0Dgg3496-vL_"
      },
      "source": [
        "# MLP Training on MNIST"
      ]
    },
    {
      "cell_type": "code",
      "execution_count": 1,
      "metadata": {
        "id": "-1ZC-71CPhmA"
      },
      "outputs": [],
      "source": [
        "import numpy as np\n",
        "import jax\n",
        "import time\n",
        "import jax.numpy as jnp\n",
        "from jax.scipy.special import logsumexp\n",
        "\n",
        "from jax import random, vmap, pmap, jit\n",
        "from jax.tree_util import tree_map\n",
        "\n",
        "from torchvision.datasets import MNIST\n",
        "\n",
        "import tensorflow as tf\n",
        "import tensorflow_datasets as tfds\n",
        "import functools"
      ]
    },
    {
      "cell_type": "code",
      "execution_count": 2,
      "metadata": {
        "id": "m5jeboqIQmwm"
      },
      "outputs": [],
      "source": [
        "seed = 42\n",
        "mnist_img_size = (28, 28)\n",
        "batch_size = 128"
      ]
    },
    {
      "cell_type": "markdown",
      "metadata": {
        "id": "3lFym0XOZD0d"
      },
      "source": [
        "## Initialize NN parameters"
      ]
    },
    {
      "cell_type": "code",
      "execution_count": 3,
      "metadata": {
        "colab": {
          "base_uri": "https://localhost:8080/"
        },
        "id": "xZF344eAm24G",
        "outputId": "04bd2b2f-72be-4afb-b743-b06a45dadbba"
      },
      "outputs": [
        {
          "output_type": "stream",
          "name": "stdout",
          "text": [
            "[[(784, 512), (512,)], [(512, 256), (256,)], [(256, 10), (10,)]]\n"
          ]
        }
      ],
      "source": [
        "def init_MLP(layer_widths, key, scale=0.001):\n",
        "  params = []\n",
        "  keys = jax.random.split(key, num=len(layer_widths)-1)\n",
        "  for in_width, out_width, key in zip(layer_widths[:-1], layer_widths[1:], keys):\n",
        "    weight_key, bias_key = jax.random.split(key)\n",
        "    params.append(\n",
        "        [scale * random.normal(weight_key, shape=(in_width, out_width)),\n",
        "         scale * random.normal(bias_key, shape=(out_width, ))]\n",
        "    )\n",
        "\n",
        "  return params\n",
        "\n",
        "key = jax.random.PRNGKey(seed)\n",
        "MLP_params = init_MLP([784, 512, 256, 10], key)\n",
        "\n",
        "print(jax.tree_map(lambda x: x.shape, MLP_params))"
      ]
    },
    {
      "cell_type": "markdown",
      "metadata": {
        "id": "-6wNtcj5ZKnx"
      },
      "source": [
        "## Forward pass for NN"
      ]
    },
    {
      "cell_type": "code",
      "execution_count": 4,
      "metadata": {
        "colab": {
          "base_uri": "https://localhost:8080/"
        },
        "id": "quxEaIIHRuHO",
        "outputId": "ae06deb6-e2cf-4398-81fd-7c20b4342510"
      },
      "outputs": [
        {
          "output_type": "stream",
          "name": "stdout",
          "text": [
            "(784,)\n",
            "(10,)\n",
            "(128, 784)\n",
            "(128, 10)\n"
          ]
        }
      ],
      "source": [
        "def MLP_predict(params, inputs):\n",
        "  activations = inputs\n",
        "  for w, b in params[:-1]:\n",
        "    outputs = jnp.dot(activations, w) + b\n",
        "    activations = jax.nn.relu(outputs)\n",
        "\n",
        "  final_w, final_b = params[-1]\n",
        "  logits = jnp.dot(activations, final_w) + final_b\n",
        "  return logits - logsumexp(logits)\n",
        "\n",
        "\n",
        "# tests\n",
        "\n",
        "# test single example\n",
        "\n",
        "dummy_img_flat = np.random.randn(np.prod(mnist_img_size))\n",
        "print(dummy_img_flat.shape)\n",
        "\n",
        "prediction = MLP_predict(MLP_params, dummy_img_flat)\n",
        "print(prediction.shape)\n",
        "\n",
        "# test batched function\n",
        "batched_MLP_predict = vmap(MLP_predict, in_axes=(None, 0))\n",
        "\n",
        "dummy_imgs_flat = np.random.randn(batch_size, np.prod(mnist_img_size))\n",
        "print(dummy_imgs_flat.shape)\n",
        "predictions = batched_MLP_predict(MLP_params, dummy_imgs_flat)\n",
        "print(predictions.shape)"
      ]
    },
    {
      "cell_type": "code",
      "execution_count": 5,
      "metadata": {
        "colab": {
          "base_uri": "https://localhost:8080/"
        },
        "id": "HOR1jnGyZC1u",
        "outputId": "d45f749e-4c16-4a56-ff8b-062fe0ff355a"
      },
      "outputs": [
        {
          "output_type": "execute_result",
          "data": {
            "text/plain": [
              "tfds.core.DatasetInfo(\n",
              "    name='mnist',\n",
              "    full_name='mnist/3.0.1',\n",
              "    description=\"\"\"\n",
              "    The MNIST database of handwritten digits.\n",
              "    \"\"\",\n",
              "    homepage='http://yann.lecun.com/exdb/mnist/',\n",
              "    data_dir='/root/tensorflow_datasets/mnist/3.0.1',\n",
              "    file_format=tfrecord,\n",
              "    download_size=11.06 MiB,\n",
              "    dataset_size=21.00 MiB,\n",
              "    features=FeaturesDict({\n",
              "        'image': Image(shape=(28, 28, 1), dtype=uint8),\n",
              "        'label': ClassLabel(shape=(), dtype=int64, num_classes=10),\n",
              "    }),\n",
              "    supervised_keys=('image', 'label'),\n",
              "    disable_shuffling=False,\n",
              "    splits={\n",
              "        'test': <SplitInfo num_examples=10000, num_shards=1>,\n",
              "        'train': <SplitInfo num_examples=60000, num_shards=1>,\n",
              "    },\n",
              "    citation=\"\"\"@article{lecun2010mnist,\n",
              "      title={MNIST handwritten digit database},\n",
              "      author={LeCun, Yann and Cortes, Corinna and Burges, CJ},\n",
              "      journal={ATT Labs [Online]. Available: http://yann.lecun.com/exdb/mnist},\n",
              "      volume={2},\n",
              "      year={2010}\n",
              "    }\"\"\",\n",
              ")"
            ]
          },
          "metadata": {},
          "execution_count": 5
        }
      ],
      "source": [
        "(train_ds, test_ds), ds_info = tfds.load(\n",
        "    'mnist',\n",
        "    split=[\"train\", \"test\"],\n",
        "    shuffle_files=True,\n",
        "    with_info=True,\n",
        ")\n",
        "ds_info"
      ]
    },
    {
      "cell_type": "code",
      "execution_count": 6,
      "metadata": {
        "id": "jYZKuav7qYxF"
      },
      "outputs": [],
      "source": [
        "def flatten_image(record):\n",
        "  image = tf.cast(record['image'], tf.float32)  # Normalize pixel values to [0, 1]\n",
        "  image = tf.reshape(image, (-1,))  # Flatten image to a 1D array\n",
        "  return image, tf.one_hot(record['label'],\n",
        "                           depth=ds_info.features['label'].num_classes)\n",
        "\n",
        "\n",
        "num_train_images = ds_info.splits['train'].num_examples\n",
        "num_test_images = ds_info.splits['test'].num_examples\n",
        "\n",
        "train_ds = train_ds.map(flatten_image).batch(batch_size)\n",
        "test_ds = test_ds.map(flatten_image).batch(batch_size)"
      ]
    },
    {
      "cell_type": "code",
      "execution_count": 7,
      "metadata": {
        "colab": {
          "base_uri": "https://localhost:8080/"
        },
        "id": "4IO8rXTYv8Ee",
        "outputId": "82cfab6f-3b7b-4fad-9ecc-264e28307dfb"
      },
      "outputs": [
        {
          "output_type": "stream",
          "name": "stdout",
          "text": [
            "Epoch 1, loss = 0.23001629114151 train_acc = 0.2772666811943054 test_acc = 0.2791999876499176\n",
            "Epoch 2, loss = 0.17932893335819244 train_acc = 0.722266674041748 test_acc = 0.729200005531311\n",
            "Epoch 3, loss = 0.06583252549171448 train_acc = 0.8473666906356812 test_acc = 0.8507000207901001\n",
            "Epoch 4, loss = 0.046569593250751495 train_acc = 0.8805333375930786 test_acc = 0.8795999884605408\n",
            "Epoch 5, loss = 0.03857836127281189 train_acc = 0.9006999731063843 test_acc = 0.8970999717712402\n",
            "Epoch 6, loss = 0.03284821659326553 train_acc = 0.9146999716758728 test_acc = 0.9121000170707703\n",
            "Epoch 7, loss = 0.028368880972266197 train_acc = 0.9260833263397217 test_acc = 0.9269000291824341\n",
            "Epoch 8, loss = 0.0247422493994236 train_acc = 0.9353500008583069 test_acc = 0.9366999864578247\n",
            "Epoch 9, loss = 0.021791478618979454 train_acc = 0.9434499740600586 test_acc = 0.9437000155448914\n",
            "Epoch 10, loss = 0.019432002678513527 train_acc = 0.9492999911308289 test_acc = 0.949999988079071\n"
          ]
        }
      ],
      "source": [
        "def loss_fn(params, images, labels):\n",
        "  preds = batched_MLP_predict(params, images)\n",
        "  return -jnp.mean(preds * labels)\n",
        "\n",
        "def accuracy(params, ds, num_examples):\n",
        "  acc = 0\n",
        "  for images, labels in ds.as_numpy_iterator():\n",
        "    images, labels = jnp.array(images), jnp.array(labels)\n",
        "    pred_labels = jnp.argmax(batched_MLP_predict(params, images), axis=1)\n",
        "    labels = jnp.argmax(labels, axis=1)\n",
        "    acc += np.sum(pred_labels == labels)\n",
        "\n",
        "  return acc / num_examples\n",
        "\n",
        "@jit\n",
        "def update(params, imgs, gt_lbls, lr=0.01):\n",
        "  loss, grads = jax.value_and_grad(loss_fn)(params, imgs, gt_lbls)\n",
        "\n",
        "  return loss, jax.tree_map(lambda p, g: p - lr*g, params, grads)\n",
        "\n",
        "num_epochs = 10\n",
        "MLP_params = init_MLP([784, 512, 256, 10], key)\n",
        "\n",
        "for epoch in range(num_epochs):\n",
        "  loss_l = []\n",
        "  start_time = time.time()\n",
        "  for cnt, (images, labels) in enumerate(train_ds.as_numpy_iterator()):\n",
        "    images, labels = jnp.array(images), jnp.array(labels)\n",
        "    loss, MLP_params = update(MLP_params, images, labels)\n",
        "    loss_l.append(loss)\n",
        "  epoch_time = time.time() - start_time\n",
        "  print(f\"Epoch {epoch+1}, loss = {jnp.mean(jnp.array(loss_l))} \" \\\n",
        "        f\"train_acc = {accuracy(MLP_params, train_ds, num_train_images)} test_acc = {accuracy(MLP_params, test_ds, num_test_images)}\")\n"
      ]
    },
    {
      "cell_type": "code",
      "source": [
        "images, labels = next(iter(train_ds.take(1)))\n",
        "img = images[0].numpy().reshape(mnist_img_size)\n",
        "gt_lbl = labels[0]\n",
        "print(img.shape)\n",
        "\n",
        "import matplotlib.pyplot as plt\n",
        "\n",
        "pred = jnp.argmax(MLP_predict(MLP_params, np.ravel(img)))\n",
        "print('pred', pred)\n",
        "print('gt', gt_lbl)\n",
        "\n",
        "plt.imshow(img); plt.show()"
      ],
      "metadata": {
        "colab": {
          "base_uri": "https://localhost:8080/",
          "height": 482
        },
        "id": "yLb5PK40ns0V",
        "outputId": "d86ba136-1dd7-4e83-e1d4-3b6b56114b6b"
      },
      "execution_count": 16,
      "outputs": [
        {
          "output_type": "stream",
          "name": "stdout",
          "text": [
            "(28, 28)\n",
            "pred 4\n",
            "gt tf.Tensor([0. 0. 0. 0. 1. 0. 0. 0. 0. 0.], shape=(10,), dtype=float32)\n"
          ]
        },
        {
          "output_type": "display_data",
          "data": {
            "text/plain": [
              "<Figure size 640x480 with 1 Axes>"
            ],
            "image/png": "[encoded data removed]"
          },
          "metadata": {}
        }
      ]
    }
  ],
  "metadata": {
    "accelerator": "GPU",
    "colab": {
      "gpuType": "T4",
      "provenance": []
    },
    "kernelspec": {
      "display_name": "Python 3",
      "name": "python3"
    },
    "language_info": {
      "name": "python"
    }
  },
  "nbformat": 4,
  "nbformat_minor": 0
}