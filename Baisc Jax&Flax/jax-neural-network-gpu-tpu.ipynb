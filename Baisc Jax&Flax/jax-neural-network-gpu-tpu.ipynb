{
 "cells": [
  {
   "cell_type": "markdown",
   "id": "396006cb",
   "metadata": {
    "papermill": {
     "duration": 0.003231,
     "end_time": "2024-04-19T20:19:58.310264",
     "exception": false,
     "start_time": "2024-04-19T20:19:58.307033",
     "status": "completed"
    },
    "tags": []
   },
   "source": [
    "## Import libraries"
   ]
  },
  {
   "cell_type": "code",
   "execution_count": 1,
   "id": "028f4346",
   "metadata": {
    "_cell_guid": "b1076dfc-b9ad-4769-8c92-a6c4dae69d19",
    "_uuid": "8f2839f25d086af736a60e9eeb907d3b93b6e0e5",
    "execution": {
     "iopub.execute_input": "2024-04-19T20:19:58.316886Z",
     "iopub.status.busy": "2024-04-19T20:19:58.316569Z",
     "iopub.status.idle": "2024-04-19T20:20:25.058271Z",
     "shell.execute_reply": "2024-04-19T20:20:25.057534Z"
    },
    "papermill": {
     "duration": 26.748309,
     "end_time": "2024-04-19T20:20:25.061043",
     "exception": false,
     "start_time": "2024-04-19T20:19:58.312734",
     "status": "completed"
    },
    "tags": []
   },
   "outputs": [
    {
     "name": "stderr",
     "output_type": "stream",
     "text": [
      "/usr/local/lib/python3.10/site-packages/tqdm/auto.py:21: TqdmWarning: IProgress not found. Please update jupyter and ipywidgets. See https://ipywidgets.readthedocs.io/en/stable/user_install.html\n",
      "  from .autonotebook import tqdm as notebook_tqdm\n"
     ]
    }
   ],
   "source": [
    "import numpy as np\n",
    "import jax\n",
    "import time\n",
    "import jax.numpy as jnp\n",
    "from jax.scipy.special import logsumexp\n",
    "\n",
    "from jax import random, vmap, pmap, jit\n",
    "from jax.tree_util import tree_map\n",
    "\n",
    "\n",
    "from torchvision.datasets import MNIST\n",
    "from torch.utils.data import DataLoader\n",
    "import functools"
   ]
  },
  {
   "cell_type": "markdown",
   "id": "f28d77b7",
   "metadata": {
    "papermill": {
     "duration": 0.00239,
     "end_time": "2024-04-19T20:20:25.067826",
     "exception": false,
     "start_time": "2024-04-19T20:20:25.065436",
     "status": "completed"
    },
    "tags": []
   },
   "source": [
    "## Check for TPU devices"
   ]
  },
  {
   "cell_type": "code",
   "execution_count": 2,
   "id": "5b9f18b1",
   "metadata": {
    "execution": {
     "iopub.execute_input": "2024-04-19T20:20:25.074090Z",
     "iopub.status.busy": "2024-04-19T20:20:25.073765Z",
     "iopub.status.idle": "2024-04-19T20:20:30.631017Z",
     "shell.execute_reply": "2024-04-19T20:20:30.630156Z"
    },
    "papermill": {
     "duration": 5.562805,
     "end_time": "2024-04-19T20:20:30.632875",
     "exception": false,
     "start_time": "2024-04-19T20:20:25.070070",
     "status": "completed"
    },
    "tags": []
   },
   "outputs": [
    {
     "name": "stderr",
     "output_type": "stream",
     "text": [
      "E0419 20:20:27.064041705     231 oauth2_credentials.cc:238]            oauth_fetch: UNKNOWN:C-ares status is not ARES_SUCCESS qtype=A name=metadata.google.internal. is_balancer=0: Domain name not found {created_time:\"2024-04-19T20:20:27.064025181+00:00\", grpc_status:2}\n"
     ]
    },
    {
     "name": "stdout",
     "output_type": "stream",
     "text": [
      "Number of available devices: 8\n"
     ]
    },
    {
     "data": {
      "text/plain": [
       "[TpuDevice(id=0, process_index=0, coords=(0,0,0), core_on_chip=0),\n",
       " TpuDevice(id=1, process_index=0, coords=(0,0,0), core_on_chip=1),\n",
       " TpuDevice(id=2, process_index=0, coords=(1,0,0), core_on_chip=0),\n",
       " TpuDevice(id=3, process_index=0, coords=(1,0,0), core_on_chip=1),\n",
       " TpuDevice(id=4, process_index=0, coords=(0,1,0), core_on_chip=0),\n",
       " TpuDevice(id=5, process_index=0, coords=(0,1,0), core_on_chip=1),\n",
       " TpuDevice(id=6, process_index=0, coords=(1,1,0), core_on_chip=0),\n",
       " TpuDevice(id=7, process_index=0, coords=(1,1,0), core_on_chip=1)]"
      ]
     },
     "execution_count": 2,
     "metadata": {},
     "output_type": "execute_result"
    }
   ],
   "source": [
    "n_devices = jax.local_device_count()\n",
    "print(f\"Number of available devices: {n_devices}\")\n",
    "jax.devices()"
   ]
  },
  {
   "cell_type": "code",
   "execution_count": 3,
   "id": "637c69d2",
   "metadata": {
    "execution": {
     "iopub.execute_input": "2024-04-19T20:20:30.640555Z",
     "iopub.status.busy": "2024-04-19T20:20:30.640246Z",
     "iopub.status.idle": "2024-04-19T20:20:30.644330Z",
     "shell.execute_reply": "2024-04-19T20:20:30.643537Z"
    },
    "papermill": {
     "duration": 0.009972,
     "end_time": "2024-04-19T20:20:30.645916",
     "exception": false,
     "start_time": "2024-04-19T20:20:30.635944",
     "status": "completed"
    },
    "tags": []
   },
   "outputs": [],
   "source": [
    "seed = 42\n",
    "num_classes = 10\n",
    "image_size = (28, 28)\n",
    "batch_size_per_device = 128\n",
    "batch_size = batch_size_per_device * n_devices"
   ]
  },
  {
   "cell_type": "code",
   "execution_count": 4,
   "id": "b550f19d",
   "metadata": {
    "execution": {
     "iopub.execute_input": "2024-04-19T20:20:30.652777Z",
     "iopub.status.busy": "2024-04-19T20:20:30.652481Z",
     "iopub.status.idle": "2024-04-19T20:20:38.845987Z",
     "shell.execute_reply": "2024-04-19T20:20:38.844906Z"
    },
    "papermill": {
     "duration": 8.199721,
     "end_time": "2024-04-19T20:20:38.848457",
     "exception": false,
     "start_time": "2024-04-19T20:20:30.648736",
     "status": "completed"
    },
    "tags": []
   },
   "outputs": [
    {
     "name": "stdout",
     "output_type": "stream",
     "text": [
      "Downloading http://yann.lecun.com/exdb/mnist/train-images-idx3-ubyte.gz\n",
      "Downloading http://yann.lecun.com/exdb/mnist/train-images-idx3-ubyte.gz to train_mnist/MNIST/raw/train-images-idx3-ubyte.gz\n"
     ]
    },
    {
     "name": "stderr",
     "output_type": "stream",
     "text": [
      "\r",
      "  0%|          | 0/9912422 [00:00<?, ?it/s]"
     ]
    },
    {
     "name": "stderr",
     "output_type": "stream",
     "text": [
      "\r",
      "100%|██████████| 9912422/9912422 [00:00<00:00, 111431963.32it/s]"
     ]
    },
    {
     "name": "stderr",
     "output_type": "stream",
     "text": [
      "\n"
     ]
    },
    {
     "name": "stdout",
     "output_type": "stream",
     "text": [
      "Extracting train_mnist/MNIST/raw/train-images-idx3-ubyte.gz to train_mnist/MNIST/raw\n"
     ]
    },
    {
     "name": "stdout",
     "output_type": "stream",
     "text": [
      "\n",
      "Downloading http://yann.lecun.com/exdb/mnist/train-labels-idx1-ubyte.gz\n",
      "Downloading http://yann.lecun.com/exdb/mnist/train-labels-idx1-ubyte.gz to train_mnist/MNIST/raw/train-labels-idx1-ubyte.gz\n"
     ]
    },
    {
     "name": "stderr",
     "output_type": "stream",
     "text": [
      "\r",
      "  0%|          | 0/28881 [00:00<?, ?it/s]"
     ]
    },
    {
     "name": "stderr",
     "output_type": "stream",
     "text": [
      "\r",
      "100%|██████████| 28881/28881 [00:00<00:00, 49706891.19it/s]"
     ]
    },
    {
     "name": "stderr",
     "output_type": "stream",
     "text": [
      "\n"
     ]
    },
    {
     "name": "stdout",
     "output_type": "stream",
     "text": [
      "Extracting train_mnist/MNIST/raw/train-labels-idx1-ubyte.gz to train_mnist/MNIST/raw\n",
      "\n",
      "Downloading http://yann.lecun.com/exdb/mnist/t10k-images-idx3-ubyte.gz\n",
      "Downloading http://yann.lecun.com/exdb/mnist/t10k-images-idx3-ubyte.gz to train_mnist/MNIST/raw/t10k-images-idx3-ubyte.gz\n"
     ]
    },
    {
     "name": "stderr",
     "output_type": "stream",
     "text": [
      "\r",
      "  0%|          | 0/1648877 [00:00<?, ?it/s]"
     ]
    },
    {
     "name": "stderr",
     "output_type": "stream",
     "text": [
      "\r",
      "100%|██████████| 1648877/1648877 [00:00<00:00, 33308568.55it/s]"
     ]
    },
    {
     "name": "stderr",
     "output_type": "stream",
     "text": [
      "\n"
     ]
    },
    {
     "name": "stdout",
     "output_type": "stream",
     "text": [
      "Extracting train_mnist/MNIST/raw/t10k-images-idx3-ubyte.gz to train_mnist/MNIST/raw\n"
     ]
    },
    {
     "name": "stdout",
     "output_type": "stream",
     "text": [
      "\n",
      "Downloading http://yann.lecun.com/exdb/mnist/t10k-labels-idx1-ubyte.gz\n",
      "Downloading http://yann.lecun.com/exdb/mnist/t10k-labels-idx1-ubyte.gz to train_mnist/MNIST/raw/t10k-labels-idx1-ubyte.gz\n"
     ]
    },
    {
     "name": "stderr",
     "output_type": "stream",
     "text": [
      "\r",
      "  0%|          | 0/4542 [00:00<?, ?it/s]"
     ]
    },
    {
     "name": "stderr",
     "output_type": "stream",
     "text": [
      "\r",
      "100%|██████████| 4542/4542 [00:00<00:00, 9789583.13it/s]"
     ]
    },
    {
     "name": "stderr",
     "output_type": "stream",
     "text": [
      "\n"
     ]
    },
    {
     "name": "stdout",
     "output_type": "stream",
     "text": [
      "Extracting train_mnist/MNIST/raw/t10k-labels-idx1-ubyte.gz to train_mnist/MNIST/raw\n",
      "\n"
     ]
    },
    {
     "name": "stdout",
     "output_type": "stream",
     "text": [
      "Downloading http://yann.lecun.com/exdb/mnist/train-images-idx3-ubyte.gz\n"
     ]
    },
    {
     "name": "stdout",
     "output_type": "stream",
     "text": [
      "Downloading http://yann.lecun.com/exdb/mnist/train-images-idx3-ubyte.gz to test_mnist/MNIST/raw/train-images-idx3-ubyte.gz\n"
     ]
    },
    {
     "name": "stderr",
     "output_type": "stream",
     "text": [
      "\r",
      "  0%|          | 0/9912422 [00:00<?, ?it/s]"
     ]
    },
    {
     "name": "stderr",
     "output_type": "stream",
     "text": [
      "\r",
      " 99%|█████████▊| 9764864/9912422 [00:00<00:00, 95954886.76it/s]"
     ]
    },
    {
     "name": "stderr",
     "output_type": "stream",
     "text": [
      "\r",
      "100%|██████████| 9912422/9912422 [00:00<00:00, 95851341.88it/s]"
     ]
    },
    {
     "name": "stdout",
     "output_type": "stream",
     "text": [
      "Extracting test_mnist/MNIST/raw/train-images-idx3-ubyte.gz to test_mnist/MNIST/raw\n"
     ]
    },
    {
     "name": "stderr",
     "output_type": "stream",
     "text": [
      "\n"
     ]
    },
    {
     "name": "stdout",
     "output_type": "stream",
     "text": [
      "\n",
      "Downloading http://yann.lecun.com/exdb/mnist/train-labels-idx1-ubyte.gz\n",
      "Downloading http://yann.lecun.com/exdb/mnist/train-labels-idx1-ubyte.gz to test_mnist/MNIST/raw/train-labels-idx1-ubyte.gz\n"
     ]
    },
    {
     "name": "stderr",
     "output_type": "stream",
     "text": [
      "\r",
      "  0%|          | 0/28881 [00:00<?, ?it/s]"
     ]
    },
    {
     "name": "stderr",
     "output_type": "stream",
     "text": [
      "\r",
      "100%|██████████| 28881/28881 [00:00<00:00, 63488309.13it/s]"
     ]
    },
    {
     "name": "stderr",
     "output_type": "stream",
     "text": [
      "\n"
     ]
    },
    {
     "name": "stdout",
     "output_type": "stream",
     "text": [
      "Extracting test_mnist/MNIST/raw/train-labels-idx1-ubyte.gz to test_mnist/MNIST/raw\n",
      "\n",
      "Downloading http://yann.lecun.com/exdb/mnist/t10k-images-idx3-ubyte.gz\n",
      "Downloading http://yann.lecun.com/exdb/mnist/t10k-images-idx3-ubyte.gz to test_mnist/MNIST/raw/t10k-images-idx3-ubyte.gz\n"
     ]
    },
    {
     "name": "stderr",
     "output_type": "stream",
     "text": [
      "\r",
      "  0%|          | 0/1648877 [00:00<?, ?it/s]"
     ]
    },
    {
     "name": "stderr",
     "output_type": "stream",
     "text": [
      "\r",
      "100%|██████████| 1648877/1648877 [00:00<00:00, 33277795.99it/s]"
     ]
    },
    {
     "name": "stderr",
     "output_type": "stream",
     "text": [
      "\n"
     ]
    },
    {
     "name": "stdout",
     "output_type": "stream",
     "text": [
      "Extracting test_mnist/MNIST/raw/t10k-images-idx3-ubyte.gz to test_mnist/MNIST/raw\n",
      "\n",
      "Downloading http://yann.lecun.com/exdb/mnist/t10k-labels-idx1-ubyte.gz\n"
     ]
    },
    {
     "name": "stdout",
     "output_type": "stream",
     "text": [
      "Downloading http://yann.lecun.com/exdb/mnist/t10k-labels-idx1-ubyte.gz to test_mnist/MNIST/raw/t10k-labels-idx1-ubyte.gz\n"
     ]
    },
    {
     "name": "stderr",
     "output_type": "stream",
     "text": [
      "\r",
      "  0%|          | 0/4542 [00:00<?, ?it/s]"
     ]
    },
    {
     "name": "stderr",
     "output_type": "stream",
     "text": [
      "\r",
      "100%|██████████| 4542/4542 [00:00<00:00, 12483963.81it/s]"
     ]
    },
    {
     "name": "stderr",
     "output_type": "stream",
     "text": [
      "\n"
     ]
    },
    {
     "name": "stdout",
     "output_type": "stream",
     "text": [
      "Extracting test_mnist/MNIST/raw/t10k-labels-idx1-ubyte.gz to test_mnist/MNIST/raw\n",
      "\n"
     ]
    },
    {
     "name": "stdout",
     "output_type": "stream",
     "text": [
      "(1024, 784) float32 (1024,) int64\n"
     ]
    }
   ],
   "source": [
    "def custom_transform(x):\n",
    "    x = np.resize(x, new_shape=image_size)\n",
    "    return np.ravel(np.array(x, dtype=np.float32))\n",
    "\n",
    "def custom_collate_fn(batch):\n",
    "    transposed_data = list(zip(*batch))\n",
    "\n",
    "    labels = np.array(transposed_data[1])\n",
    "    imgs = np.stack(transposed_data[0])\n",
    "\n",
    "    return imgs, labels\n",
    "\n",
    "train_dataset = MNIST(root='train_mnist', \n",
    "                      train=True, \n",
    "                      download=True, \n",
    "                      transform=custom_transform)\n",
    "test_dataset = MNIST(root='test_mnist', \n",
    "                     train=False, \n",
    "                     download=True,\n",
    "                     transform=custom_transform)\n",
    "\n",
    "train_loader = DataLoader(train_dataset, \n",
    "                          batch_size, \n",
    "                          collate_fn=custom_collate_fn,\n",
    "                          shuffle=True, \n",
    "                          drop_last=True)\n",
    "test_loader = DataLoader(test_dataset, \n",
    "                         batch_size, \n",
    "                         collate_fn=custom_collate_fn,\n",
    "                         shuffle=False, \n",
    "                         drop_last=True)\n",
    "\n",
    "# test\n",
    "batch_data = next(iter(train_loader))\n",
    "imgs = batch_data[0]\n",
    "lbls = batch_data[1]\n",
    "print(imgs.shape, imgs[0].dtype, lbls.shape, lbls[0].dtype)\n",
    "\n",
    "# # optimization - loading the whole dataset into memory\n",
    "train_images = jnp.array(train_dataset.data).reshape(len(train_dataset), -1)\n",
    "train_lbls = jnp.array(train_dataset.targets)\n",
    "\n",
    "test_images = jnp.array(test_dataset.data).reshape(len(test_dataset), -1)\n",
    "test_lbls = jnp.array(test_dataset.targets)"
   ]
  },
  {
   "cell_type": "code",
   "execution_count": 5,
   "id": "a224d8fd",
   "metadata": {
    "execution": {
     "iopub.execute_input": "2024-04-19T20:20:38.859731Z",
     "iopub.status.busy": "2024-04-19T20:20:38.859454Z",
     "iopub.status.idle": "2024-04-19T20:20:38.864470Z",
     "shell.execute_reply": "2024-04-19T20:20:38.863783Z"
    },
    "papermill": {
     "duration": 0.012167,
     "end_time": "2024-04-19T20:20:38.865914",
     "exception": false,
     "start_time": "2024-04-19T20:20:38.853747",
     "status": "completed"
    },
    "tags": []
   },
   "outputs": [],
   "source": [
    "def forward(params, inputs):\n",
    "    activations = inputs\n",
    "    for w, b in params[:-1]:\n",
    "        outputs = jnp.dot(activations, w) + b\n",
    "        activations = jax.nn.relu(outputs)\n",
    "\n",
    "    final_w, final_b = params[-1]\n",
    "    logits = jnp.dot(activations, final_w) + final_b\n",
    "    return logits - logsumexp(logits, axis=1, keepdims=True)"
   ]
  },
  {
   "cell_type": "code",
   "execution_count": 6,
   "id": "add91c02",
   "metadata": {
    "execution": {
     "iopub.execute_input": "2024-04-19T20:20:38.876205Z",
     "iopub.status.busy": "2024-04-19T20:20:38.875954Z",
     "iopub.status.idle": "2024-04-19T20:20:41.211142Z",
     "shell.execute_reply": "2024-04-19T20:20:41.209966Z"
    },
    "papermill": {
     "duration": 2.343486,
     "end_time": "2024-04-19T20:20:41.213770",
     "exception": false,
     "start_time": "2024-04-19T20:20:38.870284",
     "status": "completed"
    },
    "tags": []
   },
   "outputs": [],
   "source": [
    "def init_MLP(layer_widths, key, scale=0.001):\n",
    "    params = []\n",
    "    keys = jax.random.split(key, num=len(layer_widths)-1)\n",
    "    for in_width, out_width, key in zip(layer_widths[:-1], layer_widths[1:], keys):\n",
    "        weight_key, bias_key = jax.random.split(key)\n",
    "        params.append(\n",
    "            [scale * random.normal(weight_key, shape=(in_width, out_width)),\n",
    "             scale * random.normal(bias_key, shape=(out_width, ))]\n",
    "        )\n",
    "\n",
    "    return params\n",
    "\n",
    "key = jax.random.PRNGKey(seed)\n",
    "MLP_params = init_MLP([image_size[0] * image_size[1], 1024, 1024, num_classes], key)\n"
   ]
  },
  {
   "cell_type": "code",
   "execution_count": 7,
   "id": "50239a5c",
   "metadata": {
    "execution": {
     "iopub.execute_input": "2024-04-19T20:20:41.225271Z",
     "iopub.status.busy": "2024-04-19T20:20:41.224977Z",
     "iopub.status.idle": "2024-04-19T20:20:41.310652Z",
     "shell.execute_reply": "2024-04-19T20:20:41.309489Z"
    },
    "papermill": {
     "duration": 0.095155,
     "end_time": "2024-04-19T20:20:41.313844",
     "exception": false,
     "start_time": "2024-04-19T20:20:41.218689",
     "status": "completed"
    },
    "tags": []
   },
   "outputs": [],
   "source": [
    "batch_data = np.stack(jnp.split(imgs, n_devices))\n",
    "replicated_params = jax.tree_map(lambda x: np.stack([x for _ in range(n_devices)]), MLP_params)"
   ]
  },
  {
   "cell_type": "code",
   "execution_count": 8,
   "id": "817faf97",
   "metadata": {
    "execution": {
     "iopub.execute_input": "2024-04-19T20:20:41.325427Z",
     "iopub.status.busy": "2024-04-19T20:20:41.325127Z",
     "iopub.status.idle": "2024-04-19T20:20:41.756311Z",
     "shell.execute_reply": "2024-04-19T20:20:41.755046Z"
    },
    "papermill": {
     "duration": 0.439605,
     "end_time": "2024-04-19T20:20:41.758482",
     "exception": false,
     "start_time": "2024-04-19T20:20:41.318877",
     "status": "completed"
    },
    "tags": []
   },
   "outputs": [
    {
     "name": "stdout",
     "output_type": "stream",
     "text": [
      "(8, 128, 10)\n"
     ]
    }
   ],
   "source": [
    "parallel_forward = jax.pmap(forward)\n",
    "print(parallel_forward(replicated_params, batch_data).shape) # (8, 2), out is a matrix of shape (n_devices, n_data // n_devices)"
   ]
  },
  {
   "cell_type": "code",
   "execution_count": 9,
   "id": "af85a79f",
   "metadata": {
    "execution": {
     "iopub.execute_input": "2024-04-19T20:20:41.770892Z",
     "iopub.status.busy": "2024-04-19T20:20:41.770626Z",
     "iopub.status.idle": "2024-04-19T20:21:25.474405Z",
     "shell.execute_reply": "2024-04-19T20:21:25.473220Z"
    },
    "papermill": {
     "duration": 43.712075,
     "end_time": "2024-04-19T20:21:25.476373",
     "exception": false,
     "start_time": "2024-04-19T20:20:41.764298",
     "status": "completed"
    },
    "tags": []
   },
   "outputs": [
    {
     "name": "stdout",
     "output_type": "stream",
     "text": [
      "Epoch 1 in 4.52 sec, loss = 0.26211103796958923 train_acc = 0.6533499956130981 test_acc = 0.6635000109672546\n"
     ]
    },
    {
     "name": "stdout",
     "output_type": "stream",
     "text": [
      "Epoch 2 in 3.80 sec, loss = 0.10136502236127853 train_acc = 0.8719000220298767 test_acc = 0.8769999742507935\n"
     ]
    },
    {
     "name": "stdout",
     "output_type": "stream",
     "text": [
      "Epoch 3 in 3.91 sec, loss = 0.047795940190553665 train_acc = 0.9121833443641663 test_acc = 0.9138000011444092\n"
     ]
    },
    {
     "name": "stdout",
     "output_type": "stream",
     "text": [
      "Epoch 4 in 3.84 sec, loss = 0.036304499953985214 train_acc = 0.9282000064849854 test_acc = 0.9305999875068665\n"
     ]
    },
    {
     "name": "stdout",
     "output_type": "stream",
     "text": [
      "Epoch 5 in 3.78 sec, loss = 0.02930382266640663 train_acc = 0.9400833249092102 test_acc = 0.9406999945640564\n"
     ]
    },
    {
     "name": "stdout",
     "output_type": "stream",
     "text": [
      "Epoch 6 in 3.95 sec, loss = 0.0243099182844162 train_acc = 0.9508166909217834 test_acc = 0.9496999979019165\n"
     ]
    },
    {
     "name": "stdout",
     "output_type": "stream",
     "text": [
      "Epoch 7 in 3.76 sec, loss = 0.021001029759645462 train_acc = 0.9553333520889282 test_acc = 0.9540999531745911\n"
     ]
    },
    {
     "name": "stdout",
     "output_type": "stream",
     "text": [
      "Epoch 8 in 3.84 sec, loss = 0.018768660724163055 train_acc = 0.9600333571434021 test_acc = 0.9569000005722046\n"
     ]
    },
    {
     "name": "stdout",
     "output_type": "stream",
     "text": [
      "Epoch 9 in 3.84 sec, loss = 0.016259359195828438 train_acc = 0.9660833477973938 test_acc = 0.9625999927520752\n"
     ]
    },
    {
     "name": "stdout",
     "output_type": "stream",
     "text": [
      "Epoch 10 in 3.88 sec, loss = 0.01457468792796135 train_acc = 0.9695000052452087 test_acc = 0.9637999534606934\n"
     ]
    }
   ],
   "source": [
    "def loss_fn(params, images, labels):\n",
    "    preds = forward(params, images)\n",
    "    return -jnp.mean(jnp.sum(preds * labels, axis=1))\n",
    "\n",
    "@jit\n",
    "def accuracy(params, batch):\n",
    "    inputs, targets = batch\n",
    "    predicted_class = jnp.argmax(forward(params, inputs), axis=1)\n",
    "    return jnp.mean(predicted_class == targets)\n",
    "\n",
    "# function for performing one SGD update step (fwd & bwd pass)\n",
    "@functools.partial(jax.pmap, axis_name='num_devices')\n",
    "def update(params, xs, ys, lr=0.01):\n",
    "    loss, grads = jax.value_and_grad(loss_fn)(params, xs, ys)\n",
    "    grads = jax.lax.pmean(grads, axis_name='num_devices')\n",
    "    loss = jax.lax.pmean(loss, axis_name='num_devices')\n",
    "    new_params = jax.tree_map(\n",
    "      lambda param, g: param - g * lr, params, grads)\n",
    " \n",
    "    return loss / n_devices, new_params\n",
    "\n",
    "num_epochs = 10\n",
    "MLP_params = init_MLP([image_size[0] * image_size[1], 1024, 1024, num_classes], key)\n",
    "replicated_params = jax.tree_map(lambda x: np.stack([x for _ in range(n_devices)]), MLP_params)\n",
    "\n",
    "for epoch in range(num_epochs):\n",
    "    loss_l = []\n",
    "    start_time = time.time()\n",
    "    for images, labels in train_loader:\n",
    "        labels = jax.nn.one_hot(labels, num_classes)\n",
    "        images, labels = np.stack(jnp.split(images, n_devices)), np.stack(jnp.split(labels, n_devices))\n",
    "        loss, replicated_params = update(replicated_params, images, labels)\n",
    "        loss_l.append(loss)\n",
    "        epoch_time = time.time() - start_time\n",
    "    params = jax.tree_map(lambda x: x[0], replicated_params)\n",
    "    print(f\"Epoch {epoch+1} in {epoch_time:0.2f} sec, loss = {jnp.mean(jnp.array(loss_l))} \" \\\n",
    "          f\"train_acc = {accuracy(params, (train_images, train_lbls))} test_acc = {accuracy(params, (test_images, test_lbls))}\")\n",
    "\n",
    "     "
   ]
  }
 ],
 "metadata": {
  "kaggle": {
   "accelerator": "tpu1vmV38",
   "dataSources": [],
   "isGpuEnabled": false,
   "isInternetEnabled": true,
   "language": "python",
   "sourceType": "notebook"
  },
  "kernelspec": {
   "display_name": "Python 3",
   "language": "python",
   "name": "python3"
  },
  "language_info": {
   "codemirror_mode": {
    "name": "ipython",
    "version": 3
   },
   "file_extension": ".py",
   "mimetype": "text/x-python",
   "name": "python",
   "nbconvert_exporter": "python",
   "pygments_lexer": "ipython3",
   "version": "3.10.14"
  },
  "papermill": {
   "default_parameters": {},
   "duration": 91.862201,
   "end_time": "2024-04-19T20:21:28.528371",
   "environment_variables": {},
   "exception": null,
   "input_path": "__notebook__.ipynb",
   "output_path": "__notebook__.ipynb",
   "parameters": {},
   "start_time": "2024-04-19T20:19:56.666170",
   "version": "2.5.0"
  }
 },
 "nbformat": 4,
 "nbformat_minor": 5
}
