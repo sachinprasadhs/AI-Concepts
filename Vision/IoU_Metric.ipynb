{
  "nbformat": 4,
  "nbformat_minor": 0,
  "metadata": {
    "colab": {
      "provenance": [],
      "authorship_tag": "ABX9TyPwkMCRl36Ap5CvaaUyGOYQ",
      "include_colab_link": true
    },
    "kernelspec": {
      "name": "python3",
      "display_name": "Python 3"
    },
    "language_info": {
      "name": "python"
    }
  },
  "cells": [
    {
      "cell_type": "markdown",
      "metadata": {
        "id": "view-in-github",
        "colab_type": "text"
      },
      "source": [
        "<a href=\"https://colab.research.google.com/github/sachinprasadhs/AI-Concepts/blob/main/Vision/IoU_Metric.ipynb\" target=\"_parent\"><img src=\"https://colab.research.google.com/assets/colab-badge.svg\" alt=\"Open In Colab\"/></a>"
      ]
    },
    {
      "cell_type": "markdown",
      "source": [
        "# Implement IoU using JAX"
      ],
      "metadata": {
        "id": "nmYzKldj7abi"
      }
    },
    {
      "cell_type": "code",
      "execution_count": 2,
      "metadata": {
        "id": "xMyh0jGD9Paf"
      },
      "outputs": [],
      "source": [
        "import cv2\n",
        "import numpy as np\n",
        "import matplotlib.pyplot as plt\n",
        "\n",
        "import jax\n",
        "import jax.numpy as jnp"
      ]
    },
    {
      "cell_type": "code",
      "source": [
        "def plot_two_bbox(image, gt_bbox, pd_bbox):\n",
        "  # Draw the box with desired color and thickness but without filling\n",
        "  cv2.rectangle(image, (gt_bbox[0], gt_bbox[1]),\n",
        "  (gt_bbox[0] + gt_bbox[2], gt_bbox[1] + gt_bbox[3]),\n",
        "    (0, 255, 0), 1)  # Green color, thickness 1\n",
        "\n",
        "  cv2.rectangle(image, (pd_bbox[0], pd_bbox[1]),\n",
        "  (pd_bbox[0] + pd_bbox[2], pd_bbox[1] + pd_bbox[3]),\n",
        "    (255, 0, 0), 1)  # Red color, thickness 1\n",
        "\n",
        "  # Display the image\n",
        "  plt.imshow(image)\n",
        "  cv2.waitKey(0)\n",
        "  plt.axis(\"off\")\n",
        "  cv2.destroyAllWindows()"
      ],
      "metadata": {
        "id": "RQkbbxNR3aO1"
      },
      "execution_count": 3,
      "outputs": []
    },
    {
      "cell_type": "code",
      "source": [
        "# Define image (you can replace this with your image loading code)\n",
        "image = np.ones((256, 256, 3), dtype=np.uint8) * 255  # Create a white image"
      ],
      "metadata": {
        "id": "BSTF3wCZ5Jap"
      },
      "execution_count": 4,
      "outputs": []
    },
    {
      "cell_type": "markdown",
      "source": [
        "## Draw different possibilities of boxes"
      ],
      "metadata": {
        "id": "oThuJIKo7R0P"
      }
    },
    {
      "cell_type": "markdown",
      "source": [
        "### Slight Overlap"
      ],
      "metadata": {
        "id": "SpyeR9d549nw"
      }
    },
    {
      "cell_type": "code",
      "source": [
        "plot_two_bbox(image.copy(), [50, 72, 197, 121], [20, 20, 90, 120])"
      ],
      "metadata": {
        "colab": {
          "base_uri": "https://localhost:8080/",
          "height": 406
        },
        "id": "DyHCy-eG0gMZ",
        "outputId": "55fa6b2f-a6fd-44b3-9704-9946928ba0a3"
      },
      "execution_count": 5,
      "outputs": [
        {
          "output_type": "display_data",
          "data": {
            "text/plain": [
              "<Figure size 640x480 with 1 Axes>"
            ],
            "image/png": "[encoded data removed]"
          },
          "metadata": {}
        }
      ]
    },
    {
      "cell_type": "markdown",
      "source": [
        "### No Overlap"
      ],
      "metadata": {
        "id": "SJ5MZN6e5ECI"
      }
    },
    {
      "cell_type": "code",
      "source": [
        "plot_two_bbox(image.copy(), [39, 63, 203, 112], [10, 10, 40, 40])"
      ],
      "metadata": {
        "colab": {
          "base_uri": "https://localhost:8080/",
          "height": 406
        },
        "id": "tE8tIgj55ARg",
        "outputId": "ed119e69-3672-4c3c-d3c3-9ebb50173d6d"
      },
      "execution_count": 6,
      "outputs": [
        {
          "output_type": "display_data",
          "data": {
            "text/plain": [
              "<Figure size 640x480 with 1 Axes>"
            ],
            "image/png": "[encoded data removed]"
          },
          "metadata": {}
        }
      ]
    },
    {
      "cell_type": "markdown",
      "source": [
        "### Max Overlap"
      ],
      "metadata": {
        "id": "i4irI9Dw5VQ_"
      }
    },
    {
      "cell_type": "code",
      "source": [
        "plot_two_bbox(image.copy(), [49, 75, 203, 125], [42, 78, 186, 126])"
      ],
      "metadata": {
        "colab": {
          "base_uri": "https://localhost:8080/",
          "height": 406
        },
        "id": "H6bXnnrF5V3R",
        "outputId": "c5f2988e-80b2-434b-ac61-417e1cc2f002"
      },
      "execution_count": 7,
      "outputs": [
        {
          "output_type": "display_data",
          "data": {
            "text/plain": [
              "<Figure size 640x480 with 1 Axes>"
            ],
            "image/png": "[encoded data removed]"
          },
          "metadata": {}
        }
      ]
    },
    {
      "cell_type": "markdown",
      "source": [
        "### Box inside Box"
      ],
      "metadata": {
        "id": "xrPm7Xbf5g_B"
      }
    },
    {
      "cell_type": "code",
      "source": [
        "plot_two_bbox(image.copy(), [31, 69, 201, 125], [18, 63, 235, 135])"
      ],
      "metadata": {
        "colab": {
          "base_uri": "https://localhost:8080/",
          "height": 406
        },
        "id": "T9Tpr3xa5a2B",
        "outputId": "a86e0db0-aca9-4c65-df0c-da0855dad7f8"
      },
      "execution_count": 8,
      "outputs": [
        {
          "output_type": "display_data",
          "data": {
            "text/plain": [
              "<Figure size 640x480 with 1 Axes>"
            ],
            "image/png": "[encoded data removed]"
          },
          "metadata": {}
        }
      ]
    },
    {
      "cell_type": "markdown",
      "source": [
        "### Max Overlap 2"
      ],
      "metadata": {
        "id": "3hKPVNoB5plg"
      }
    },
    {
      "cell_type": "code",
      "source": [
        "plot_two_bbox(image.copy(), [50, 72, 197, 121], [54, 72, 198, 120])"
      ],
      "metadata": {
        "colab": {
          "base_uri": "https://localhost:8080/",
          "height": 406
        },
        "id": "tjnhV-VB5jAY",
        "outputId": "b1ffae86-4b4d-4a7f-b95a-0b5a21b4d7a1"
      },
      "execution_count": 9,
      "outputs": [
        {
          "output_type": "display_data",
          "data": {
            "text/plain": [
              "<Figure size 640x480 with 1 Axes>"
            ],
            "image/png": "[encoded data removed]"
          },
          "metadata": {}
        }
      ]
    },
    {
      "cell_type": "markdown",
      "source": [
        "## Intersection Over Union(IoU)\n",
        "\n",
        "$$ IoU = \\dfrac{area \\, of \\, overlap}{area\\ of\\ union} $$\n",
        "\n",
        "<img src=\"https://machinelearningspace.com/wp-content/uploads/2023/01/IOU2.jpg\"/>\n",
        "\n",
        "\n",
        "Okay, let's now breakdown the problem and solve it step by step.\n",
        "* We need intersection area of the two bounding boxes.\n",
        "* $Area \\,\\,of \\,\\,Overlap → A\\cap B$ (Numerator):\n",
        "  * Taking `maxmimum` of `x-coordinates` and `y-coordinates` which is basically top left corner of the intersection.\n",
        "  * Taking `minumum` of `x-coordinates` and `y-coordinates`which is basically bottom right corner of the intersection.\n",
        "* $Area \\,\\,of \\,\\,Union → A\\cup B$ (Denominator):\n",
        "  * $Area \\,of \\,BBox1 + Area \\,of \\,BBox2 - A \\cap B$\n",
        "\n",
        "* Now if intersection fo boxes `zero` would be a edge case in that scenario values may become less than zero values.\n",
        "\n",
        "\n",
        "* [img-ref](https://machinelearningspace.com/intersection-over-union-iou-a-comprehensive-guide/)"
      ],
      "metadata": {
        "id": "RKEP7E9r7GwM"
      }
    },
    {
      "cell_type": "code",
      "source": [
        "from typing import Union, List, Any, NoReturn\n",
        "import numpy as jnp\n",
        "\n",
        "def iou(gt_boxes: Union[List[int], jnp.ndarray], boxes: Union[List[int], jnp.ndarray]) -> jnp.ndarray:\n",
        "  \"\"\"\n",
        "  Calculates the Intersection over Union (IoU) between ground truth boxes and predicted boxes.\n",
        "\n",
        "  Args:\n",
        "      gt_boxes: A list of integers or a NumPy array of shape (num_boxes, 4) representing the ground truth bounding boxes.\n",
        "                 Each box is represented by top-left (x1, y1) and bottom-right (x2, y2) coordinates.\n",
        "      boxes: A list of integers or a NumPy array of shape (num_boxes, 4) representing the predicted bounding boxes.\n",
        "             Each box is represented by top-left (x1, y1) and bottom-right (x2, y2) coordinates.\n",
        "\n",
        "  Returns:\n",
        "      A NumPy array of shape (num_boxes,) containing the IoU values for each pair of ground truth and predicted box.\n",
        "      In case of division by zero (no intersection), the corresponding IoU value will be zero.\n",
        "  \"\"\"\n",
        "\n",
        "  # Split coordinates for efficient calculation\n",
        "  x11, y11, x12, y12 = jnp.split(gt_boxes, 4, axis=-1)\n",
        "  x21, y21, x22, y22 = jnp.split(boxes, 4, axis=-1)\n",
        "\n",
        "  # Calculate overlapping area\n",
        "  x1, y1 = jnp.maximum(x11, jnp.transpose(x21)), jnp.maximum(y11, jnp.transpose(y21))\n",
        "  x2, y2 = jnp.minimum(x12, jnp.transpose(x22)), jnp.minimum(y12, jnp.transpose(y22))\n",
        "  intersection_areas = jnp.maximum(0, (y2 - y1)) * jnp.maximum(0, (x2 - x1))\n",
        "\n",
        "  # Calculate areas of ground truth and predicted boxes\n",
        "  gt_boxes_areas = (x12 - x11) * (y12 - y11)\n",
        "  boxes_areas = (x22 - x21) * (y22 - y21)\n",
        "\n",
        "  # Calculate union areas and handle division by zero\n",
        "  unions = gt_boxes_areas + boxes_areas.reshape(1, -1) - intersection_areas\n",
        "\n",
        "  # Create a maks for intersection area for zero and non-zero values,\n",
        "  # now divide if there are non zero intersection or\n",
        "  # else make the elements zeros without any division.\n",
        "  iou = jnp.where(\n",
        "      jnp.equal(intersection_areas, 0.0),\n",
        "      jnp.zeros_like(intersection_areas),\n",
        "      jnp.true_divide(intersection_areas, unions)\n",
        "  )\n",
        "  return iou\n"
      ],
      "metadata": {
        "id": "keXmqHZ37Ph6"
      },
      "execution_count": 70,
      "outputs": []
    },
    {
      "cell_type": "code",
      "source": [
        "gt_boxes = jnp.array([\n",
        "    [50, 72, 197, 121],\n",
        "    [39, 63, 203, 112],\n",
        "    [49, 75, 203, 125],\n",
        "    [31, 69, 201, 125],\n",
        "    [50, 72, 197, 121]\n",
        "]) # (Batch_Size, 4)\n",
        "\n",
        "boxes = jnp.array([\n",
        "    [20, 20, 90, 120],\n",
        "    [10, 10, 40, 40],\n",
        "    [42, 78, 186, 126],\n",
        "    [18, 63, 235, 135],\n",
        "    [54, 72, 198, 120]\n",
        "])\n",
        "\n",
        "iou_scores = iou(gt_boxes, boxes)\n",
        "\n",
        "print(f\"Iou Scores:\\n {iou_scores * 100}\")"
      ],
      "metadata": {
        "colab": {
          "base_uri": "https://localhost:8080/"
        },
        "id": "rPlpJ8rtVLm0",
        "outputId": "05399c30-4d78-47a5-eb52-bb9d527055e7"
      },
      "execution_count": 71,
      "outputs": [
        {
          "output_type": "stream",
          "name": "stdout",
          "text": [
            "Iou Scores:\n",
            " [[15.63136042  0.         70.7390831  46.10215054 94.66280513]\n",
            " [19.93299832  0.         48.70672503 51.43369176 62.69046582]\n",
            " [14.35239207  0.         78.78380032 49.28315412 79.68519429]\n",
            " [22.27074236  0.         70.03311258 60.93189964 72.60504202]\n",
            " [15.63136042  0.         70.7390831  46.10215054 94.66280513]]\n"
          ]
        }
      ]
    }
  ]
}